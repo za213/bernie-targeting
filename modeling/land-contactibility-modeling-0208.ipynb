{
 "cells": [
  {
   "cell_type": "code",
   "execution_count": 1,
   "metadata": {
    "collapsed": true
   },
   "outputs": [],
   "source": [
    "import os\n",
    "import io\n",
    "import datetime\n",
    "import logging\n",
    "import sys\n",
    "\n",
    "import numpy as np\n",
    "import pandas as pd\n",
    "from pandas.io.json import json_normalize \n",
    "\n",
    "import civis\n",
    "import civis.io\n",
    "from civis.futures import CivisFuture\n",
    "\n",
    "from sklearn.linear_model import LogisticRegression\n",
    "from sklearn.ensemble import RandomForestClassifier, RandomForestRegressor, GradientBoostingClassifier, RandomForestRegressor\n",
    "from civis.ml import ModelPipeline\n",
    "\n",
    "import uuid\n",
    "import json\n",
    "from pprint import pprint\n",
    "import tempfile\n",
    "import concurrent.futures\n",
    "from concurrent.futures import wait\n",
    "from collections import namedtuple"
   ]
  },
  {
   "cell_type": "code",
   "execution_count": 2,
   "metadata": {
    "collapsed": true
   },
   "outputs": [],
   "source": [
    "# Default feature lists for Rainbow Modeling Frame (each number corresponds to number of features)\n",
    "feature_table = civis.io.read_civis_sql(sql='select * from bernie_nmarchio2.feature_list order by sort_order asc', use_pandas = True, database='Bernie 2020')\n",
    "feature_list_large = list(feature_table[(feature_table['frame_large'] == 1)]['feature_name']) + ['state_code']\n",
    "feature_list_medium = list(feature_table[(feature_table['frame_medium'] == 1)]['feature_name']) + ['state_code']\n",
    "feature_list_small = list(feature_table[(feature_table['frame_small'] == 1)]['feature_name']) + ['state_code']\n",
    "\n",
    "additional_features = ['attempt_count', 'num_phones_1', 'num_phones_2', 'num_phones_3', 'num_phones_other']\n",
    "\n",
    "feature_list_large.extend(additional_features)\n",
    "feature_list_medium.extend(additional_features)\n",
    "feature_list_small.extend(additional_features)\n",
    "\n",
    "table_columns = civis.io.read_civis_sql(\n",
    "    sql=f'''select ordinal_position as position, column_name, data_type \n",
    "    from information_schema.columns \n",
    "    where table_name = 'rainbow_modeling_frame' and table_schema = 'bernie_data_commons' and column_name != 'person_id'\n",
    "    order by ordinal_position;''', use_pandas = True, database='Bernie DS')\n",
    "\n",
    "#exclusion_list_466 = [e for e in list(table_columns['column_name']) if e not in feature_list_466] "
   ]
  },
  {
   "cell_type": "code",
   "execution_count": 3,
   "metadata": {},
   "outputs": [
    {
     "data": {
      "text/plain": [
       "204"
      ]
     },
     "execution_count": 3,
     "metadata": {},
     "output_type": "execute_result"
    }
   ],
   "source": [
    "len(feature_list_small)"
   ]
  },
  {
   "cell_type": "code",
   "execution_count": 4,
   "metadata": {
    "collapsed": true
   },
   "outputs": [],
   "source": [
    "# USER INPUT CELL\n",
    "\n",
    "# DV table parameters\n",
    "DATABASE = 'Bernie DS'\n",
    "# Primary key in both the DV table and the Modeling Frame\n",
    "PRIMARY_KEY = 'person_id' \n",
    "# Table containing recoded Dependent Variables keyed to the PRIMARY_KEY\n",
    "DV_TABLE = 'bernie_cherdeman.contactibility_outcomes_land'\n",
    "# List of binarized dependent variables (accepts 1, 0, and null values) in DV_TABLE\n",
    "DV_LIST = [ 'pickup_last'] # 'pickup_first', 'id_first',, 'id_last'\n",
    "\n",
    "\n",
    "# Modeling frame table parameters\n",
    "# Table containing covariates and keyed to PRIMARY_KEY\n",
    "MODELING_FRAME = 'bernie_cherdeman.contactibility_modeling_frame_land'\n",
    "# Columns in the Modeling Frame to exclude from feature list (i.e., strings or incomplete coverage)\n",
    "EXCLUSION_COLUMNS = ['jsonid','state_code','census_block_group_2010', 'person_id', 'us_region', \n",
    "                     'pickup_first', 'pickup_last', 'pickup_ever', 'id_first', 'id_last', 'id_ever', 'is_cell_phone'\n",
    "                    ,'civis_2020_race_native'\n",
    "                    ,'civis_2020_race_black'\n",
    "                    ,'civis_2020_race_latinx'\n",
    "                    ,'civis_2020_race_asian'\n",
    "                    ,'civis_2020_race_white'\n",
    "                    ,'civis_2020_subeth_african_american'\n",
    "                    ,'civis_2020_subeth_west_indian'\n",
    "                    ,'civis_2020_subeth_haitian'\n",
    "                    ,'civis_2020_subeth_african'\n",
    "                    ,'civis_2020_subeth_other_black'\n",
    "                    ,'civis_2020_subeth_mexican'\n",
    "                    ,'civis_2020_subeth_cuban'\n",
    "                    ,'civis_2020_subeth_puerto_rican'\n",
    "                    ,'civis_2020_subeth_dominican'\n",
    "                    ,'civis_2020_subeth_other_latin_american'\n",
    "                    ,'civis_2020_subeth_other_hispanic'\n",
    "                    ,'civis_2020_subeth_chinese'\n",
    "                    ,'civis_2020_subeth_indian'\n",
    "                    ,'civis_2020_subeth_filipino'\n",
    "                    ,'civis_2020_subeth_japanese'\n",
    "                    ,'civis_2020_subeth_vietnamese'\n",
    "                    ,'civis_2020_subeth_korean'\n",
    "                    ,'civis_2020_subeth_other_asian'\n",
    "                    ,'civis_2020_subeth_hmong'\n",
    "                    ,'civis_2020_cultural_religion_jewish'\n",
    "                    ,'civis_2020_cultural_religion_mormon'\n",
    "                    ,'civis_2020_cultural_religion_muslim'\n",
    "                    ,'civis_2020_cultural_religion_catholic'\n",
    "                    ,'civis_2020_cultural_religion_evangelical'\n",
    "                    ,'civis_2020_cultural_religion_mainline_protestant'\n",
    "                    ,'civis_2020_cultural_religion_hindu'\n",
    "                    ,'civis_2020_cultural_religion_buddhist'\n",
    "                    , 'religion_muslim'\n",
    "                    ,'eth_white'\n",
    "                    ,'eth_asian'\n",
    "                    ,'eth_afam'\n",
    "                    ,'eth_hispanic'\n",
    "                    ,'eth_native'\n",
    "                    ,'income_0k_25k'\n",
    "                    ,'income_25k_50k'\n",
    "                    ,'income_50k_100k'\n",
    "                    ,'income_100k_150k'\n",
    "                    ,'income_150k_plus']\n",
    "# Output table parameters\n",
    "# Schema to contain prediction tables\n",
    "SCHEMA = 'bernie_cherdeman'\n",
    "# String that will be concatenated in front of the output table's name\n",
    "PREFIX = 'getthru'\n",
    "\n",
    "# Sampling parameters\n",
    "# Non-response training data\n",
    "    # True: automatically select people not in DV_TABLE at random from Phoenix (assumes person_id is PRIMARY_KEY)\n",
    "    # False: automatically select people where the DV equals 0 from the DV_TABLE\n",
    "SAMPLE_FROM_PHOENIX = False\n",
    "# Number of non-response classes per target class (default is 2) \n",
    "CLASS_BALANCE = 2\n",
    "# Maximum number of targets to randomly sample from DV_TABLE\n",
    "MAX_TARGET_COUNT = 40000"
   ]
  },
  {
   "cell_type": "code",
   "execution_count": 5,
   "metadata": {
    "collapsed": true
   },
   "outputs": [],
   "source": [
    "datestamp = '{:%Y%m%d}'.format(datetime.date.today())"
   ]
  },
  {
   "cell_type": "code",
   "execution_count": 6,
   "metadata": {
    "collapsed": true
   },
   "outputs": [],
   "source": [
    "# Counts of positive classes\n",
    "dv_sql_targets = \"\\n,\".join([\"sum({dv}) as {dv}\".format(dv=i) for i in DV_LIST])\n",
    "sql_collapse_targets = f\"\"\"select {dv_sql_targets} from {DV_TABLE};\"\"\"\n",
    "sql_count_targets = civis.io.read_civis_sql(sql_collapse_targets, DATABASE)\n"
   ]
  },
  {
   "cell_type": "code",
   "execution_count": 7,
   "metadata": {},
   "outputs": [
    {
     "data": {
      "text/plain": [
       "[['pickup_last'], ['68497']]"
      ]
     },
     "execution_count": 7,
     "metadata": {},
     "output_type": "execute_result"
    }
   ],
   "source": [
    "sql_count_targets"
   ]
  },
  {
   "cell_type": "code",
   "execution_count": 12,
   "metadata": {
    "collapsed": true
   },
   "outputs": [],
   "source": [
    "# Determing training table proportion of positives to negatives (to avoid class imbalance problems)\n",
    "# sample_share = []\n",
    "# for i in range(len(DV_LIST)):\n",
    "#     if int(sql_count_targets[1][i]) > MAX_TARGET_COUNT:\n",
    "#         sql_count_targets[1][i] = MAX_TARGET_COUNT\n",
    "#     u = round(int(sql_count_targets[1][i])*CLASS_BALANCE)\n",
    "#     sample_share.append(u)      "
   ]
  },
  {
   "cell_type": "code",
   "execution_count": 13,
   "metadata": {
    "collapsed": true
   },
   "outputs": [],
   "source": [
    "# for i in range(len(DV_LIST)):\n",
    "#     dv_item = DV_LIST[i]\n",
    "#     random_sample = sample_share[i]\n",
    "#     if SAMPLE_FROM_PHOENIX is True:\n",
    "#         zero_sample = f'''(select p.person_id, 0 as {dv_item} from phoenix_analytics.person p left join (select person_id from {DV_TABLE}) d on p.person_id = d.person_id where d.person_id is null and is_deceased = false and reg_record_merged = false and reg_on_current_file = true and reg_voter_flag = true order by random() limit {random_sample})'''   \n",
    "#     if SAMPLE_FROM_PHOENIX is False:\n",
    "#         zero_sample = f'''(select {PRIMARY_KEY}, {dv_item} from {DV_TABLE} where {dv_item} = 0 order by random() limit {random_sample})'''\n"
   ]
  },
  {
   "cell_type": "code",
   "execution_count": 14,
   "metadata": {},
   "outputs": [
    {
     "name": "stdout",
     "output_type": "stream",
     "text": [
      "South Atlantic done\n",
      "New England done\n",
      "Pacific done\n",
      "West South Central done\n",
      "East Midwest done\n",
      "West Midwest done\n",
      "Other done\n",
      "East South Central done\n",
      "Mountain done\n"
     ]
    }
   ],
   "source": [
    "# Create training tables\n",
    "#for i, dv_item in enumerate(DV_LIST):\n",
    "#     if (int(sql_count_targets[1][i])*3) <= 1000:\n",
    "    #feature_select = \"\\n,\".join([\"{feature}\".format(feature=f) for f in feature_list_small])\n",
    "#     if (int(sql_count_targets[1][i])*3) > 1000 & (int(sql_count_targets[1][i])*3) <= 2000:\n",
    "         \n",
    "    #feature_select = \"\\n,\".join([\"{feature}\".format(feature=f) for f in feature_list_medium])\n",
    "#     if (int(sql_count_targets[1][i])*3) > 2000:\n",
    "    #feature_select = \"\\n,\".join([\"{feature}\".format(feature=f) for f in feature_list_large])\n",
    "    #dv_item = DV_LIST[i]\n",
    "#print(dv_item)\n",
    "#     random_sample = sample_share[i]\n",
    "#     if SAMPLE_FROM_PHOENIX is True:\n",
    "#         zero_sample = f'''(select p.person_id, 0 as {dv_item} from phoenix_analytics.person p left join (select person_id from {DV_TABLE}) d on p.person_id = d.person_id where d.person_id is null and is_deceased = false and reg_record_merged = false and reg_on_current_file = true and reg_voter_flag = true order by random() limit {random_sample})'''   \n",
    "#     if SAMPLE_FROM_PHOENIX is False:\n",
    "#         zero_sample = f'''(select {PRIMARY_KEY}, {dv_item} from {DV_TABLE} where {dv_item} = 0 order by random() limit {random_sample})'''\n",
    "feature_select = \"\\n,\".join([\"{feature}\".format(feature=f) for f in feature_list_small])\n",
    "dvs = \"\\n,\".join([\"{dv}\".format(dv=d) for d in DV_LIST])\n",
    "\n",
    "regions = ['South Atlantic',\n",
    "            'New England',\n",
    "            'Pacific',\n",
    "            'West South Central',\n",
    "            'East Midwest',\n",
    "            'West Midwest',\n",
    "            'Other',\n",
    "            'East South Central',\n",
    "            'Mountain']\n",
    "\n",
    "for i, region in enumerate(regions):\n",
    "\n",
    "    training_sql = f\"\"\"DROP TABLE IF EXISTS {SCHEMA}.{PREFIX}_land_training_{i} CASCADE;\n",
    "                           CREATE TABLE {SCHEMA}.{PREFIX}_land_training_{i} DISTKEY({PRIMARY_KEY}) SORTKEY({PRIMARY_KEY}) AS (\n",
    "                               select * \n",
    "                               from (select {PRIMARY_KEY}, {dvs} \n",
    "                                   from {DV_TABLE}\n",
    "                                   where stratification < 5000\n",
    "                                   and us_region = '{region}')\n",
    "                               join (select {PRIMARY_KEY}, {feature_select}\n",
    "                                     from {MODELING_FRAME}\n",
    "                                     where us_region = '{region}')\n",
    "                               using({PRIMARY_KEY})\n",
    "                               );\"\"\"\n",
    "    #print(training_sql)\n",
    "    create_training_sql = civis.io.query_civis(training_sql, database=DATABASE)\n",
    "    create_training_sql.result().state\n",
    "    print(f\"{region} done\")\n",
    "    "
   ]
  },
  {
   "cell_type": "code",
   "execution_count": 15,
   "metadata": {},
   "outputs": [
    {
     "data": {
      "text/plain": [
       "'succeeded'"
      ]
     },
     "execution_count": 15,
     "metadata": {},
     "output_type": "execute_result"
    }
   ],
   "source": [
    "#combine training sets into view\n",
    "training_sql = f\"\"\"drop view if exists {SCHEMA}.{PREFIX}_training_land;\n",
    "                   create view {SCHEMA}.{PREFIX}_training_land as (\n",
    "                        (select * from {SCHEMA}.{PREFIX}_land_training_0)\n",
    "                        union\n",
    "                        (select * from {SCHEMA}.{PREFIX}_land_training_1)\n",
    "                        union\n",
    "                        (select * from {SCHEMA}.{PREFIX}_land_training_2)\n",
    "                        union\n",
    "                        (select * from {SCHEMA}.{PREFIX}_land_training_3)\n",
    "                        union\n",
    "                        (select * from {SCHEMA}.{PREFIX}_land_training_4)\n",
    "                        union\n",
    "                        (select * from {SCHEMA}.{PREFIX}_land_training_5)\n",
    "                        union\n",
    "                        (select * from {SCHEMA}.{PREFIX}_land_training_6)\n",
    "                        union\n",
    "                        (select * from {SCHEMA}.{PREFIX}_land_training_7)\n",
    "                        union\n",
    "                        (select * from {SCHEMA}.{PREFIX}_land_training_8)\n",
    "                    );\n",
    "                   \"\"\"\n",
    "combined_training_sql = civis.io.query_civis(training_sql, database=DATABASE)\n",
    "combined_training_sql.result().state"
   ]
  },
  {
   "cell_type": "code",
   "execution_count": 16,
   "metadata": {},
   "outputs": [
    {
     "name": "stdout",
     "output_type": "stream",
     "text": [
      "TRAINING >>> pickup_last\n"
     ]
    }
   ],
   "source": [
    "# Train models\n",
    "train_list = []\n",
    "model_list = []\n",
    "\n",
    "for i, dv in enumerate(DV_LIST):\n",
    "    print('TRAINING >>> {}'.format(dv))\n",
    "    \n",
    "    exc_list = DV_LIST.copy()\n",
    "    exc_list.remove(dv)\n",
    "    \n",
    "    assert dv not in exc_list \n",
    "    \n",
    "    for m in ['random_forest_classifier', 'sparse_logistic']:\n",
    "    \n",
    "        name = f\"\"\"{dv}_{m}_land_{datestamp}\"\"\"\n",
    "        model = ModelPipeline(model=m,\n",
    "                              dependent_variable=dv,\n",
    "                              primary_key=PRIMARY_KEY,\n",
    "                              excluded_columns=EXCLUSION_COLUMNS,\n",
    "                              #calibration='sigmoid',\n",
    "                              model_name=name,\n",
    "                              memory_requested=15000#,\n",
    "                              #disk_requested=5\n",
    "                             )\n",
    "    \n",
    "        where_string = '{} is not null'.format(dv)\n",
    "        # Use \n",
    "        train = model.train(table_name=f\"\"\"{SCHEMA}.{PREFIX}_training_land\"\"\", \n",
    "                            database_name=DATABASE,\n",
    "                            sql_where=where_string#,\n",
    "                            #fit_params={'sample_weight': WEIGHT_VAR}\n",
    "                           )\n",
    "\n",
    "        model_list.append(model)\n",
    "        train_list.append(train) \n",
    "\n",
    "# name = f\"\"\"multioutcome_rf_{datestamp}\"\"\"\n",
    "# model = ModelPipeline(model='random_forest_classifier',\n",
    "#                       dependent_variable=DV_LIST,\n",
    "#                       primary_key=PRIMARY_KEY,\n",
    "#                       excluded_columns=EXCLUSION_COLUMNS,\n",
    "#                       #calibration='sigmoid',\n",
    "#                       model_name=name,\n",
    "#                       memory_requested=15000#,\n",
    "#                       #disk_requested=5\n",
    "#                      )\n",
    "\n",
    "# train = model.train(table_name=f\"\"\"{SCHEMA}.{PREFIX}_training\"\"\", \n",
    "#                     database_name=DATABASE,\n",
    "#                     sql_where='''where pickup_first is not null \n",
    "#                                  and pickup_last is not null\n",
    "#                                  and pickup_ever is not null\n",
    "#                                  and id_first is not null\n",
    "#                                  and id_last is not null\n",
    "#                                  and id_ever is not null'''#,\n",
    "#                     #fit_params={'sample_weight': WEIGHT_VAR}\n",
    "#                    )\n",
    "\n",
    "# model_list.append(model)\n",
    "# train_list.append(train)\n"
   ]
  },
  {
   "cell_type": "code",
   "execution_count": 17,
   "metadata": {},
   "outputs": [
    {
     "data": {
      "text/plain": [
       "<ModelFuture at 0x1120ef978 state=running>"
      ]
     },
     "execution_count": 17,
     "metadata": {},
     "output_type": "execute_result"
    }
   ],
   "source": [
    "train_list[0]"
   ]
  },
  {
   "cell_type": "code",
   "execution_count": 33,
   "metadata": {
    "collapsed": true
   },
   "outputs": [],
   "source": [
    "# name = f\"\"\"multioutcome_rf_{datestamp}_v4\"\"\"\n",
    "# model = ModelPipeline(model='random_forest_classifier',\n",
    "#                       dependent_variable=DV_LIST,\n",
    "#                       primary_key=PRIMARY_KEY,\n",
    "#                       excluded_columns=EXCLUSION_COLUMNS,\n",
    "#                       #calibration='sigmoid',\n",
    "#                       model_name=name,\n",
    "#                       memory_requested=15000#,\n",
    "#                       #disk_requested=5\n",
    "#                      )\n",
    "\n",
    "# train = model.train(table_name=f\"\"\"{SCHEMA}.{PREFIX}_training\"\"\", \n",
    "#                     database_name=DATABASE,\n",
    "#                     sql_where='''pickup_first is not null \n",
    "#                                  and pickup_last is not null\n",
    "#                                  and pickup_ever is not null\n",
    "#                                  and id_first is not null\n",
    "#                                  and id_last is not null\n",
    "#                                  and id_ever is not null'''#,\n",
    "#                     #fit_params={'sample_weight': WEIGHT_VAR}\n",
    "#                    )\n",
    "\n",
    "# model_list.append(model)\n",
    "# train_list.append(train)"
   ]
  },
  {
   "cell_type": "code",
   "execution_count": 18,
   "metadata": {},
   "outputs": [
    {
     "data": {
      "text/plain": [
       "2"
      ]
     },
     "execution_count": 18,
     "metadata": {},
     "output_type": "execute_result"
    }
   ],
   "source": [
    "len(train_list)"
   ]
  },
  {
   "cell_type": "code",
   "execution_count": 19,
   "metadata": {},
   "outputs": [
    {
     "name": "stdout",
     "output_type": "stream",
     "text": [
      "Job success\n",
      "Job success\n"
     ]
    }
   ],
   "source": [
    "# Extract successful models\n",
    "model_output = model_list\n",
    "train_output = train_list\n",
    "\n",
    "jobs_list = []\n",
    "for t in train_output: \n",
    "    try:\n",
    "        if len(t.metadata['output']) > 0:  \n",
    "            jobs_list.append(t)\n",
    "            print('Job success')\n",
    "    except:\n",
    "        print('Job failure')\n",
    "        pass\n",
    "\n",
    "    \n",
    "model_output, train_output = zip(*((m, t) for m, t in zip(model_output, train_output) if t in jobs_list))\n",
    "model_output = list(model_output)\n",
    "train_output = list(train_output)"
   ]
  },
  {
   "cell_type": "code",
   "execution_count": 20,
   "metadata": {},
   "outputs": [
    {
     "name": "stdout",
     "output_type": "stream",
     "text": [
      "2\n",
      "2\n"
     ]
    }
   ],
   "source": [
    "print(len(jobs_list))\n",
    "print(len(model_output))"
   ]
  },
  {
   "cell_type": "code",
   "execution_count": 21,
   "metadata": {},
   "outputs": [
    {
     "data": {
      "text/html": [
       "<div>\n",
       "<style scoped>\n",
       "    .dataframe tbody tr th:only-of-type {\n",
       "        vertical-align: middle;\n",
       "    }\n",
       "\n",
       "    .dataframe tbody tr th {\n",
       "        vertical-align: top;\n",
       "    }\n",
       "\n",
       "    .dataframe thead th {\n",
       "        text-align: right;\n",
       "    }\n",
       "</style>\n",
       "<table border=\"1\" class=\"dataframe\">\n",
       "  <thead>\n",
       "    <tr style=\"text-align: right;\">\n",
       "      <th></th>\n",
       "      <th>job_id</th>\n",
       "      <th>dv</th>\n",
       "      <th>model</th>\n",
       "      <th>time_of_train_run</th>\n",
       "      <th>n_rows</th>\n",
       "      <th>n_features</th>\n",
       "      <th>auc</th>\n",
       "      <th>deciles</th>\n",
       "      <th>confusion_matrix</th>\n",
       "      <th>accuracy</th>\n",
       "      <th>p_correct</th>\n",
       "      <th>pop_incidence_true</th>\n",
       "      <th>feature_list</th>\n",
       "    </tr>\n",
       "    <tr>\n",
       "      <th>run_id</th>\n",
       "      <th></th>\n",
       "      <th></th>\n",
       "      <th></th>\n",
       "      <th></th>\n",
       "      <th></th>\n",
       "      <th></th>\n",
       "      <th></th>\n",
       "      <th></th>\n",
       "      <th></th>\n",
       "      <th></th>\n",
       "      <th></th>\n",
       "      <th></th>\n",
       "      <th></th>\n",
       "    </tr>\n",
       "  </thead>\n",
       "  <tbody>\n",
       "    <tr>\n",
       "      <th>209330024</th>\n",
       "      <td>61465397</td>\n",
       "      <td>pickup_last</td>\n",
       "      <td>random_forest_classifier</td>\n",
       "      <td>2020-02-08T16:39:02Z</td>\n",
       "      <td>58477</td>\n",
       "      <td>160</td>\n",
       "      <td>0.733126</td>\n",
       "      <td>[0.11935704514363885, 0.19018299982897213, 0.2...</td>\n",
       "      <td>[[26865, 5839], [13505, 12268]]</td>\n",
       "      <td>0.669203</td>\n",
       "      <td>[0.8214591487279843, 0.4760020176153339]</td>\n",
       "      <td>[0.5592626160712759, 0.44073738392872414]</td>\n",
       "      <td>[civis_2020_marriage, civis_2020_children_pres...</td>\n",
       "    </tr>\n",
       "    <tr>\n",
       "      <th>209330034</th>\n",
       "      <td>61465402</td>\n",
       "      <td>pickup_last</td>\n",
       "      <td>sparse_logistic</td>\n",
       "      <td>2020-02-08T16:38:10Z</td>\n",
       "      <td>58477</td>\n",
       "      <td>160</td>\n",
       "      <td>0.734928</td>\n",
       "      <td>[0.12311901504787962, 0.20557550880793568, 0.2...</td>\n",
       "      <td>[[24908, 7796], [11157, 14616]]</td>\n",
       "      <td>0.675890</td>\n",
       "      <td>[0.761619373776908, 0.567105109998836]</td>\n",
       "      <td>[0.5592626160712759, 0.44073738392872414]</td>\n",
       "      <td>[civis_2020_children_present, civis_2020_ideol...</td>\n",
       "    </tr>\n",
       "  </tbody>\n",
       "</table>\n",
       "</div>"
      ],
      "text/plain": [
       "             job_id           dv                     model  \\\n",
       "run_id                                                       \n",
       "209330024  61465397  pickup_last  random_forest_classifier   \n",
       "209330034  61465402  pickup_last           sparse_logistic   \n",
       "\n",
       "              time_of_train_run  n_rows  n_features       auc  \\\n",
       "run_id                                                          \n",
       "209330024  2020-02-08T16:39:02Z   58477         160  0.733126   \n",
       "209330034  2020-02-08T16:38:10Z   58477         160  0.734928   \n",
       "\n",
       "                                                     deciles  \\\n",
       "run_id                                                         \n",
       "209330024  [0.11935704514363885, 0.19018299982897213, 0.2...   \n",
       "209330034  [0.12311901504787962, 0.20557550880793568, 0.2...   \n",
       "\n",
       "                          confusion_matrix  accuracy  \\\n",
       "run_id                                                 \n",
       "209330024  [[26865, 5839], [13505, 12268]]  0.669203   \n",
       "209330034  [[24908, 7796], [11157, 14616]]  0.675890   \n",
       "\n",
       "                                          p_correct  \\\n",
       "run_id                                                \n",
       "209330024  [0.8214591487279843, 0.4760020176153339]   \n",
       "209330034    [0.761619373776908, 0.567105109998836]   \n",
       "\n",
       "                                  pop_incidence_true  \\\n",
       "run_id                                                 \n",
       "209330024  [0.5592626160712759, 0.44073738392872414]   \n",
       "209330034  [0.5592626160712759, 0.44073738392872414]   \n",
       "\n",
       "                                                feature_list  \n",
       "run_id                                                        \n",
       "209330024  [civis_2020_marriage, civis_2020_children_pres...  \n",
       "209330034  [civis_2020_children_present, civis_2020_ideol...  "
      ]
     },
     "execution_count": 21,
     "metadata": {},
     "output_type": "execute_result"
    }
   ],
   "source": [
    "# Generate validation metrics\n",
    "metrics_list = []\n",
    "\n",
    "for b in train_output:\n",
    "    if b.job_id != 59761951:\n",
    "        metric = {'job_id':b.job_id,\n",
    "                  'run_id':b.run_id,\n",
    "                  'dv': ''.join(b.metadata['run']['configuration']['data']['y']),\n",
    "                  'model': b.metadata['model']['model'],\n",
    "                  'time_of_train_run': b.metadata['run']['time_of_run'],\n",
    "                  'n_rows': b.metadata['data']['n_rows'],\n",
    "                  'n_features': b.metadata['data']['n_cols'],\n",
    "                  'auc': b.metadata['metrics']['roc_auc'],\n",
    "                  'deciles': b.metadata['metrics']['deciles'],\n",
    "                  'confusion_matrix': b.metadata['metrics']['confusion_matrix'],\n",
    "                  'accuracy': b.metadata['metrics']['accuracy'],\n",
    "                  'p_correct': b.metadata['metrics']['p_correct'],\n",
    "                  'pop_incidence_true': b.metadata['metrics']['pop_incidence_true'],\n",
    "                  'feature_list':b.metadata['model']['parameters']['relvars']\n",
    "                 }\n",
    "        metrics_list.append(metric)\n",
    "    \n",
    "metric_order = (['job_id', 'run_id', 'dv', 'model', 'time_of_train_run', 'n_rows', 'n_features',\n",
    "                 'auc', 'deciles', 'confusion_matrix', 'accuracy', 'p_correct','pop_incidence_true','feature_list'])\n",
    "\n",
    "validation_df = pd.DataFrame.from_records(metrics_list, columns=metric_order, index='run_id')\n",
    "validation_df"
   ]
  },
  {
   "cell_type": "code",
   "execution_count": 22,
   "metadata": {
    "collapsed": true
   },
   "outputs": [],
   "source": [
    "# Write validation metrics to Redshift\n",
    "create_validation_table = civis.io.dataframe_to_civis(df=validation_df,\n",
    "                                                 database=DATABASE, \n",
    "                                                 table= f'{SCHEMA}.{PREFIX}_validation_land_{datestamp}', \n",
    "                                                 existing_table_rows='drop')\n"
   ]
  },
  {
   "cell_type": "code",
   "execution_count": 10,
   "metadata": {},
   "outputs": [
    {
     "name": "stdout",
     "output_type": "stream",
     "text": [
      "pickup_last random_forest_classifier\n"
     ]
    },
    {
     "ename": "ModelError",
     "evalue": "Model run failed with stack trace:\nTraceback (most recent call last):\n  File \"/opt/conda/lib/python3.6/site-packages/civismodel-2.2.4-py3.6.egg/civismodel/predict/core.py\", line 320, in spawn_predict_jobs\n    output = parallel(delayed(func)(**args) for args in iterkwargs)\n  File \"/opt/conda/lib/python3.6/site-packages/sklearn/externals/joblib/parallel.py\", line 789, in __call__\n    self.retrieve()\n  File \"/opt/conda/lib/python3.6/site-packages/sklearn/externals/joblib/parallel.py\", line 701, in retrieve\n    self._output.extend(job.get())\n  File \"/opt/conda/lib/python3.6/site-packages/civis/parallel.py\", line 728, in get\n    raise self.result\njoblib.my_exceptions.TransportableException: TransportableException\n___________________________________________________________________________\nEmptyResultError                                   Mon Feb 10 21:44:16 2020\nPID: 1                                  Python 3.6.4: /opt/conda/bin/python\n...........................................................................\n/opt/conda/lib/python3.6/site-packages/sklearn/externals/joblib/parallel.py in __call__(self=<sklearn.externals.joblib.parallel.BatchedCalls object>)\n    126     def __init__(self, iterator_slice):\n    127         self.items = list(iterator_slice)\n    128         self._size = len(self.items)\n    129 \n    130     def __call__(self):\n--> 131         return [func(*args, **kwargs) for func, args, kwargs in self.items]\n        self.items = [(functools.partial(<function dispatch at 0x7fb96e...('security', [OrderedDict([('api_key', [])])])])), (), {'database': 'Bernie DS', 'parameters': {'dtype': {'age_18_22': 'float32', 'age_23_29': 'float32', 'age_30_39': 'float32', 'age_40_49': 'float32', 'age_50_59': 'float32', 'age_60_69': 'float32', 'age_70_79': 'float32', 'age_80plus': 'float32', 'age_continuous': 'float32', 'aggr_house_value_acs_13_17': 'float32', ...}, 'false_values': ['f'], 'true_values': ['t']}, 'pkey': 'person_id', 'source_type': None, 'sources': [None], 'sql_limit': None, 'sql_where': None, 'tablename': 'bernie_cherdeman.contactibility_modeling_frame_land_co_tx', 'target': None})]\n    132 \n    133     def __len__(self):\n    134         return self._size\n    135 \n\n...........................................................................\n/opt/conda/lib/python3.6/site-packages/sklearn/externals/joblib/parallel.py in <listcomp>(.0=<list_iterator object>)\n    126     def __init__(self, iterator_slice):\n    127         self.items = list(iterator_slice)\n    128         self._size = len(self.items)\n    129 \n    130     def __call__(self):\n--> 131         return [func(*args, **kwargs) for func, args, kwargs in self.items]\n        func = functools.partial(<function dispatch at 0x7fb96e...('security', [OrderedDict([('api_key', [])])])]))\n        args = ()\n        kwargs = {'database': 'Bernie DS', 'parameters': {'dtype': {'age_18_22': 'float32', 'age_23_29': 'float32', 'age_30_39': 'float32', 'age_40_49': 'float32', 'age_50_59': 'float32', 'age_60_69': 'float32', 'age_70_79': 'float32', 'age_80plus': 'float32', 'age_continuous': 'float32', 'aggr_house_value_acs_13_17': 'float32', ...}, 'false_values': ['f'], 'true_values': ['t']}, 'pkey': 'person_id', 'source_type': None, 'sources': [None], 'sql_limit': None, 'sql_where': None, 'tablename': 'bernie_cherdeman.contactibility_modeling_frame_land_co_tx', 'target': None}\n    132 \n    133     def __len__(self):\n    134         return self._size\n    135 \n\n...........................................................................\n/opt/conda/lib/python3.6/site-packages/civismodel-2.2.4-py3.6.egg/civismodel/predict/scorefunc.py in dispatch(sources=[None], source_type=None, tablename='bernie_cherdeman.contactibility_modeling_frame_land_co_tx', database='Bernie DS', pkey='person_id', target=None, sql_where=None, sql_limit=None, parameters={'dtype': {'age_18_22': 'float32', 'age_23_29': 'float32', 'age_30_39': 'float32', 'age_40_49': 'float32', 'age_50_59': 'float32', 'age_60_69': 'float32', 'age_70_79': 'float32', 'age_80plus': 'float32', 'age_continuous': 'float32', 'aggr_house_value_acs_13_17': 'float32', ...}, 'false_values': ['f'], 'true_values': ['t']}, trained_model_file_id=84527309, train_metadata={'data': {'class_names': [0, 1], 'col_types_read': ['object', 'int32', 'float32', 'float32', 'float32', 'float32', 'float32', 'float32', 'float32', 'float32', 'float32', 'float32', 'float32', 'float32', 'float32', 'float32', 'float32', 'float32', 'float32', 'float32', ...], 'column_names': ['civis_2020_marriage', 'civis_2020_children_present', 'civis_2020_partisanship', 'civis_2020_ideology_liberal', 'civis_2020_spanish_language_preference', 'civis_2018_turnout', 'civis_2018_partisanship', 'civis_2018_gotv', 'civis_2018_ballot_dropoff', 'civis_2018_congressional_gotv_raw', 'civis_2018_congressional_support', 'civis_2018_avev', 'dnc_2018_college_graduate', 'dnc_2018_income_dollars', 'dnc_2018_high_school_only', 'dnc_2018_income_rank', 'civis_2018_gotv_raw', 'civis_2018_cultural_persuasion', 'civis_2018_economic_persuasion', 'civis_2018_political_persuasion', ...], 'column_names_read': ['person_id', 'pickup_last', 'civis_2020_marriage', 'civis_2020_children_present', 'civis_2020_partisanship', 'civis_2020_ideology_liberal', 'civis_2020_spanish_language_preference', 'civis_2018_turnout', 'civis_2018_partisanship', 'civis_2018_gotv', 'civis_2018_ballot_dropoff', 'civis_2018_congressional_gotv_raw', 'civis_2018_congressional_support', 'civis_2018_avev', 'dnc_2018_college_graduate', 'dnc_2018_income_dollars', 'dnc_2018_high_school_only', 'dnc_2018_income_rank', 'civis_2020_race_native', 'civis_2020_race_black', ...], 'column_names_selected': ['civis_2020_marriage', 'civis_2020_children_present', 'civis_2020_partisanship', 'civis_2020_ideology_liberal', 'civis_2020_spanish_language_preference', 'civis_2018_turnout', 'civis_2018_partisanship', 'civis_2018_gotv', 'civis_2018_ballot_dropoff', 'civis_2018_congressional_gotv_raw', 'civis_2018_congressional_support', 'civis_2018_avev', 'dnc_2018_college_graduate', 'dnc_2018_income_dollars', 'dnc_2018_high_school_only', 'dnc_2018_income_rank', 'civis_2018_gotv_raw', 'civis_2018_cultural_persuasion', 'civis_2018_economic_persuasion', 'civis_2018_political_persuasion', ...], 'fit_param_cols': {}, 'n_cols': 160, 'n_cols_read': 206, 'n_rows': 58477, 'n_rows_read': 58477, ...}, 'data_platform': {'location': 84526758, 'reader_parameters': {'compression': 'gzip', 'dtype': {'age_18_22': 'float32', 'age_23_29': 'float32', 'age_30_39': 'float32', 'age_40_49': 'float32', 'age_50_59': 'float32', 'age_60_69': 'float32', 'age_70_79': 'float32', 'age_80plus': 'float32', 'age_continuous': 'float32', 'anti_trump_voter': 'float32', ...}, 'false_values': ['f'], 'header': None, 'names': ['person_id', 'pickup_last', 'civis_2020_marriage', 'civis_2020_children_present', 'civis_2020_partisanship', 'civis_2020_ideology_liberal', 'civis_2020_spanish_language_preference', 'civis_2018_turnout', 'civis_2018_partisanship', 'civis_2018_gotv', 'civis_2018_ballot_dropoff', 'civis_2018_congressional_gotv_raw', 'civis_2018_congressional_support', 'civis_2018_avev', 'dnc_2018_college_graduate', 'dnc_2018_income_dollars', 'dnc_2018_high_school_only', 'dnc_2018_income_rank', 'civis_2020_race_native', 'civis_2020_race_black', ...], 'sep': ',', 'true_values': ['t']}, 'source_type': 'civis_file_id', 'table_source': {'database': 'Bernie DS', 'sql_limit': None, 'sql_where': 'pickup_last is not null', 'tablename': 'bernie_cherdeman.getthru_training_land'}}, 'metrics': {'accuracy': 0.6692032765018725, 'brier_score': 0.20969659674888116, 'calibration_curve': [[0.18644311219608228, 0.0922279792746114], [0.25607833727954216, 0.15430388837591053], [0.35308384766580625, 0.3307855046748106], [0.44584810280752196, 0.4708430523158947], [0.5467114671103235, 0.5956647036712192], [0.6485809899452967, 0.7003700962250186], [0.7385930670405736, 0.8241824182418241], [0.8059158168340984, 0.9473684210526315]], 'confusion_matrix': [[26865, 5839], [13505, 12268]], 'deciles': [0.11935704514363885, 0.19018299982897213, 0.2901846785225718, 0.3585841313269494, 0.4231229690439542, 0.46785225718194257, 0.5124829001367989, 0.5882352941176471, 0.6666666666666666, 0.7906976744186046], 'log_loss': 0.6079040760609851, 'oos_score_table': None, 'p_correct': [0.8214591487279843, 0.4760020176153339], 'pop_incidence_pred': [0.6903568924534432, 0.3096431075465568], 'pop_incidence_true': [0.5592626160712759, 0.44073738392872414], ...}, 'model': {'cv_best_params': {}, 'cv_results': {}, 'functions': ['predict', 'predict_proba', 'predict_log_proba'], 'model': 'random_forest_classifier', 'model_source': 'predefined', 'parameters': {'feature_importances': [0.0034251220095993023, 0.018018700348885256, 0.003441247964622645, 0.015105669611137124, 0.007153537583723951, 0.03141911605901064, 0.0028462140727196017, 0.002108827061555194, 0.0321646139232653, 0.0030429630237297396, 0.0015246254600187051, 0.0115360984879129, 0.005041532195649122, 0.005570778141853108, 0.021038280085015983, 0.006793333416850075, 0.002831427097231352, 0.0018213483497714308, 0.009481970169265328, 0.00392466708826881, ...], 'relcols': [0, 1, 2, 3, 4, 5, 6, 7, 8, 9, 10, 11, 12, 13, 14, 15, 16, 17, 18, 19, ...], 'relvars': ['civis_2020_marriage', 'civis_2020_children_present', 'civis_2020_partisanship', 'civis_2020_ideology_liberal', 'civis_2020_spanish_language_preference', 'civis_2018_turnout', 'civis_2018_partisanship', 'civis_2018_gotv', 'civis_2018_ballot_dropoff', 'civis_2018_congressional_gotv_raw', 'civis_2018_congressional_support', 'civis_2018_avev', 'dnc_2018_college_graduate', 'dnc_2018_income_dollars', 'dnc_2018_high_school_only', 'dnc_2018_income_rank', 'civis_2018_gotv_raw', 'civis_2018_cultural_persuasion', 'civis_2018_economic_persuasion', 'civis_2018_political_persuasion', ...]}, 'type': 'classification'}, 'output': {'column_names': ['pickup_last_1'], 'func': 'predict_proba', 'targets': {'pickup_last': ['pickup_last_1']}}, 'run': {'civisml_version': '2.2.4', 'configuration': {'data': {'file_type': 'csv', 'location': '/tmp/tmpz1s2284w/data.csv', 'parameters': {'compression': 'gzip', 'dtype': {'age_18_22': 'float32', 'age_23_29': 'float32', 'age_30_39': 'float32', 'age_40_49': 'float32', 'age_50_59': 'float32', 'age_60_69': 'float32', 'age_70_79': 'float32', 'age_80plus': 'float32', 'age_continuous': 'float32', 'anti_trump_voter': 'float32', ...}, 'false_values': ['f'], 'header': None, 'names': ['person_id', 'pickup_last', 'civis_2020_marriage', 'civis_2020_children_present', 'civis_2020_partisanship', 'civis_2020_ideology_liberal', 'civis_2020_spanish_language_preference', 'civis_2018_turnout', 'civis_2018_partisanship', 'civis_2018_gotv', 'civis_2018_ballot_dropoff', 'civis_2018_congressional_gotv_raw', 'civis_2018_congressional_support', 'civis_2018_avev', 'dnc_2018_college_graduate', 'dnc_2018_income_dollars', 'dnc_2018_high_school_only', 'dnc_2018_income_rank', 'civis_2020_race_native', 'civis_2020_race_black', ...], 'sep': ',', 'true_values': ['t']}, 'primary_key': 'person_id', 'y': ['pickup_last']}, 'job': {'model_type': 'classification'}, 'job_type': 'train', 'output_location': '/tmp/tmpz1s2284w'}, 'dependencies': None, 'n_jobs': 36, 'platform': 'linux', 'runtime': 330.1825211048126, 'runtime_data_read': 109.56988263130188, 'runtime_model': 108.77477693557739, 'status': 'succeeded', 'template_id': 11219, ...}, 'warnings': []}, log_level='WARNING', client_api_spec=OrderedDict([('swagger', '2.0'), ('info', Ordere... ('security', [OrderedDict([('api_key', [])])])]))\n    169                            log_level=log_level,\n    170                            client_api_spec=client_api_spec)\n    171         predict_warnings: List[str] = []\n    172         ppredict = catch_warnings(predict_warnings)(ppredict)\n    173 \n--> 174         results = list(mapper(ppredict, sources))\n        results = undefined\n        mapper = <class 'map'>\n        ppredict = <function catch_warnings.<locals>.outer.<locals>.func_decorator>\n        sources = [None]\n    175         for r in results:\n    176             r['warnings'] = predict_warnings\n    177     return results\n\n...........................................................................\n/opt/conda/lib/python3.6/site-packages/civismodel-2.2.4-py3.6.egg/civismodel/errors.py in func_decorator(*args=(None,), **kwargs={})\n     94                 warning_list.append(warning)\n     95 \n     96             # modify -- then restore -- defaults in warnings module\n     97             try:\n     98                 warnings.showwarning = _showwarning\n---> 99                 results = func(*args, **kwargs)\n        results = undefined\n        args = (None,)\n        kwargs = {}\n    100             finally:\n    101                 warnings.showwarning = showwarning_old\n    102             return results\n    103 \n\n...........................................................................\n/opt/conda/lib/python3.6/site-packages/civismodel-2.2.4-py3.6.egg/civismodel/predict/scorefunc.py in predict_single(model_fname='/tmp/tmpo4p7nqrz/estimator.pkl', training_metadata={'data': {'class_names': [0, 1], 'col_types_read': ['object', 'int32', 'float32', 'float32', 'float32', 'float32', 'float32', 'float32', 'float32', 'float32', 'float32', 'float32', 'float32', 'float32', 'float32', 'float32', 'float32', 'float32', 'float32', 'float32', ...], 'column_names': ['civis_2020_marriage', 'civis_2020_children_present', 'civis_2020_partisanship', 'civis_2020_ideology_liberal', 'civis_2020_spanish_language_preference', 'civis_2018_turnout', 'civis_2018_partisanship', 'civis_2018_gotv', 'civis_2018_ballot_dropoff', 'civis_2018_congressional_gotv_raw', 'civis_2018_congressional_support', 'civis_2018_avev', 'dnc_2018_college_graduate', 'dnc_2018_income_dollars', 'dnc_2018_high_school_only', 'dnc_2018_income_rank', 'civis_2018_gotv_raw', 'civis_2018_cultural_persuasion', 'civis_2018_economic_persuasion', 'civis_2018_political_persuasion', ...], 'column_names_read': ['person_id', 'pickup_last', 'civis_2020_marriage', 'civis_2020_children_present', 'civis_2020_partisanship', 'civis_2020_ideology_liberal', 'civis_2020_spanish_language_preference', 'civis_2018_turnout', 'civis_2018_partisanship', 'civis_2018_gotv', 'civis_2018_ballot_dropoff', 'civis_2018_congressional_gotv_raw', 'civis_2018_congressional_support', 'civis_2018_avev', 'dnc_2018_college_graduate', 'dnc_2018_income_dollars', 'dnc_2018_high_school_only', 'dnc_2018_income_rank', 'civis_2020_race_native', 'civis_2020_race_black', ...], 'column_names_selected': ['civis_2020_marriage', 'civis_2020_children_present', 'civis_2020_partisanship', 'civis_2020_ideology_liberal', 'civis_2020_spanish_language_preference', 'civis_2018_turnout', 'civis_2018_partisanship', 'civis_2018_gotv', 'civis_2018_ballot_dropoff', 'civis_2018_congressional_gotv_raw', 'civis_2018_congressional_support', 'civis_2018_avev', 'dnc_2018_college_graduate', 'dnc_2018_income_dollars', 'dnc_2018_high_school_only', 'dnc_2018_income_rank', 'civis_2018_gotv_raw', 'civis_2018_cultural_persuasion', 'civis_2018_economic_persuasion', 'civis_2018_political_persuasion', ...], 'fit_param_cols': {}, 'n_cols': 160, 'n_cols_read': 206, 'n_rows': 58477, 'n_rows_read': 58477, ...}, 'data_platform': {'location': 84526758, 'reader_parameters': {'compression': 'gzip', 'dtype': {'age_18_22': 'float32', 'age_23_29': 'float32', 'age_30_39': 'float32', 'age_40_49': 'float32', 'age_50_59': 'float32', 'age_60_69': 'float32', 'age_70_79': 'float32', 'age_80plus': 'float32', 'age_continuous': 'float32', 'anti_trump_voter': 'float32', ...}, 'false_values': ['f'], 'header': None, 'names': ['person_id', 'pickup_last', 'civis_2020_marriage', 'civis_2020_children_present', 'civis_2020_partisanship', 'civis_2020_ideology_liberal', 'civis_2020_spanish_language_preference', 'civis_2018_turnout', 'civis_2018_partisanship', 'civis_2018_gotv', 'civis_2018_ballot_dropoff', 'civis_2018_congressional_gotv_raw', 'civis_2018_congressional_support', 'civis_2018_avev', 'dnc_2018_college_graduate', 'dnc_2018_income_dollars', 'dnc_2018_high_school_only', 'dnc_2018_income_rank', 'civis_2020_race_native', 'civis_2020_race_black', ...], 'sep': ',', 'true_values': ['t']}, 'source_type': 'civis_file_id', 'table_source': {'database': 'Bernie DS', 'sql_limit': None, 'sql_where': 'pickup_last is not null', 'tablename': 'bernie_cherdeman.getthru_training_land'}}, 'metrics': {'accuracy': 0.6692032765018725, 'brier_score': 0.20969659674888116, 'calibration_curve': [[0.18644311219608228, 0.0922279792746114], [0.25607833727954216, 0.15430388837591053], [0.35308384766580625, 0.3307855046748106], [0.44584810280752196, 0.4708430523158947], [0.5467114671103235, 0.5956647036712192], [0.6485809899452967, 0.7003700962250186], [0.7385930670405736, 0.8241824182418241], [0.8059158168340984, 0.9473684210526315]], 'confusion_matrix': [[26865, 5839], [13505, 12268]], 'deciles': [0.11935704514363885, 0.19018299982897213, 0.2901846785225718, 0.3585841313269494, 0.4231229690439542, 0.46785225718194257, 0.5124829001367989, 0.5882352941176471, 0.6666666666666666, 0.7906976744186046], 'log_loss': 0.6079040760609851, 'oos_score_table': None, 'p_correct': [0.8214591487279843, 0.4760020176153339], 'pop_incidence_pred': [0.6903568924534432, 0.3096431075465568], 'pop_incidence_true': [0.5592626160712759, 0.44073738392872414], ...}, 'model': {'cv_best_params': {}, 'cv_results': {}, 'functions': ['predict', 'predict_proba', 'predict_log_proba'], 'model': 'random_forest_classifier', 'model_source': 'predefined', 'parameters': {'feature_importances': [0.0034251220095993023, 0.018018700348885256, 0.003441247964622645, 0.015105669611137124, 0.007153537583723951, 0.03141911605901064, 0.0028462140727196017, 0.002108827061555194, 0.0321646139232653, 0.0030429630237297396, 0.0015246254600187051, 0.0115360984879129, 0.005041532195649122, 0.005570778141853108, 0.021038280085015983, 0.006793333416850075, 0.002831427097231352, 0.0018213483497714308, 0.009481970169265328, 0.00392466708826881, ...], 'relcols': [0, 1, 2, 3, 4, 5, 6, 7, 8, 9, 10, 11, 12, 13, 14, 15, 16, 17, 18, 19, ...], 'relvars': ['civis_2020_marriage', 'civis_2020_children_present', 'civis_2020_partisanship', 'civis_2020_ideology_liberal', 'civis_2020_spanish_language_preference', 'civis_2018_turnout', 'civis_2018_partisanship', 'civis_2018_gotv', 'civis_2018_ballot_dropoff', 'civis_2018_congressional_gotv_raw', 'civis_2018_congressional_support', 'civis_2018_avev', 'dnc_2018_college_graduate', 'dnc_2018_income_dollars', 'dnc_2018_high_school_only', 'dnc_2018_income_rank', 'civis_2018_gotv_raw', 'civis_2018_cultural_persuasion', 'civis_2018_economic_persuasion', 'civis_2018_political_persuasion', ...]}, 'type': 'classification'}, 'output': {'column_names': ['pickup_last_1'], 'func': 'predict_proba', 'targets': {'pickup_last': ['pickup_last_1']}}, 'run': {'civisml_version': '2.2.4', 'configuration': {'data': {'file_type': 'csv', 'location': '/tmp/tmpz1s2284w/data.csv', 'parameters': {'compression': 'gzip', 'dtype': {'age_18_22': 'float32', 'age_23_29': 'float32', 'age_30_39': 'float32', 'age_40_49': 'float32', 'age_50_59': 'float32', 'age_60_69': 'float32', 'age_70_79': 'float32', 'age_80plus': 'float32', 'age_continuous': 'float32', 'anti_trump_voter': 'float32', ...}, 'false_values': ['f'], 'header': None, 'names': ['person_id', 'pickup_last', 'civis_2020_marriage', 'civis_2020_children_present', 'civis_2020_partisanship', 'civis_2020_ideology_liberal', 'civis_2020_spanish_language_preference', 'civis_2018_turnout', 'civis_2018_partisanship', 'civis_2018_gotv', 'civis_2018_ballot_dropoff', 'civis_2018_congressional_gotv_raw', 'civis_2018_congressional_support', 'civis_2018_avev', 'dnc_2018_college_graduate', 'dnc_2018_income_dollars', 'dnc_2018_high_school_only', 'dnc_2018_income_rank', 'civis_2020_race_native', 'civis_2020_race_black', ...], 'sep': ',', 'true_values': ['t']}, 'primary_key': 'person_id', 'y': ['pickup_last']}, 'job': {'model_type': 'classification'}, 'job_type': 'train', 'output_location': '/tmp/tmpz1s2284w'}, 'dependencies': None, 'n_jobs': 36, 'platform': 'linux', 'runtime': 330.1825211048126, 'runtime_data_read': 109.56988263130188, 'runtime_model': 108.77477693557739, 'status': 'succeeded', 'template_id': 11219, ...}, 'warnings': []}, source=None, source_type=None, tablename='bernie_cherdeman.contactibility_modeling_frame_land_co_tx', database='Bernie DS', pkey='person_id', target=None, sql_where=None, sql_limit=None, parameters={'chunksize': 5000, 'dtype': {'age_18_22': 'float32', 'age_23_29': 'float32', 'age_30_39': 'float32', 'age_40_49': 'float32', 'age_50_59': 'float32', 'age_60_69': 'float32', 'age_70_79': 'float32', 'age_80plus': 'float32', 'age_continuous': 'float32', 'aggr_house_value_acs_13_17': 'float32', ...}, 'false_values': ['f'], 'true_values': ['t']}, log_level='WARNING', client_api_spec=OrderedDict([('swagger', '2.0'), ('info', Ordere... ('security', [OrderedDict([('api_key', [])])])]))\n     80 \n     81         # Prepare input data\n     82         data_path, reader_params, inputs_metadata = persist.inputs.fetch_data(\n     83             tempdir, data_path=location, civis_file_id=civis_file,\n     84             tablename=tablename, database=database, sql_where=sql_where,\n---> 85             sql_limit=sql_limit, cols_to_not_cast=[pkey], client=client)\n        sql_limit = None\n        pkey = 'person_id'\n        client = <civis.civis.APIClient object>\n     86         parameters.update(reader_params)\n     87         conf['data'] = build.paro_input_config(\n     88             data_path, primary_key=pkey, parameters=parameters,\n     89             streaming=True)\n\n...........................................................................\n/opt/conda/lib/python3.6/site-packages/civismodel-2.2.4-py3.6.egg/civismodel/persistence/inputs.py in fetch_data(local_directory='/tmp/tmpm5db078m', data_path=None, civis_file_id=None, tablename='bernie_cherdeman.contactibility_modeling_frame_land_co_tx', database='Bernie DS', sql_where=None, sql_limit=None, cols_to_not_cast=['person_id'], client=<civis.civis.APIClient object>)\n     97                  tablename, database)\n     98         data_fname = os.path.join(local_directory, default_fname)\n     99         reader_params, civis_file_id = fetch_data_from_table(\n    100             output_fname=data_fname, tablename=tablename, database=database,\n    101             sql_where=sql_where, sql_limit=sql_limit,\n--> 102             cols_to_not_cast=cols_to_not_cast, client=client)\n        cols_to_not_cast = ['person_id']\n        client = <civis.civis.APIClient object>\n    103         log.info('Export complete.')\n    104         log.debug('Exported table data can be retrieved from '\n    105                   'Civis File ID %d', civis_file_id)\n    106 \n\n...........................................................................\n/opt/conda/lib/python3.6/site-packages/civismodel-2.2.4-py3.6.egg/civismodel/persistence/table.py in fetch_data_from_table(output_fname='/tmp/tmpm5db078m/data.csv', tablename='bernie_cherdeman.contactibility_modeling_frame_land_co_tx', database='Bernie DS', sql_where=None, sql_limit=None, delimiter=',', compression='gzip', cols_to_not_cast=['person_id'], client=<civis.civis.APIClient object>)\n    429                        compression='none' if not compression else compression,\n    430                        client=client)\n    431     log.debug('Export job ID is %s and run ID is %s', *job.poller_args)\n    432     outputs = job.result()['output']\n    433     if not outputs:\n--> 434         raise EmptyResultError(f'No rows selected from table \"{tablename}\" '\n    435                                f'in {database}.')\n    436     civis_file_id = outputs[0]['file_id']\n    437 \n    438     return csv_reader_parameters, civis_file_id\n\nEmptyResultError: No rows selected from table \"bernie_cherdeman.contactibility_modeling_frame_land_co_tx\" in Bernie DS.\n___________________________________________________________________________\n\nThe above exception was the direct cause of the following exception:\n\nTraceback (most recent call last):\n  File \"/opt/conda/lib/python3.6/site-packages/civismodel-2.2.4-py3.6.egg/civismodel/predict/core.py\", line 186, in run_prediction\n    output = spawn_predict_jobs(predictfunc, inputs_iter, backend, n_jobs)\n  File \"/opt/conda/lib/python3.6/site-packages/civismodel-2.2.4-py3.6.egg/civismodel/predict/core.py\", line 332, in spawn_predict_jobs\n    raise _PredictionSpawnException(str(exc), job_id_tuples) from exc\ncivismodel.errors._PredictionSpawnException: TransportableException\n___________________________________________________________________________\nEmptyResultError                                   Mon Feb 10 21:44:16 2020\nPID: 1                                  Python 3.6.4: /opt/conda/bin/python\n...........................................................................\n/opt/conda/lib/python3.6/site-packages/sklearn/externals/joblib/parallel.py in __call__(self=<sklearn.externals.joblib.parallel.BatchedCalls object>)\n    126     def __init__(self, iterator_slice):\n    127         self.items = list(iterator_slice)\n    128         self._size = len(self.items)\n    129 \n    130     def __call__(self):\n--> 131         return [func(*args, **kwargs) for func, args, kwargs in self.items]\n        self.items = [(functools.partial(<function dispatch at 0x7fb96e...('security', [OrderedDict([('api_key', [])])])])), (), {'database': 'Bernie DS', 'parameters': {'dtype': {'age_18_22': 'float32', 'age_23_29': 'float32', 'age_30_39': 'float32', 'age_40_49': 'float32', 'age_50_59': 'float32', 'age_60_69': 'float32', 'age_70_79': 'float32', 'age_80plus': 'float32', 'age_continuous': 'float32', 'aggr_house_value_acs_13_17': 'float32', ...}, 'false_values': ['f'], 'true_values': ['t']}, 'pkey': 'person_id', 'source_type': None, 'sources': [None], 'sql_limit': None, 'sql_where': None, 'tablename': 'bernie_cherdeman.contactibility_modeling_frame_land_co_tx', 'target': None})]\n    132 \n    133     def __len__(self):\n    134         return self._size\n    135 \n\n...........................................................................\n/opt/conda/lib/python3.6/site-packages/sklearn/externals/joblib/parallel.py in <listcomp>(.0=<list_iterator object>)\n    126     def __init__(self, iterator_slice):\n    127         self.items = list(iterator_slice)\n    128         self._size = len(self.items)\n    129 \n    130     def __call__(self):\n--> 131         return [func(*args, **kwargs) for func, args, kwargs in self.items]\n        func = functools.partial(<function dispatch at 0x7fb96e...('security', [OrderedDict([('api_key', [])])])]))\n        args = ()\n        kwargs = {'database': 'Bernie DS', 'parameters': {'dtype': {'age_18_22': 'float32', 'age_23_29': 'float32', 'age_30_39': 'float32', 'age_40_49': 'float32', 'age_50_59': 'float32', 'age_60_69': 'float32', 'age_70_79': 'float32', 'age_80plus': 'float32', 'age_continuous': 'float32', 'aggr_house_value_acs_13_17': 'float32', ...}, 'false_values': ['f'], 'true_values': ['t']}, 'pkey': 'person_id', 'source_type': None, 'sources': [None], 'sql_limit': None, 'sql_where': None, 'tablename': 'bernie_cherdeman.contactibility_modeling_frame_land_co_tx', 'target': None}\n    132 \n    133     def __len__(self):\n    134         return self._size\n    135 \n\n...........................................................................\n/opt/conda/lib/python3.6/site-packages/civismodel-2.2.4-py3.6.egg/civismodel/predict/scorefunc.py in dispatch(sources=[None], source_type=None, tablename='bernie_cherdeman.contactibility_modeling_frame_land_co_tx', database='Bernie DS', pkey='person_id', target=None, sql_where=None, sql_limit=None, parameters={'dtype': {'age_18_22': 'float32', 'age_23_29': 'float32', 'age_30_39': 'float32', 'age_40_49': 'float32', 'age_50_59': 'float32', 'age_60_69': 'float32', 'age_70_79': 'float32', 'age_80plus': 'float32', 'age_continuous': 'float32', 'aggr_house_value_acs_13_17': 'float32', ...}, 'false_values': ['f'], 'true_values': ['t']}, trained_model_file_id=84527309, train_metadata={'data': {'class_names': [0, 1], 'col_types_read': ['object', 'int32', 'float32', 'float32', 'float32', 'float32', 'float32', 'float32', 'float32', 'float32', 'float32', 'float32', 'float32', 'float32', 'float32', 'float32', 'float32', 'float32', 'float32', 'float32', ...], 'column_names': ['civis_2020_marriage', 'civis_2020_children_present', 'civis_2020_partisanship', 'civis_2020_ideology_liberal', 'civis_2020_spanish_language_preference', 'civis_2018_turnout', 'civis_2018_partisanship', 'civis_2018_gotv', 'civis_2018_ballot_dropoff', 'civis_2018_congressional_gotv_raw', 'civis_2018_congressional_support', 'civis_2018_avev', 'dnc_2018_college_graduate', 'dnc_2018_income_dollars', 'dnc_2018_high_school_only', 'dnc_2018_income_rank', 'civis_2018_gotv_raw', 'civis_2018_cultural_persuasion', 'civis_2018_economic_persuasion', 'civis_2018_political_persuasion', ...], 'column_names_read': ['person_id', 'pickup_last', 'civis_2020_marriage', 'civis_2020_children_present', 'civis_2020_partisanship', 'civis_2020_ideology_liberal', 'civis_2020_spanish_language_preference', 'civis_2018_turnout', 'civis_2018_partisanship', 'civis_2018_gotv', 'civis_2018_ballot_dropoff', 'civis_2018_congressional_gotv_raw', 'civis_2018_congressional_support', 'civis_2018_avev', 'dnc_2018_college_graduate', 'dnc_2018_income_dollars', 'dnc_2018_high_school_only', 'dnc_2018_income_rank', 'civis_2020_race_native', 'civis_2020_race_black', ...], 'column_names_selected': ['civis_2020_marriage', 'civis_2020_children_present', 'civis_2020_partisanship', 'civis_2020_ideology_liberal', 'civis_2020_spanish_language_preference', 'civis_2018_turnout', 'civis_2018_partisanship', 'civis_2018_gotv', 'civis_2018_ballot_dropoff', 'civis_2018_congressional_gotv_raw', 'civis_2018_congressional_support', 'civis_2018_avev', 'dnc_2018_college_graduate', 'dnc_2018_income_dollars', 'dnc_2018_high_school_only', 'dnc_2018_income_rank', 'civis_2018_gotv_raw', 'civis_2018_cultural_persuasion', 'civis_2018_economic_persuasion', 'civis_2018_political_persuasion', ...], 'fit_param_cols': {}, 'n_cols': 160, 'n_cols_read': 206, 'n_rows': 58477, 'n_rows_read': 58477, ...}, 'data_platform': {'location': 84526758, 'reader_parameters': {'compression': 'gzip', 'dtype': {'age_18_22': 'float32', 'age_23_29': 'float32', 'age_30_39': 'float32', 'age_40_49': 'float32', 'age_50_59': 'float32', 'age_60_69': 'float32', 'age_70_79': 'float32', 'age_80plus': 'float32', 'age_continuous': 'float32', 'anti_trump_voter': 'float32', ...}, 'false_values': ['f'], 'header': None, 'names': ['person_id', 'pickup_last', 'civis_2020_marriage', 'civis_2020_children_present', 'civis_2020_partisanship', 'civis_2020_ideology_liberal', 'civis_2020_spanish_language_preference', 'civis_2018_turnout', 'civis_2018_partisanship', 'civis_2018_gotv', 'civis_2018_ballot_dropoff', 'civis_2018_congressional_gotv_raw', 'civis_2018_congressional_support', 'civis_2018_avev', 'dnc_2018_college_graduate', 'dnc_2018_income_dollars', 'dnc_2018_high_school_only', 'dnc_2018_income_rank', 'civis_2020_race_native', 'civis_2020_race_black', ...], 'sep': ',', 'true_values': ['t']}, 'source_type': 'civis_file_id', 'table_source': {'database': 'Bernie DS', 'sql_limit': None, 'sql_where': 'pickup_last is not null', 'tablename': 'bernie_cherdeman.getthru_training_land'}}, 'metrics': {'accuracy': 0.6692032765018725, 'brier_score': 0.20969659674888116, 'calibration_curve': [[0.18644311219608228, 0.0922279792746114], [0.25607833727954216, 0.15430388837591053], [0.35308384766580625, 0.3307855046748106], [0.44584810280752196, 0.4708430523158947], [0.5467114671103235, 0.5956647036712192], [0.6485809899452967, 0.7003700962250186], [0.7385930670405736, 0.8241824182418241], [0.8059158168340984, 0.9473684210526315]], 'confusion_matrix': [[26865, 5839], [13505, 12268]], 'deciles': [0.11935704514363885, 0.19018299982897213, 0.2901846785225718, 0.3585841313269494, 0.4231229690439542, 0.46785225718194257, 0.5124829001367989, 0.5882352941176471, 0.6666666666666666, 0.7906976744186046], 'log_loss': 0.6079040760609851, 'oos_score_table': None, 'p_correct': [0.8214591487279843, 0.4760020176153339], 'pop_incidence_pred': [0.6903568924534432, 0.3096431075465568], 'pop_incidence_true': [0.5592626160712759, 0.44073738392872414], ...}, 'model': {'cv_best_params': {}, 'cv_results': {}, 'functions': ['predict', 'predict_proba', 'predict_log_proba'], 'model': 'random_forest_classifier', 'model_source': 'predefined', 'parameters': {'feature_importances': [0.0034251220095993023, 0.018018700348885256, 0.003441247964622645, 0.015105669611137124, 0.007153537583723951, 0.03141911605901064, 0.0028462140727196017, 0.002108827061555194, 0.0321646139232653, 0.0030429630237297396, 0.0015246254600187051, 0.0115360984879129, 0.005041532195649122, 0.005570778141853108, 0.021038280085015983, 0.006793333416850075, 0.002831427097231352, 0.0018213483497714308, 0.009481970169265328, 0.00392466708826881, ...], 'relcols': [0, 1, 2, 3, 4, 5, 6, 7, 8, 9, 10, 11, 12, 13, 14, 15, 16, 17, 18, 19, ...], 'relvars': ['civis_2020_marriage', 'civis_2020_children_present', 'civis_2020_partisanship', 'civis_2020_ideology_liberal', 'civis_2020_spanish_language_preference', 'civis_2018_turnout', 'civis_2018_partisanship', 'civis_2018_gotv', 'civis_2018_ballot_dropoff', 'civis_2018_congressional_gotv_raw', 'civis_2018_congressional_support', 'civis_2018_avev', 'dnc_2018_college_graduate', 'dnc_2018_income_dollars', 'dnc_2018_high_school_only', 'dnc_2018_income_rank', 'civis_2018_gotv_raw', 'civis_2018_cultural_persuasion', 'civis_2018_economic_persuasion', 'civis_2018_political_persuasion', ...]}, 'type': 'classification'}, 'output': {'column_names': ['pickup_last_1'], 'func': 'predict_proba', 'targets': {'pickup_last': ['pickup_last_1']}}, 'run': {'civisml_version': '2.2.4', 'configuration': {'data': {'file_type': 'csv', 'location': '/tmp/tmpz1s2284w/data.csv', 'parameters': {'compression': 'gzip', 'dtype': {'age_18_22': 'float32', 'age_23_29': 'float32', 'age_30_39': 'float32', 'age_40_49': 'float32', 'age_50_59': 'float32', 'age_60_69': 'float32', 'age_70_79': 'float32', 'age_80plus': 'float32', 'age_continuous': 'float32', 'anti_trump_voter': 'float32', ...}, 'false_values': ['f'], 'header': None, 'names': ['person_id', 'pickup_last', 'civis_2020_marriage', 'civis_2020_children_present', 'civis_2020_partisanship', 'civis_2020_ideology_liberal', 'civis_2020_spanish_language_preference', 'civis_2018_turnout', 'civis_2018_partisanship', 'civis_2018_gotv', 'civis_2018_ballot_dropoff', 'civis_2018_congressional_gotv_raw', 'civis_2018_congressional_support', 'civis_2018_avev', 'dnc_2018_college_graduate', 'dnc_2018_income_dollars', 'dnc_2018_high_school_only', 'dnc_2018_income_rank', 'civis_2020_race_native', 'civis_2020_race_black', ...], 'sep': ',', 'true_values': ['t']}, 'primary_key': 'person_id', 'y': ['pickup_last']}, 'job': {'model_type': 'classification'}, 'job_type': 'train', 'output_location': '/tmp/tmpz1s2284w'}, 'dependencies': None, 'n_jobs': 36, 'platform': 'linux', 'runtime': 330.1825211048126, 'runtime_data_read': 109.56988263130188, 'runtime_model': 108.77477693557739, 'status': 'succeeded', 'template_id': 11219, ...}, 'warnings': []}, log_level='WARNING', client_api_spec=OrderedDict([('swagger', '2.0'), ('info', Ordere... ('security', [OrderedDict([('api_key', [])])])]))\n    169                            log_level=log_level,\n    170                            client_api_spec=client_api_spec)\n    171         predict_warnings: List[str] = []\n    172         ppredict = catch_warnings(predict_warnings)(ppredict)\n    173 \n--> 174         results = list(mapper(ppredict, sources))\n        results = undefined\n        mapper = <class 'map'>\n        ppredict = <function catch_warnings.<locals>.outer.<locals>.func_decorator>\n        sources = [None]\n    175         for r in results:\n    176             r['warnings'] = predict_warnings\n    177     return results\n\n...........................................................................\n/opt/conda/lib/python3.6/site-packages/civismodel-2.2.4-py3.6.egg/civismodel/errors.py in func_decorator(*args=(None,), **kwargs={})\n     94                 warning_list.append(warning)\n     95 \n     96             # modify -- then restore -- defaults in warnings module\n     97             try:\n     98                 warnings.showwarning = _showwarning\n---> 99                 results = func(*args, **kwargs)\n        results = undefined\n        args = (None,)\n        kwargs = {}\n    100             finally:\n    101                 warnings.showwarning = showwarning_old\n    102             return results\n    103 \n\n...........................................................................\n/opt/conda/lib/python3.6/site-packages/civismodel-2.2.4-py3.6.egg/civismodel/predict/scorefunc.py in predict_single(model_fname='/tmp/tmpo4p7nqrz/estimator.pkl', training_metadata={'data': {'class_names': [0, 1], 'col_types_read': ['object', 'int32', 'float32', 'float32', 'float32', 'float32', 'float32', 'float32', 'float32', 'float32', 'float32', 'float32', 'float32', 'float32', 'float32', 'float32', 'float32', 'float32', 'float32', 'float32', ...], 'column_names': ['civis_2020_marriage', 'civis_2020_children_present', 'civis_2020_partisanship', 'civis_2020_ideology_liberal', 'civis_2020_spanish_language_preference', 'civis_2018_turnout', 'civis_2018_partisanship', 'civis_2018_gotv', 'civis_2018_ballot_dropoff', 'civis_2018_congressional_gotv_raw', 'civis_2018_congressional_support', 'civis_2018_avev', 'dnc_2018_college_graduate', 'dnc_2018_income_dollars', 'dnc_2018_high_school_only', 'dnc_2018_income_rank', 'civis_2018_gotv_raw', 'civis_2018_cultural_persuasion', 'civis_2018_economic_persuasion', 'civis_2018_political_persuasion', ...], 'column_names_read': ['person_id', 'pickup_last', 'civis_2020_marriage', 'civis_2020_children_present', 'civis_2020_partisanship', 'civis_2020_ideology_liberal', 'civis_2020_spanish_language_preference', 'civis_2018_turnout', 'civis_2018_partisanship', 'civis_2018_gotv', 'civis_2018_ballot_dropoff', 'civis_2018_congressional_gotv_raw', 'civis_2018_congressional_support', 'civis_2018_avev', 'dnc_2018_college_graduate', 'dnc_2018_income_dollars', 'dnc_2018_high_school_only', 'dnc_2018_income_rank', 'civis_2020_race_native', 'civis_2020_race_black', ...], 'column_names_selected': ['civis_2020_marriage', 'civis_2020_children_present', 'civis_2020_partisanship', 'civis_2020_ideology_liberal', 'civis_2020_spanish_language_preference', 'civis_2018_turnout', 'civis_2018_partisanship', 'civis_2018_gotv', 'civis_2018_ballot_dropoff', 'civis_2018_congressional_gotv_raw', 'civis_2018_congressional_support', 'civis_2018_avev', 'dnc_2018_college_graduate', 'dnc_2018_income_dollars', 'dnc_2018_high_school_only', 'dnc_2018_income_rank', 'civis_2018_gotv_raw', 'civis_2018_cultural_persuasion', 'civis_2018_economic_persuasion', 'civis_2018_political_persuasion', ...], 'fit_param_cols': {}, 'n_cols': 160, 'n_cols_read': 206, 'n_rows': 58477, 'n_rows_read': 58477, ...}, 'data_platform': {'location': 84526758, 'reader_parameters': {'compression': 'gzip', 'dtype': {'age_18_22': 'float32', 'age_23_29': 'float32', 'age_30_39': 'float32', 'age_40_49': 'float32', 'age_50_59': 'float32', 'age_60_69': 'float32', 'age_70_79': 'float32', 'age_80plus': 'float32', 'age_continuous': 'float32', 'anti_trump_voter': 'float32', ...}, 'false_values': ['f'], 'header': None, 'names': ['person_id', 'pickup_last', 'civis_2020_marriage', 'civis_2020_children_present', 'civis_2020_partisanship', 'civis_2020_ideology_liberal', 'civis_2020_spanish_language_preference', 'civis_2018_turnout', 'civis_2018_partisanship', 'civis_2018_gotv', 'civis_2018_ballot_dropoff', 'civis_2018_congressional_gotv_raw', 'civis_2018_congressional_support', 'civis_2018_avev', 'dnc_2018_college_graduate', 'dnc_2018_income_dollars', 'dnc_2018_high_school_only', 'dnc_2018_income_rank', 'civis_2020_race_native', 'civis_2020_race_black', ...], 'sep': ',', 'true_values': ['t']}, 'source_type': 'civis_file_id', 'table_source': {'database': 'Bernie DS', 'sql_limit': None, 'sql_where': 'pickup_last is not null', 'tablename': 'bernie_cherdeman.getthru_training_land'}}, 'metrics': {'accuracy': 0.6692032765018725, 'brier_score': 0.20969659674888116, 'calibration_curve': [[0.18644311219608228, 0.0922279792746114], [0.25607833727954216, 0.15430388837591053], [0.35308384766580625, 0.3307855046748106], [0.44584810280752196, 0.4708430523158947], [0.5467114671103235, 0.5956647036712192], [0.6485809899452967, 0.7003700962250186], [0.7385930670405736, 0.8241824182418241], [0.8059158168340984, 0.9473684210526315]], 'confusion_matrix': [[26865, 5839], [13505, 12268]], 'deciles': [0.11935704514363885, 0.19018299982897213, 0.2901846785225718, 0.3585841313269494, 0.4231229690439542, 0.46785225718194257, 0.5124829001367989, 0.5882352941176471, 0.6666666666666666, 0.7906976744186046], 'log_loss': 0.6079040760609851, 'oos_score_table': None, 'p_correct': [0.8214591487279843, 0.4760020176153339], 'pop_incidence_pred': [0.6903568924534432, 0.3096431075465568], 'pop_incidence_true': [0.5592626160712759, 0.44073738392872414], ...}, 'model': {'cv_best_params': {}, 'cv_results': {}, 'functions': ['predict', 'predict_proba', 'predict_log_proba'], 'model': 'random_forest_classifier', 'model_source': 'predefined', 'parameters': {'feature_importances': [0.0034251220095993023, 0.018018700348885256, 0.003441247964622645, 0.015105669611137124, 0.007153537583723951, 0.03141911605901064, 0.0028462140727196017, 0.002108827061555194, 0.0321646139232653, 0.0030429630237297396, 0.0015246254600187051, 0.0115360984879129, 0.005041532195649122, 0.005570778141853108, 0.021038280085015983, 0.006793333416850075, 0.002831427097231352, 0.0018213483497714308, 0.009481970169265328, 0.00392466708826881, ...], 'relcols': [0, 1, 2, 3, 4, 5, 6, 7, 8, 9, 10, 11, 12, 13, 14, 15, 16, 17, 18, 19, ...], 'relvars': ['civis_2020_marriage', 'civis_2020_children_present', 'civis_2020_partisanship', 'civis_2020_ideology_liberal', 'civis_2020_spanish_language_preference', 'civis_2018_turnout', 'civis_2018_partisanship', 'civis_2018_gotv', 'civis_2018_ballot_dropoff', 'civis_2018_congressional_gotv_raw', 'civis_2018_congressional_support', 'civis_2018_avev', 'dnc_2018_college_graduate', 'dnc_2018_income_dollars', 'dnc_2018_high_school_only', 'dnc_2018_income_rank', 'civis_2018_gotv_raw', 'civis_2018_cultural_persuasion', 'civis_2018_economic_persuasion', 'civis_2018_political_persuasion', ...]}, 'type': 'classification'}, 'output': {'column_names': ['pickup_last_1'], 'func': 'predict_proba', 'targets': {'pickup_last': ['pickup_last_1']}}, 'run': {'civisml_version': '2.2.4', 'configuration': {'data': {'file_type': 'csv', 'location': '/tmp/tmpz1s2284w/data.csv', 'parameters': {'compression': 'gzip', 'dtype': {'age_18_22': 'float32', 'age_23_29': 'float32', 'age_30_39': 'float32', 'age_40_49': 'float32', 'age_50_59': 'float32', 'age_60_69': 'float32', 'age_70_79': 'float32', 'age_80plus': 'float32', 'age_continuous': 'float32', 'anti_trump_voter': 'float32', ...}, 'false_values': ['f'], 'header': None, 'names': ['person_id', 'pickup_last', 'civis_2020_marriage', 'civis_2020_children_present', 'civis_2020_partisanship', 'civis_2020_ideology_liberal', 'civis_2020_spanish_language_preference', 'civis_2018_turnout', 'civis_2018_partisanship', 'civis_2018_gotv', 'civis_2018_ballot_dropoff', 'civis_2018_congressional_gotv_raw', 'civis_2018_congressional_support', 'civis_2018_avev', 'dnc_2018_college_graduate', 'dnc_2018_income_dollars', 'dnc_2018_high_school_only', 'dnc_2018_income_rank', 'civis_2020_race_native', 'civis_2020_race_black', ...], 'sep': ',', 'true_values': ['t']}, 'primary_key': 'person_id', 'y': ['pickup_last']}, 'job': {'model_type': 'classification'}, 'job_type': 'train', 'output_location': '/tmp/tmpz1s2284w'}, 'dependencies': None, 'n_jobs': 36, 'platform': 'linux', 'runtime': 330.1825211048126, 'runtime_data_read': 109.56988263130188, 'runtime_model': 108.77477693557739, 'status': 'succeeded', 'template_id': 11219, ...}, 'warnings': []}, source=None, source_type=None, tablename='bernie_cherdeman.contactibility_modeling_frame_land_co_tx', database='Bernie DS', pkey='person_id', target=None, sql_where=None, sql_limit=None, parameters={'chunksize': 5000, 'dtype': {'age_18_22': 'float32', 'age_23_29': 'float32', 'age_30_39': 'float32', 'age_40_49': 'float32', 'age_50_59': 'float32', 'age_60_69': 'float32', 'age_70_79': 'float32', 'age_80plus': 'float32', 'age_continuous': 'float32', 'aggr_house_value_acs_13_17': 'float32', ...}, 'false_values': ['f'], 'true_values': ['t']}, log_level='WARNING', client_api_spec=OrderedDict([('swagger', '2.0'), ('info', Ordere... ('security', [OrderedDict([('api_key', [])])])]))\n     80 \n     81         # Prepare input data\n     82         data_path, reader_params, inputs_metadata = persist.inputs.fetch_data(\n     83             tempdir, data_path=location, civis_file_id=civis_file,\n     84             tablename=tablename, database=database, sql_where=sql_where,\n---> 85             sql_limit=sql_limit, cols_to_not_cast=[pkey], client=client)\n        sql_limit = None\n        pkey = 'person_id'\n        client = <civis.civis.APIClient object>\n     86         parameters.update(reader_params)\n     87         conf['data'] = build.paro_input_config(\n     88             data_path, primary_key=pkey, parameters=parameters,\n     89             streaming=True)\n\n...........................................................................\n/opt/conda/lib/python3.6/site-packages/civismodel-2.2.4-py3.6.egg/civismodel/persistence/inputs.py in fetch_data(local_directory='/tmp/tmpm5db078m', data_path=None, civis_file_id=None, tablename='bernie_cherdeman.contactibility_modeling_frame_land_co_tx', database='Bernie DS', sql_where=None, sql_limit=None, cols_to_not_cast=['person_id'], client=<civis.civis.APIClient object>)\n     97                  tablename, database)\n     98         data_fname = os.path.join(local_directory, default_fname)\n     99         reader_params, civis_file_id = fetch_data_from_table(\n    100             output_fname=data_fname, tablename=tablename, database=database,\n    101             sql_where=sql_where, sql_limit=sql_limit,\n--> 102             cols_to_not_cast=cols_to_not_cast, client=client)\n        cols_to_not_cast = ['person_id']\n        client = <civis.civis.APIClient object>\n    103         log.info('Export complete.')\n    104         log.debug('Exported table data can be retrieved from '\n    105                   'Civis File ID %d', civis_file_id)\n    106 \n\n...........................................................................\n/opt/conda/lib/python3.6/site-packages/civismodel-2.2.4-py3.6.egg/civismodel/persistence/table.py in fetch_data_from_table(output_fname='/tmp/tmpm5db078m/data.csv', tablename='bernie_cherdeman.contactibility_modeling_frame_land_co_tx', database='Bernie DS', sql_where=None, sql_limit=None, delimiter=',', compression='gzip', cols_to_not_cast=['person_id'], client=<civis.civis.APIClient object>)\n    429                        compression='none' if not compression else compression,\n    430                        client=client)\n    431     log.debug('Export job ID is %s and run ID is %s', *job.poller_args)\n    432     outputs = job.result()['output']\n    433     if not outputs:\n--> 434         raise EmptyResultError(f'No rows selected from table \"{tablename}\" '\n    435                                f'in {database}.')\n    436     civis_file_id = outputs[0]['file_id']\n    437 \n    438     return csv_reader_parameters, civis_file_id\n\nEmptyResultError: No rows selected from table \"bernie_cherdeman.contactibility_modeling_frame_land_co_tx\" in Bernie DS.\n___________________________________________________________________________\n",
     "output_type": "error",
     "traceback": [
      "\u001b[0;31m---------------------------------------------------------------------------\u001b[0m",
      "\u001b[0;31mModelError\u001b[0m                                Traceback (most recent call last)",
      "\u001b[0;32m<ipython-input-10-8f6d70e22a89>\u001b[0m in \u001b[0;36m<module>\u001b[0;34m()\u001b[0m\n\u001b[1;32m     16\u001b[0m                    \u001b[0moutput_table\u001b[0m\u001b[0;34m=\u001b[0m\u001b[0mSCORES_TABLE\u001b[0m\u001b[0;34m,\u001b[0m\u001b[0;34m\u001b[0m\u001b[0m\n\u001b[1;32m     17\u001b[0m                    disk_space=10)\n\u001b[0;32m---> 18\u001b[0;31m \u001b[0mscores\u001b[0m\u001b[0;34m.\u001b[0m\u001b[0mresult\u001b[0m\u001b[0;34m(\u001b[0m\u001b[0;34m)\u001b[0m\u001b[0;34m\u001b[0m\u001b[0m\n\u001b[0m\u001b[1;32m     19\u001b[0m \u001b[0;34m\u001b[0m\u001b[0m\n",
      "\u001b[0;32m~/anaconda3/lib/python3.6/concurrent/futures/_base.py\u001b[0m in \u001b[0;36mresult\u001b[0;34m(self, timeout)\u001b[0m\n\u001b[1;32m    430\u001b[0m                 \u001b[0;32mraise\u001b[0m \u001b[0mCancelledError\u001b[0m\u001b[0;34m(\u001b[0m\u001b[0;34m)\u001b[0m\u001b[0;34m\u001b[0m\u001b[0m\n\u001b[1;32m    431\u001b[0m             \u001b[0;32melif\u001b[0m \u001b[0mself\u001b[0m\u001b[0;34m.\u001b[0m\u001b[0m_state\u001b[0m \u001b[0;34m==\u001b[0m \u001b[0mFINISHED\u001b[0m\u001b[0;34m:\u001b[0m\u001b[0;34m\u001b[0m\u001b[0m\n\u001b[0;32m--> 432\u001b[0;31m                 \u001b[0;32mreturn\u001b[0m \u001b[0mself\u001b[0m\u001b[0;34m.\u001b[0m\u001b[0m__get_result\u001b[0m\u001b[0;34m(\u001b[0m\u001b[0;34m)\u001b[0m\u001b[0;34m\u001b[0m\u001b[0m\n\u001b[0m\u001b[1;32m    433\u001b[0m             \u001b[0;32melse\u001b[0m\u001b[0;34m:\u001b[0m\u001b[0;34m\u001b[0m\u001b[0m\n\u001b[1;32m    434\u001b[0m                 \u001b[0;32mraise\u001b[0m \u001b[0mTimeoutError\u001b[0m\u001b[0;34m(\u001b[0m\u001b[0;34m)\u001b[0m\u001b[0;34m\u001b[0m\u001b[0m\n",
      "\u001b[0;32m~/anaconda3/lib/python3.6/concurrent/futures/_base.py\u001b[0m in \u001b[0;36m__get_result\u001b[0;34m(self)\u001b[0m\n\u001b[1;32m    382\u001b[0m     \u001b[0;32mdef\u001b[0m \u001b[0m__get_result\u001b[0m\u001b[0;34m(\u001b[0m\u001b[0mself\u001b[0m\u001b[0;34m)\u001b[0m\u001b[0;34m:\u001b[0m\u001b[0;34m\u001b[0m\u001b[0m\n\u001b[1;32m    383\u001b[0m         \u001b[0;32mif\u001b[0m \u001b[0mself\u001b[0m\u001b[0;34m.\u001b[0m\u001b[0m_exception\u001b[0m\u001b[0;34m:\u001b[0m\u001b[0;34m\u001b[0m\u001b[0m\n\u001b[0;32m--> 384\u001b[0;31m             \u001b[0;32mraise\u001b[0m \u001b[0mself\u001b[0m\u001b[0;34m.\u001b[0m\u001b[0m_exception\u001b[0m\u001b[0;34m\u001b[0m\u001b[0m\n\u001b[0m\u001b[1;32m    385\u001b[0m         \u001b[0;32melse\u001b[0m\u001b[0;34m:\u001b[0m\u001b[0;34m\u001b[0m\u001b[0m\n\u001b[1;32m    386\u001b[0m             \u001b[0;32mreturn\u001b[0m \u001b[0mself\u001b[0m\u001b[0;34m.\u001b[0m\u001b[0m_result\u001b[0m\u001b[0;34m\u001b[0m\u001b[0m\n",
      "\u001b[0;31mModelError\u001b[0m: Model run failed with stack trace:\nTraceback (most recent call last):\n  File \"/opt/conda/lib/python3.6/site-packages/civismodel-2.2.4-py3.6.egg/civismodel/predict/core.py\", line 320, in spawn_predict_jobs\n    output = parallel(delayed(func)(**args) for args in iterkwargs)\n  File \"/opt/conda/lib/python3.6/site-packages/sklearn/externals/joblib/parallel.py\", line 789, in __call__\n    self.retrieve()\n  File \"/opt/conda/lib/python3.6/site-packages/sklearn/externals/joblib/parallel.py\", line 701, in retrieve\n    self._output.extend(job.get())\n  File \"/opt/conda/lib/python3.6/site-packages/civis/parallel.py\", line 728, in get\n    raise self.result\njoblib.my_exceptions.TransportableException: TransportableException\n___________________________________________________________________________\nEmptyResultError                                   Mon Feb 10 21:44:16 2020\nPID: 1                                  Python 3.6.4: /opt/conda/bin/python\n...........................................................................\n/opt/conda/lib/python3.6/site-packages/sklearn/externals/joblib/parallel.py in __call__(self=<sklearn.externals.joblib.parallel.BatchedCalls object>)\n    126     def __init__(self, iterator_slice):\n    127         self.items = list(iterator_slice)\n    128         self._size = len(self.items)\n    129 \n    130     def __call__(self):\n--> 131         return [func(*args, **kwargs) for func, args, kwargs in self.items]\n        self.items = [(functools.partial(<function dispatch at 0x7fb96e...('security', [OrderedDict([('api_key', [])])])])), (), {'database': 'Bernie DS', 'parameters': {'dtype': {'age_18_22': 'float32', 'age_23_29': 'float32', 'age_30_39': 'float32', 'age_40_49': 'float32', 'age_50_59': 'float32', 'age_60_69': 'float32', 'age_70_79': 'float32', 'age_80plus': 'float32', 'age_continuous': 'float32', 'aggr_house_value_acs_13_17': 'float32', ...}, 'false_values': ['f'], 'true_values': ['t']}, 'pkey': 'person_id', 'source_type': None, 'sources': [None], 'sql_limit': None, 'sql_where': None, 'tablename': 'bernie_cherdeman.contactibility_modeling_frame_land_co_tx', 'target': None})]\n    132 \n    133     def __len__(self):\n    134         return self._size\n    135 \n\n...........................................................................\n/opt/conda/lib/python3.6/site-packages/sklearn/externals/joblib/parallel.py in <listcomp>(.0=<list_iterator object>)\n    126     def __init__(self, iterator_slice):\n    127         self.items = list(iterator_slice)\n    128         self._size = len(self.items)\n    129 \n    130     def __call__(self):\n--> 131         return [func(*args, **kwargs) for func, args, kwargs in self.items]\n        func = functools.partial(<function dispatch at 0x7fb96e...('security', [OrderedDict([('api_key', [])])])]))\n        args = ()\n        kwargs = {'database': 'Bernie DS', 'parameters': {'dtype': {'age_18_22': 'float32', 'age_23_29': 'float32', 'age_30_39': 'float32', 'age_40_49': 'float32', 'age_50_59': 'float32', 'age_60_69': 'float32', 'age_70_79': 'float32', 'age_80plus': 'float32', 'age_continuous': 'float32', 'aggr_house_value_acs_13_17': 'float32', ...}, 'false_values': ['f'], 'true_values': ['t']}, 'pkey': 'person_id', 'source_type': None, 'sources': [None], 'sql_limit': None, 'sql_where': None, 'tablename': 'bernie_cherdeman.contactibility_modeling_frame_land_co_tx', 'target': None}\n    132 \n    133     def __len__(self):\n    134         return self._size\n    135 \n\n...........................................................................\n/opt/conda/lib/python3.6/site-packages/civismodel-2.2.4-py3.6.egg/civismodel/predict/scorefunc.py in dispatch(sources=[None], source_type=None, tablename='bernie_cherdeman.contactibility_modeling_frame_land_co_tx', database='Bernie DS', pkey='person_id', target=None, sql_where=None, sql_limit=None, parameters={'dtype': {'age_18_22': 'float32', 'age_23_29': 'float32', 'age_30_39': 'float32', 'age_40_49': 'float32', 'age_50_59': 'float32', 'age_60_69': 'float32', 'age_70_79': 'float32', 'age_80plus': 'float32', 'age_continuous': 'float32', 'aggr_house_value_acs_13_17': 'float32', ...}, 'false_values': ['f'], 'true_values': ['t']}, trained_model_file_id=84527309, train_metadata={'data': {'class_names': [0, 1], 'col_types_read': ['object', 'int32', 'float32', 'float32', 'float32', 'float32', 'float32', 'float32', 'float32', 'float32', 'float32', 'float32', 'float32', 'float32', 'float32', 'float32', 'float32', 'float32', 'float32', 'float32', ...], 'column_names': ['civis_2020_marriage', 'civis_2020_children_present', 'civis_2020_partisanship', 'civis_2020_ideology_liberal', 'civis_2020_spanish_language_preference', 'civis_2018_turnout', 'civis_2018_partisanship', 'civis_2018_gotv', 'civis_2018_ballot_dropoff', 'civis_2018_congressional_gotv_raw', 'civis_2018_congressional_support', 'civis_2018_avev', 'dnc_2018_college_graduate', 'dnc_2018_income_dollars', 'dnc_2018_high_school_only', 'dnc_2018_income_rank', 'civis_2018_gotv_raw', 'civis_2018_cultural_persuasion', 'civis_2018_economic_persuasion', 'civis_2018_political_persuasion', ...], 'column_names_read': ['person_id', 'pickup_last', 'civis_2020_marriage', 'civis_2020_children_present', 'civis_2020_partisanship', 'civis_2020_ideology_liberal', 'civis_2020_spanish_language_preference', 'civis_2018_turnout', 'civis_2018_partisanship', 'civis_2018_gotv', 'civis_2018_ballot_dropoff', 'civis_2018_congressional_gotv_raw', 'civis_2018_congressional_support', 'civis_2018_avev', 'dnc_2018_college_graduate', 'dnc_2018_income_dollars', 'dnc_2018_high_school_only', 'dnc_2018_income_rank', 'civis_2020_race_native', 'civis_2020_race_black', ...], 'column_names_selected': ['civis_2020_marriage', 'civis_2020_children_present', 'civis_2020_partisanship', 'civis_2020_ideology_liberal', 'civis_2020_spanish_language_preference', 'civis_2018_turnout', 'civis_2018_partisanship', 'civis_2018_gotv', 'civis_2018_ballot_dropoff', 'civis_2018_congressional_gotv_raw', 'civis_2018_congressional_support', 'civis_2018_avev', 'dnc_2018_college_graduate', 'dnc_2018_income_dollars', 'dnc_2018_high_school_only', 'dnc_2018_income_rank', 'civis_2018_gotv_raw', 'civis_2018_cultural_persuasion', 'civis_2018_economic_persuasion', 'civis_2018_political_persuasion', ...], 'fit_param_cols': {}, 'n_cols': 160, 'n_cols_read': 206, 'n_rows': 58477, 'n_rows_read': 58477, ...}, 'data_platform': {'location': 84526758, 'reader_parameters': {'compression': 'gzip', 'dtype': {'age_18_22': 'float32', 'age_23_29': 'float32', 'age_30_39': 'float32', 'age_40_49': 'float32', 'age_50_59': 'float32', 'age_60_69': 'float32', 'age_70_79': 'float32', 'age_80plus': 'float32', 'age_continuous': 'float32', 'anti_trump_voter': 'float32', ...}, 'false_values': ['f'], 'header': None, 'names': ['person_id', 'pickup_last', 'civis_2020_marriage', 'civis_2020_children_present', 'civis_2020_partisanship', 'civis_2020_ideology_liberal', 'civis_2020_spanish_language_preference', 'civis_2018_turnout', 'civis_2018_partisanship', 'civis_2018_gotv', 'civis_2018_ballot_dropoff', 'civis_2018_congressional_gotv_raw', 'civis_2018_congressional_support', 'civis_2018_avev', 'dnc_2018_college_graduate', 'dnc_2018_income_dollars', 'dnc_2018_high_school_only', 'dnc_2018_income_rank', 'civis_2020_race_native', 'civis_2020_race_black', ...], 'sep': ',', 'true_values': ['t']}, 'source_type': 'civis_file_id', 'table_source': {'database': 'Bernie DS', 'sql_limit': None, 'sql_where': 'pickup_last is not null', 'tablename': 'bernie_cherdeman.getthru_training_land'}}, 'metrics': {'accuracy': 0.6692032765018725, 'brier_score': 0.20969659674888116, 'calibration_curve': [[0.18644311219608228, 0.0922279792746114], [0.25607833727954216, 0.15430388837591053], [0.35308384766580625, 0.3307855046748106], [0.44584810280752196, 0.4708430523158947], [0.5467114671103235, 0.5956647036712192], [0.6485809899452967, 0.7003700962250186], [0.7385930670405736, 0.8241824182418241], [0.8059158168340984, 0.9473684210526315]], 'confusion_matrix': [[26865, 5839], [13505, 12268]], 'deciles': [0.11935704514363885, 0.19018299982897213, 0.2901846785225718, 0.3585841313269494, 0.4231229690439542, 0.46785225718194257, 0.5124829001367989, 0.5882352941176471, 0.6666666666666666, 0.7906976744186046], 'log_loss': 0.6079040760609851, 'oos_score_table': None, 'p_correct': [0.8214591487279843, 0.4760020176153339], 'pop_incidence_pred': [0.6903568924534432, 0.3096431075465568], 'pop_incidence_true': [0.5592626160712759, 0.44073738392872414], ...}, 'model': {'cv_best_params': {}, 'cv_results': {}, 'functions': ['predict', 'predict_proba', 'predict_log_proba'], 'model': 'random_forest_classifier', 'model_source': 'predefined', 'parameters': {'feature_importances': [0.0034251220095993023, 0.018018700348885256, 0.003441247964622645, 0.015105669611137124, 0.007153537583723951, 0.03141911605901064, 0.0028462140727196017, 0.002108827061555194, 0.0321646139232653, 0.0030429630237297396, 0.0015246254600187051, 0.0115360984879129, 0.005041532195649122, 0.005570778141853108, 0.021038280085015983, 0.006793333416850075, 0.002831427097231352, 0.0018213483497714308, 0.009481970169265328, 0.00392466708826881, ...], 'relcols': [0, 1, 2, 3, 4, 5, 6, 7, 8, 9, 10, 11, 12, 13, 14, 15, 16, 17, 18, 19, ...], 'relvars': ['civis_2020_marriage', 'civis_2020_children_present', 'civis_2020_partisanship', 'civis_2020_ideology_liberal', 'civis_2020_spanish_language_preference', 'civis_2018_turnout', 'civis_2018_partisanship', 'civis_2018_gotv', 'civis_2018_ballot_dropoff', 'civis_2018_congressional_gotv_raw', 'civis_2018_congressional_support', 'civis_2018_avev', 'dnc_2018_college_graduate', 'dnc_2018_income_dollars', 'dnc_2018_high_school_only', 'dnc_2018_income_rank', 'civis_2018_gotv_raw', 'civis_2018_cultural_persuasion', 'civis_2018_economic_persuasion', 'civis_2018_political_persuasion', ...]}, 'type': 'classification'}, 'output': {'column_names': ['pickup_last_1'], 'func': 'predict_proba', 'targets': {'pickup_last': ['pickup_last_1']}}, 'run': {'civisml_version': '2.2.4', 'configuration': {'data': {'file_type': 'csv', 'location': '/tmp/tmpz1s2284w/data.csv', 'parameters': {'compression': 'gzip', 'dtype': {'age_18_22': 'float32', 'age_23_29': 'float32', 'age_30_39': 'float32', 'age_40_49': 'float32', 'age_50_59': 'float32', 'age_60_69': 'float32', 'age_70_79': 'float32', 'age_80plus': 'float32', 'age_continuous': 'float32', 'anti_trump_voter': 'float32', ...}, 'false_values': ['f'], 'header': None, 'names': ['person_id', 'pickup_last', 'civis_2020_marriage', 'civis_2020_children_present', 'civis_2020_partisanship', 'civis_2020_ideology_liberal', 'civis_2020_spanish_language_preference', 'civis_2018_turnout', 'civis_2018_partisanship', 'civis_2018_gotv', 'civis_2018_ballot_dropoff', 'civis_2018_congressional_gotv_raw', 'civis_2018_congressional_support', 'civis_2018_avev', 'dnc_2018_college_graduate', 'dnc_2018_income_dollars', 'dnc_2018_high_school_only', 'dnc_2018_income_rank', 'civis_2020_race_native', 'civis_2020_race_black', ...], 'sep': ',', 'true_values': ['t']}, 'primary_key': 'person_id', 'y': ['pickup_last']}, 'job': {'model_type': 'classification'}, 'job_type': 'train', 'output_location': '/tmp/tmpz1s2284w'}, 'dependencies': None, 'n_jobs': 36, 'platform': 'linux', 'runtime': 330.1825211048126, 'runtime_data_read': 109.56988263130188, 'runtime_model': 108.77477693557739, 'status': 'succeeded', 'template_id': 11219, ...}, 'warnings': []}, log_level='WARNING', client_api_spec=OrderedDict([('swagger', '2.0'), ('info', Ordere... ('security', [OrderedDict([('api_key', [])])])]))\n    169                            log_level=log_level,\n    170                            client_api_spec=client_api_spec)\n    171         predict_warnings: List[str] = []\n    172         ppredict = catch_warnings(predict_warnings)(ppredict)\n    173 \n--> 174         results = list(mapper(ppredict, sources))\n        results = undefined\n        mapper = <class 'map'>\n        ppredict = <function catch_warnings.<locals>.outer.<locals>.func_decorator>\n        sources = [None]\n    175         for r in results:\n    176             r['warnings'] = predict_warnings\n    177     return results\n\n...........................................................................\n/opt/conda/lib/python3.6/site-packages/civismodel-2.2.4-py3.6.egg/civismodel/errors.py in func_decorator(*args=(None,), **kwargs={})\n     94                 warning_list.append(warning)\n     95 \n     96             # modify -- then restore -- defaults in warnings module\n     97             try:\n     98                 warnings.showwarning = _showwarning\n---> 99                 results = func(*args, **kwargs)\n        results = undefined\n        args = (None,)\n        kwargs = {}\n    100             finally:\n    101                 warnings.showwarning = showwarning_old\n    102             return results\n    103 \n\n...........................................................................\n/opt/conda/lib/python3.6/site-packages/civismodel-2.2.4-py3.6.egg/civismodel/predict/scorefunc.py in predict_single(model_fname='/tmp/tmpo4p7nqrz/estimator.pkl', training_metadata={'data': {'class_names': [0, 1], 'col_types_read': ['object', 'int32', 'float32', 'float32', 'float32', 'float32', 'float32', 'float32', 'float32', 'float32', 'float32', 'float32', 'float32', 'float32', 'float32', 'float32', 'float32', 'float32', 'float32', 'float32', ...], 'column_names': ['civis_2020_marriage', 'civis_2020_children_present', 'civis_2020_partisanship', 'civis_2020_ideology_liberal', 'civis_2020_spanish_language_preference', 'civis_2018_turnout', 'civis_2018_partisanship', 'civis_2018_gotv', 'civis_2018_ballot_dropoff', 'civis_2018_congressional_gotv_raw', 'civis_2018_congressional_support', 'civis_2018_avev', 'dnc_2018_college_graduate', 'dnc_2018_income_dollars', 'dnc_2018_high_school_only', 'dnc_2018_income_rank', 'civis_2018_gotv_raw', 'civis_2018_cultural_persuasion', 'civis_2018_economic_persuasion', 'civis_2018_political_persuasion', ...], 'column_names_read': ['person_id', 'pickup_last', 'civis_2020_marriage', 'civis_2020_children_present', 'civis_2020_partisanship', 'civis_2020_ideology_liberal', 'civis_2020_spanish_language_preference', 'civis_2018_turnout', 'civis_2018_partisanship', 'civis_2018_gotv', 'civis_2018_ballot_dropoff', 'civis_2018_congressional_gotv_raw', 'civis_2018_congressional_support', 'civis_2018_avev', 'dnc_2018_college_graduate', 'dnc_2018_income_dollars', 'dnc_2018_high_school_only', 'dnc_2018_income_rank', 'civis_2020_race_native', 'civis_2020_race_black', ...], 'column_names_selected': ['civis_2020_marriage', 'civis_2020_children_present', 'civis_2020_partisanship', 'civis_2020_ideology_liberal', 'civis_2020_spanish_language_preference', 'civis_2018_turnout', 'civis_2018_partisanship', 'civis_2018_gotv', 'civis_2018_ballot_dropoff', 'civis_2018_congressional_gotv_raw', 'civis_2018_congressional_support', 'civis_2018_avev', 'dnc_2018_college_graduate', 'dnc_2018_income_dollars', 'dnc_2018_high_school_only', 'dnc_2018_income_rank', 'civis_2018_gotv_raw', 'civis_2018_cultural_persuasion', 'civis_2018_economic_persuasion', 'civis_2018_political_persuasion', ...], 'fit_param_cols': {}, 'n_cols': 160, 'n_cols_read': 206, 'n_rows': 58477, 'n_rows_read': 58477, ...}, 'data_platform': {'location': 84526758, 'reader_parameters': {'compression': 'gzip', 'dtype': {'age_18_22': 'float32', 'age_23_29': 'float32', 'age_30_39': 'float32', 'age_40_49': 'float32', 'age_50_59': 'float32', 'age_60_69': 'float32', 'age_70_79': 'float32', 'age_80plus': 'float32', 'age_continuous': 'float32', 'anti_trump_voter': 'float32', ...}, 'false_values': ['f'], 'header': None, 'names': ['person_id', 'pickup_last', 'civis_2020_marriage', 'civis_2020_children_present', 'civis_2020_partisanship', 'civis_2020_ideology_liberal', 'civis_2020_spanish_language_preference', 'civis_2018_turnout', 'civis_2018_partisanship', 'civis_2018_gotv', 'civis_2018_ballot_dropoff', 'civis_2018_congressional_gotv_raw', 'civis_2018_congressional_support', 'civis_2018_avev', 'dnc_2018_college_graduate', 'dnc_2018_income_dollars', 'dnc_2018_high_school_only', 'dnc_2018_income_rank', 'civis_2020_race_native', 'civis_2020_race_black', ...], 'sep': ',', 'true_values': ['t']}, 'source_type': 'civis_file_id', 'table_source': {'database': 'Bernie DS', 'sql_limit': None, 'sql_where': 'pickup_last is not null', 'tablename': 'bernie_cherdeman.getthru_training_land'}}, 'metrics': {'accuracy': 0.6692032765018725, 'brier_score': 0.20969659674888116, 'calibration_curve': [[0.18644311219608228, 0.0922279792746114], [0.25607833727954216, 0.15430388837591053], [0.35308384766580625, 0.3307855046748106], [0.44584810280752196, 0.4708430523158947], [0.5467114671103235, 0.5956647036712192], [0.6485809899452967, 0.7003700962250186], [0.7385930670405736, 0.8241824182418241], [0.8059158168340984, 0.9473684210526315]], 'confusion_matrix': [[26865, 5839], [13505, 12268]], 'deciles': [0.11935704514363885, 0.19018299982897213, 0.2901846785225718, 0.3585841313269494, 0.4231229690439542, 0.46785225718194257, 0.5124829001367989, 0.5882352941176471, 0.6666666666666666, 0.7906976744186046], 'log_loss': 0.6079040760609851, 'oos_score_table': None, 'p_correct': [0.8214591487279843, 0.4760020176153339], 'pop_incidence_pred': [0.6903568924534432, 0.3096431075465568], 'pop_incidence_true': [0.5592626160712759, 0.44073738392872414], ...}, 'model': {'cv_best_params': {}, 'cv_results': {}, 'functions': ['predict', 'predict_proba', 'predict_log_proba'], 'model': 'random_forest_classifier', 'model_source': 'predefined', 'parameters': {'feature_importances': [0.0034251220095993023, 0.018018700348885256, 0.003441247964622645, 0.015105669611137124, 0.007153537583723951, 0.03141911605901064, 0.0028462140727196017, 0.002108827061555194, 0.0321646139232653, 0.0030429630237297396, 0.0015246254600187051, 0.0115360984879129, 0.005041532195649122, 0.005570778141853108, 0.021038280085015983, 0.006793333416850075, 0.002831427097231352, 0.0018213483497714308, 0.009481970169265328, 0.00392466708826881, ...], 'relcols': [0, 1, 2, 3, 4, 5, 6, 7, 8, 9, 10, 11, 12, 13, 14, 15, 16, 17, 18, 19, ...], 'relvars': ['civis_2020_marriage', 'civis_2020_children_present', 'civis_2020_partisanship', 'civis_2020_ideology_liberal', 'civis_2020_spanish_language_preference', 'civis_2018_turnout', 'civis_2018_partisanship', 'civis_2018_gotv', 'civis_2018_ballot_dropoff', 'civis_2018_congressional_gotv_raw', 'civis_2018_congressional_support', 'civis_2018_avev', 'dnc_2018_college_graduate', 'dnc_2018_income_dollars', 'dnc_2018_high_school_only', 'dnc_2018_income_rank', 'civis_2018_gotv_raw', 'civis_2018_cultural_persuasion', 'civis_2018_economic_persuasion', 'civis_2018_political_persuasion', ...]}, 'type': 'classification'}, 'output': {'column_names': ['pickup_last_1'], 'func': 'predict_proba', 'targets': {'pickup_last': ['pickup_last_1']}}, 'run': {'civisml_version': '2.2.4', 'configuration': {'data': {'file_type': 'csv', 'location': '/tmp/tmpz1s2284w/data.csv', 'parameters': {'compression': 'gzip', 'dtype': {'age_18_22': 'float32', 'age_23_29': 'float32', 'age_30_39': 'float32', 'age_40_49': 'float32', 'age_50_59': 'float32', 'age_60_69': 'float32', 'age_70_79': 'float32', 'age_80plus': 'float32', 'age_continuous': 'float32', 'anti_trump_voter': 'float32', ...}, 'false_values': ['f'], 'header': None, 'names': ['person_id', 'pickup_last', 'civis_2020_marriage', 'civis_2020_children_present', 'civis_2020_partisanship', 'civis_2020_ideology_liberal', 'civis_2020_spanish_language_preference', 'civis_2018_turnout', 'civis_2018_partisanship', 'civis_2018_gotv', 'civis_2018_ballot_dropoff', 'civis_2018_congressional_gotv_raw', 'civis_2018_congressional_support', 'civis_2018_avev', 'dnc_2018_college_graduate', 'dnc_2018_income_dollars', 'dnc_2018_high_school_only', 'dnc_2018_income_rank', 'civis_2020_race_native', 'civis_2020_race_black', ...], 'sep': ',', 'true_values': ['t']}, 'primary_key': 'person_id', 'y': ['pickup_last']}, 'job': {'model_type': 'classification'}, 'job_type': 'train', 'output_location': '/tmp/tmpz1s2284w'}, 'dependencies': None, 'n_jobs': 36, 'platform': 'linux', 'runtime': 330.1825211048126, 'runtime_data_read': 109.56988263130188, 'runtime_model': 108.77477693557739, 'status': 'succeeded', 'template_id': 11219, ...}, 'warnings': []}, source=None, source_type=None, tablename='bernie_cherdeman.contactibility_modeling_frame_land_co_tx', database='Bernie DS', pkey='person_id', target=None, sql_where=None, sql_limit=None, parameters={'chunksize': 5000, 'dtype': {'age_18_22': 'float32', 'age_23_29': 'float32', 'age_30_39': 'float32', 'age_40_49': 'float32', 'age_50_59': 'float32', 'age_60_69': 'float32', 'age_70_79': 'float32', 'age_80plus': 'float32', 'age_continuous': 'float32', 'aggr_house_value_acs_13_17': 'float32', ...}, 'false_values': ['f'], 'true_values': ['t']}, log_level='WARNING', client_api_spec=OrderedDict([('swagger', '2.0'), ('info', Ordere... ('security', [OrderedDict([('api_key', [])])])]))\n     80 \n     81         # Prepare input data\n     82         data_path, reader_params, inputs_metadata = persist.inputs.fetch_data(\n     83             tempdir, data_path=location, civis_file_id=civis_file,\n     84             tablename=tablename, database=database, sql_where=sql_where,\n---> 85             sql_limit=sql_limit, cols_to_not_cast=[pkey], client=client)\n        sql_limit = None\n        pkey = 'person_id'\n        client = <civis.civis.APIClient object>\n     86         parameters.update(reader_params)\n     87         conf['data'] = build.paro_input_config(\n     88             data_path, primary_key=pkey, parameters=parameters,\n     89             streaming=True)\n\n...........................................................................\n/opt/conda/lib/python3.6/site-packages/civismodel-2.2.4-py3.6.egg/civismodel/persistence/inputs.py in fetch_data(local_directory='/tmp/tmpm5db078m', data_path=None, civis_file_id=None, tablename='bernie_cherdeman.contactibility_modeling_frame_land_co_tx', database='Bernie DS', sql_where=None, sql_limit=None, cols_to_not_cast=['person_id'], client=<civis.civis.APIClient object>)\n     97                  tablename, database)\n     98         data_fname = os.path.join(local_directory, default_fname)\n     99         reader_params, civis_file_id = fetch_data_from_table(\n    100             output_fname=data_fname, tablename=tablename, database=database,\n    101             sql_where=sql_where, sql_limit=sql_limit,\n--> 102             cols_to_not_cast=cols_to_not_cast, client=client)\n        cols_to_not_cast = ['person_id']\n        client = <civis.civis.APIClient object>\n    103         log.info('Export complete.')\n    104         log.debug('Exported table data can be retrieved from '\n    105                   'Civis File ID %d', civis_file_id)\n    106 \n\n...........................................................................\n/opt/conda/lib/python3.6/site-packages/civismodel-2.2.4-py3.6.egg/civismodel/persistence/table.py in fetch_data_from_table(output_fname='/tmp/tmpm5db078m/data.csv', tablename='bernie_cherdeman.contactibility_modeling_frame_land_co_tx', database='Bernie DS', sql_where=None, sql_limit=None, delimiter=',', compression='gzip', cols_to_not_cast=['person_id'], client=<civis.civis.APIClient object>)\n    429                        compression='none' if not compression else compression,\n    430                        client=client)\n    431     log.debug('Export job ID is %s and run ID is %s', *job.poller_args)\n    432     outputs = job.result()['output']\n    433     if not outputs:\n--> 434         raise EmptyResultError(f'No rows selected from table \"{tablename}\" '\n    435                                f'in {database}.')\n    436     civis_file_id = outputs[0]['file_id']\n    437 \n    438     return csv_reader_parameters, civis_file_id\n\nEmptyResultError: No rows selected from table \"bernie_cherdeman.contactibility_modeling_frame_land_co_tx\" in Bernie DS.\n___________________________________________________________________________\n\nThe above exception was the direct cause of the following exception:\n\nTraceback (most recent call last):\n  File \"/opt/conda/lib/python3.6/site-packages/civismodel-2.2.4-py3.6.egg/civismodel/predict/core.py\", line 186, in run_prediction\n    output = spawn_predict_jobs(predictfunc, inputs_iter, backend, n_jobs)\n  File \"/opt/conda/lib/python3.6/site-packages/civismodel-2.2.4-py3.6.egg/civismodel/predict/core.py\", line 332, in spawn_predict_jobs\n    raise _PredictionSpawnException(str(exc), job_id_tuples) from exc\ncivismodel.errors._PredictionSpawnException: TransportableException\n___________________________________________________________________________\nEmptyResultError                                   Mon Feb 10 21:44:16 2020\nPID: 1                                  Python 3.6.4: /opt/conda/bin/python\n...........................................................................\n/opt/conda/lib/python3.6/site-packages/sklearn/externals/joblib/parallel.py in __call__(self=<sklearn.externals.joblib.parallel.BatchedCalls object>)\n    126     def __init__(self, iterator_slice):\n    127         self.items = list(iterator_slice)\n    128         self._size = len(self.items)\n    129 \n    130     def __call__(self):\n--> 131         return [func(*args, **kwargs) for func, args, kwargs in self.items]\n        self.items = [(functools.partial(<function dispatch at 0x7fb96e...('security', [OrderedDict([('api_key', [])])])])), (), {'database': 'Bernie DS', 'parameters': {'dtype': {'age_18_22': 'float32', 'age_23_29': 'float32', 'age_30_39': 'float32', 'age_40_49': 'float32', 'age_50_59': 'float32', 'age_60_69': 'float32', 'age_70_79': 'float32', 'age_80plus': 'float32', 'age_continuous': 'float32', 'aggr_house_value_acs_13_17': 'float32', ...}, 'false_values': ['f'], 'true_values': ['t']}, 'pkey': 'person_id', 'source_type': None, 'sources': [None], 'sql_limit': None, 'sql_where': None, 'tablename': 'bernie_cherdeman.contactibility_modeling_frame_land_co_tx', 'target': None})]\n    132 \n    133     def __len__(self):\n    134         return self._size\n    135 \n\n...........................................................................\n/opt/conda/lib/python3.6/site-packages/sklearn/externals/joblib/parallel.py in <listcomp>(.0=<list_iterator object>)\n    126     def __init__(self, iterator_slice):\n    127         self.items = list(iterator_slice)\n    128         self._size = len(self.items)\n    129 \n    130     def __call__(self):\n--> 131         return [func(*args, **kwargs) for func, args, kwargs in self.items]\n        func = functools.partial(<function dispatch at 0x7fb96e...('security', [OrderedDict([('api_key', [])])])]))\n        args = ()\n        kwargs = {'database': 'Bernie DS', 'parameters': {'dtype': {'age_18_22': 'float32', 'age_23_29': 'float32', 'age_30_39': 'float32', 'age_40_49': 'float32', 'age_50_59': 'float32', 'age_60_69': 'float32', 'age_70_79': 'float32', 'age_80plus': 'float32', 'age_continuous': 'float32', 'aggr_house_value_acs_13_17': 'float32', ...}, 'false_values': ['f'], 'true_values': ['t']}, 'pkey': 'person_id', 'source_type': None, 'sources': [None], 'sql_limit': None, 'sql_where': None, 'tablename': 'bernie_cherdeman.contactibility_modeling_frame_land_co_tx', 'target': None}\n    132 \n    133     def __len__(self):\n    134         return self._size\n    135 \n\n...........................................................................\n/opt/conda/lib/python3.6/site-packages/civismodel-2.2.4-py3.6.egg/civismodel/predict/scorefunc.py in dispatch(sources=[None], source_type=None, tablename='bernie_cherdeman.contactibility_modeling_frame_land_co_tx', database='Bernie DS', pkey='person_id', target=None, sql_where=None, sql_limit=None, parameters={'dtype': {'age_18_22': 'float32', 'age_23_29': 'float32', 'age_30_39': 'float32', 'age_40_49': 'float32', 'age_50_59': 'float32', 'age_60_69': 'float32', 'age_70_79': 'float32', 'age_80plus': 'float32', 'age_continuous': 'float32', 'aggr_house_value_acs_13_17': 'float32', ...}, 'false_values': ['f'], 'true_values': ['t']}, trained_model_file_id=84527309, train_metadata={'data': {'class_names': [0, 1], 'col_types_read': ['object', 'int32', 'float32', 'float32', 'float32', 'float32', 'float32', 'float32', 'float32', 'float32', 'float32', 'float32', 'float32', 'float32', 'float32', 'float32', 'float32', 'float32', 'float32', 'float32', ...], 'column_names': ['civis_2020_marriage', 'civis_2020_children_present', 'civis_2020_partisanship', 'civis_2020_ideology_liberal', 'civis_2020_spanish_language_preference', 'civis_2018_turnout', 'civis_2018_partisanship', 'civis_2018_gotv', 'civis_2018_ballot_dropoff', 'civis_2018_congressional_gotv_raw', 'civis_2018_congressional_support', 'civis_2018_avev', 'dnc_2018_college_graduate', 'dnc_2018_income_dollars', 'dnc_2018_high_school_only', 'dnc_2018_income_rank', 'civis_2018_gotv_raw', 'civis_2018_cultural_persuasion', 'civis_2018_economic_persuasion', 'civis_2018_political_persuasion', ...], 'column_names_read': ['person_id', 'pickup_last', 'civis_2020_marriage', 'civis_2020_children_present', 'civis_2020_partisanship', 'civis_2020_ideology_liberal', 'civis_2020_spanish_language_preference', 'civis_2018_turnout', 'civis_2018_partisanship', 'civis_2018_gotv', 'civis_2018_ballot_dropoff', 'civis_2018_congressional_gotv_raw', 'civis_2018_congressional_support', 'civis_2018_avev', 'dnc_2018_college_graduate', 'dnc_2018_income_dollars', 'dnc_2018_high_school_only', 'dnc_2018_income_rank', 'civis_2020_race_native', 'civis_2020_race_black', ...], 'column_names_selected': ['civis_2020_marriage', 'civis_2020_children_present', 'civis_2020_partisanship', 'civis_2020_ideology_liberal', 'civis_2020_spanish_language_preference', 'civis_2018_turnout', 'civis_2018_partisanship', 'civis_2018_gotv', 'civis_2018_ballot_dropoff', 'civis_2018_congressional_gotv_raw', 'civis_2018_congressional_support', 'civis_2018_avev', 'dnc_2018_college_graduate', 'dnc_2018_income_dollars', 'dnc_2018_high_school_only', 'dnc_2018_income_rank', 'civis_2018_gotv_raw', 'civis_2018_cultural_persuasion', 'civis_2018_economic_persuasion', 'civis_2018_political_persuasion', ...], 'fit_param_cols': {}, 'n_cols': 160, 'n_cols_read': 206, 'n_rows': 58477, 'n_rows_read': 58477, ...}, 'data_platform': {'location': 84526758, 'reader_parameters': {'compression': 'gzip', 'dtype': {'age_18_22': 'float32', 'age_23_29': 'float32', 'age_30_39': 'float32', 'age_40_49': 'float32', 'age_50_59': 'float32', 'age_60_69': 'float32', 'age_70_79': 'float32', 'age_80plus': 'float32', 'age_continuous': 'float32', 'anti_trump_voter': 'float32', ...}, 'false_values': ['f'], 'header': None, 'names': ['person_id', 'pickup_last', 'civis_2020_marriage', 'civis_2020_children_present', 'civis_2020_partisanship', 'civis_2020_ideology_liberal', 'civis_2020_spanish_language_preference', 'civis_2018_turnout', 'civis_2018_partisanship', 'civis_2018_gotv', 'civis_2018_ballot_dropoff', 'civis_2018_congressional_gotv_raw', 'civis_2018_congressional_support', 'civis_2018_avev', 'dnc_2018_college_graduate', 'dnc_2018_income_dollars', 'dnc_2018_high_school_only', 'dnc_2018_income_rank', 'civis_2020_race_native', 'civis_2020_race_black', ...], 'sep': ',', 'true_values': ['t']}, 'source_type': 'civis_file_id', 'table_source': {'database': 'Bernie DS', 'sql_limit': None, 'sql_where': 'pickup_last is not null', 'tablename': 'bernie_cherdeman.getthru_training_land'}}, 'metrics': {'accuracy': 0.6692032765018725, 'brier_score': 0.20969659674888116, 'calibration_curve': [[0.18644311219608228, 0.0922279792746114], [0.25607833727954216, 0.15430388837591053], [0.35308384766580625, 0.3307855046748106], [0.44584810280752196, 0.4708430523158947], [0.5467114671103235, 0.5956647036712192], [0.6485809899452967, 0.7003700962250186], [0.7385930670405736, 0.8241824182418241], [0.8059158168340984, 0.9473684210526315]], 'confusion_matrix': [[26865, 5839], [13505, 12268]], 'deciles': [0.11935704514363885, 0.19018299982897213, 0.2901846785225718, 0.3585841313269494, 0.4231229690439542, 0.46785225718194257, 0.5124829001367989, 0.5882352941176471, 0.6666666666666666, 0.7906976744186046], 'log_loss': 0.6079040760609851, 'oos_score_table': None, 'p_correct': [0.8214591487279843, 0.4760020176153339], 'pop_incidence_pred': [0.6903568924534432, 0.3096431075465568], 'pop_incidence_true': [0.5592626160712759, 0.44073738392872414], ...}, 'model': {'cv_best_params': {}, 'cv_results': {}, 'functions': ['predict', 'predict_proba', 'predict_log_proba'], 'model': 'random_forest_classifier', 'model_source': 'predefined', 'parameters': {'feature_importances': [0.0034251220095993023, 0.018018700348885256, 0.003441247964622645, 0.015105669611137124, 0.007153537583723951, 0.03141911605901064, 0.0028462140727196017, 0.002108827061555194, 0.0321646139232653, 0.0030429630237297396, 0.0015246254600187051, 0.0115360984879129, 0.005041532195649122, 0.005570778141853108, 0.021038280085015983, 0.006793333416850075, 0.002831427097231352, 0.0018213483497714308, 0.009481970169265328, 0.00392466708826881, ...], 'relcols': [0, 1, 2, 3, 4, 5, 6, 7, 8, 9, 10, 11, 12, 13, 14, 15, 16, 17, 18, 19, ...], 'relvars': ['civis_2020_marriage', 'civis_2020_children_present', 'civis_2020_partisanship', 'civis_2020_ideology_liberal', 'civis_2020_spanish_language_preference', 'civis_2018_turnout', 'civis_2018_partisanship', 'civis_2018_gotv', 'civis_2018_ballot_dropoff', 'civis_2018_congressional_gotv_raw', 'civis_2018_congressional_support', 'civis_2018_avev', 'dnc_2018_college_graduate', 'dnc_2018_income_dollars', 'dnc_2018_high_school_only', 'dnc_2018_income_rank', 'civis_2018_gotv_raw', 'civis_2018_cultural_persuasion', 'civis_2018_economic_persuasion', 'civis_2018_political_persuasion', ...]}, 'type': 'classification'}, 'output': {'column_names': ['pickup_last_1'], 'func': 'predict_proba', 'targets': {'pickup_last': ['pickup_last_1']}}, 'run': {'civisml_version': '2.2.4', 'configuration': {'data': {'file_type': 'csv', 'location': '/tmp/tmpz1s2284w/data.csv', 'parameters': {'compression': 'gzip', 'dtype': {'age_18_22': 'float32', 'age_23_29': 'float32', 'age_30_39': 'float32', 'age_40_49': 'float32', 'age_50_59': 'float32', 'age_60_69': 'float32', 'age_70_79': 'float32', 'age_80plus': 'float32', 'age_continuous': 'float32', 'anti_trump_voter': 'float32', ...}, 'false_values': ['f'], 'header': None, 'names': ['person_id', 'pickup_last', 'civis_2020_marriage', 'civis_2020_children_present', 'civis_2020_partisanship', 'civis_2020_ideology_liberal', 'civis_2020_spanish_language_preference', 'civis_2018_turnout', 'civis_2018_partisanship', 'civis_2018_gotv', 'civis_2018_ballot_dropoff', 'civis_2018_congressional_gotv_raw', 'civis_2018_congressional_support', 'civis_2018_avev', 'dnc_2018_college_graduate', 'dnc_2018_income_dollars', 'dnc_2018_high_school_only', 'dnc_2018_income_rank', 'civis_2020_race_native', 'civis_2020_race_black', ...], 'sep': ',', 'true_values': ['t']}, 'primary_key': 'person_id', 'y': ['pickup_last']}, 'job': {'model_type': 'classification'}, 'job_type': 'train', 'output_location': '/tmp/tmpz1s2284w'}, 'dependencies': None, 'n_jobs': 36, 'platform': 'linux', 'runtime': 330.1825211048126, 'runtime_data_read': 109.56988263130188, 'runtime_model': 108.77477693557739, 'status': 'succeeded', 'template_id': 11219, ...}, 'warnings': []}, log_level='WARNING', client_api_spec=OrderedDict([('swagger', '2.0'), ('info', Ordere... ('security', [OrderedDict([('api_key', [])])])]))\n    169                            log_level=log_level,\n    170                            client_api_spec=client_api_spec)\n    171         predict_warnings: List[str] = []\n    172         ppredict = catch_warnings(predict_warnings)(ppredict)\n    173 \n--> 174         results = list(mapper(ppredict, sources))\n        results = undefined\n        mapper = <class 'map'>\n        ppredict = <function catch_warnings.<locals>.outer.<locals>.func_decorator>\n        sources = [None]\n    175         for r in results:\n    176             r['warnings'] = predict_warnings\n    177     return results\n\n...........................................................................\n/opt/conda/lib/python3.6/site-packages/civismodel-2.2.4-py3.6.egg/civismodel/errors.py in func_decorator(*args=(None,), **kwargs={})\n     94                 warning_list.append(warning)\n     95 \n     96             # modify -- then restore -- defaults in warnings module\n     97             try:\n     98                 warnings.showwarning = _showwarning\n---> 99                 results = func(*args, **kwargs)\n        results = undefined\n        args = (None,)\n        kwargs = {}\n    100             finally:\n    101                 warnings.showwarning = showwarning_old\n    102             return results\n    103 \n\n...........................................................................\n/opt/conda/lib/python3.6/site-packages/civismodel-2.2.4-py3.6.egg/civismodel/predict/scorefunc.py in predict_single(model_fname='/tmp/tmpo4p7nqrz/estimator.pkl', training_metadata={'data': {'class_names': [0, 1], 'col_types_read': ['object', 'int32', 'float32', 'float32', 'float32', 'float32', 'float32', 'float32', 'float32', 'float32', 'float32', 'float32', 'float32', 'float32', 'float32', 'float32', 'float32', 'float32', 'float32', 'float32', ...], 'column_names': ['civis_2020_marriage', 'civis_2020_children_present', 'civis_2020_partisanship', 'civis_2020_ideology_liberal', 'civis_2020_spanish_language_preference', 'civis_2018_turnout', 'civis_2018_partisanship', 'civis_2018_gotv', 'civis_2018_ballot_dropoff', 'civis_2018_congressional_gotv_raw', 'civis_2018_congressional_support', 'civis_2018_avev', 'dnc_2018_college_graduate', 'dnc_2018_income_dollars', 'dnc_2018_high_school_only', 'dnc_2018_income_rank', 'civis_2018_gotv_raw', 'civis_2018_cultural_persuasion', 'civis_2018_economic_persuasion', 'civis_2018_political_persuasion', ...], 'column_names_read': ['person_id', 'pickup_last', 'civis_2020_marriage', 'civis_2020_children_present', 'civis_2020_partisanship', 'civis_2020_ideology_liberal', 'civis_2020_spanish_language_preference', 'civis_2018_turnout', 'civis_2018_partisanship', 'civis_2018_gotv', 'civis_2018_ballot_dropoff', 'civis_2018_congressional_gotv_raw', 'civis_2018_congressional_support', 'civis_2018_avev', 'dnc_2018_college_graduate', 'dnc_2018_income_dollars', 'dnc_2018_high_school_only', 'dnc_2018_income_rank', 'civis_2020_race_native', 'civis_2020_race_black', ...], 'column_names_selected': ['civis_2020_marriage', 'civis_2020_children_present', 'civis_2020_partisanship', 'civis_2020_ideology_liberal', 'civis_2020_spanish_language_preference', 'civis_2018_turnout', 'civis_2018_partisanship', 'civis_2018_gotv', 'civis_2018_ballot_dropoff', 'civis_2018_congressional_gotv_raw', 'civis_2018_congressional_support', 'civis_2018_avev', 'dnc_2018_college_graduate', 'dnc_2018_income_dollars', 'dnc_2018_high_school_only', 'dnc_2018_income_rank', 'civis_2018_gotv_raw', 'civis_2018_cultural_persuasion', 'civis_2018_economic_persuasion', 'civis_2018_political_persuasion', ...], 'fit_param_cols': {}, 'n_cols': 160, 'n_cols_read': 206, 'n_rows': 58477, 'n_rows_read': 58477, ...}, 'data_platform': {'location': 84526758, 'reader_parameters': {'compression': 'gzip', 'dtype': {'age_18_22': 'float32', 'age_23_29': 'float32', 'age_30_39': 'float32', 'age_40_49': 'float32', 'age_50_59': 'float32', 'age_60_69': 'float32', 'age_70_79': 'float32', 'age_80plus': 'float32', 'age_continuous': 'float32', 'anti_trump_voter': 'float32', ...}, 'false_values': ['f'], 'header': None, 'names': ['person_id', 'pickup_last', 'civis_2020_marriage', 'civis_2020_children_present', 'civis_2020_partisanship', 'civis_2020_ideology_liberal', 'civis_2020_spanish_language_preference', 'civis_2018_turnout', 'civis_2018_partisanship', 'civis_2018_gotv', 'civis_2018_ballot_dropoff', 'civis_2018_congressional_gotv_raw', 'civis_2018_congressional_support', 'civis_2018_avev', 'dnc_2018_college_graduate', 'dnc_2018_income_dollars', 'dnc_2018_high_school_only', 'dnc_2018_income_rank', 'civis_2020_race_native', 'civis_2020_race_black', ...], 'sep': ',', 'true_values': ['t']}, 'source_type': 'civis_file_id', 'table_source': {'database': 'Bernie DS', 'sql_limit': None, 'sql_where': 'pickup_last is not null', 'tablename': 'bernie_cherdeman.getthru_training_land'}}, 'metrics': {'accuracy': 0.6692032765018725, 'brier_score': 0.20969659674888116, 'calibration_curve': [[0.18644311219608228, 0.0922279792746114], [0.25607833727954216, 0.15430388837591053], [0.35308384766580625, 0.3307855046748106], [0.44584810280752196, 0.4708430523158947], [0.5467114671103235, 0.5956647036712192], [0.6485809899452967, 0.7003700962250186], [0.7385930670405736, 0.8241824182418241], [0.8059158168340984, 0.9473684210526315]], 'confusion_matrix': [[26865, 5839], [13505, 12268]], 'deciles': [0.11935704514363885, 0.19018299982897213, 0.2901846785225718, 0.3585841313269494, 0.4231229690439542, 0.46785225718194257, 0.5124829001367989, 0.5882352941176471, 0.6666666666666666, 0.7906976744186046], 'log_loss': 0.6079040760609851, 'oos_score_table': None, 'p_correct': [0.8214591487279843, 0.4760020176153339], 'pop_incidence_pred': [0.6903568924534432, 0.3096431075465568], 'pop_incidence_true': [0.5592626160712759, 0.44073738392872414], ...}, 'model': {'cv_best_params': {}, 'cv_results': {}, 'functions': ['predict', 'predict_proba', 'predict_log_proba'], 'model': 'random_forest_classifier', 'model_source': 'predefined', 'parameters': {'feature_importances': [0.0034251220095993023, 0.018018700348885256, 0.003441247964622645, 0.015105669611137124, 0.007153537583723951, 0.03141911605901064, 0.0028462140727196017, 0.002108827061555194, 0.0321646139232653, 0.0030429630237297396, 0.0015246254600187051, 0.0115360984879129, 0.005041532195649122, 0.005570778141853108, 0.021038280085015983, 0.006793333416850075, 0.002831427097231352, 0.0018213483497714308, 0.009481970169265328, 0.00392466708826881, ...], 'relcols': [0, 1, 2, 3, 4, 5, 6, 7, 8, 9, 10, 11, 12, 13, 14, 15, 16, 17, 18, 19, ...], 'relvars': ['civis_2020_marriage', 'civis_2020_children_present', 'civis_2020_partisanship', 'civis_2020_ideology_liberal', 'civis_2020_spanish_language_preference', 'civis_2018_turnout', 'civis_2018_partisanship', 'civis_2018_gotv', 'civis_2018_ballot_dropoff', 'civis_2018_congressional_gotv_raw', 'civis_2018_congressional_support', 'civis_2018_avev', 'dnc_2018_college_graduate', 'dnc_2018_income_dollars', 'dnc_2018_high_school_only', 'dnc_2018_income_rank', 'civis_2018_gotv_raw', 'civis_2018_cultural_persuasion', 'civis_2018_economic_persuasion', 'civis_2018_political_persuasion', ...]}, 'type': 'classification'}, 'output': {'column_names': ['pickup_last_1'], 'func': 'predict_proba', 'targets': {'pickup_last': ['pickup_last_1']}}, 'run': {'civisml_version': '2.2.4', 'configuration': {'data': {'file_type': 'csv', 'location': '/tmp/tmpz1s2284w/data.csv', 'parameters': {'compression': 'gzip', 'dtype': {'age_18_22': 'float32', 'age_23_29': 'float32', 'age_30_39': 'float32', 'age_40_49': 'float32', 'age_50_59': 'float32', 'age_60_69': 'float32', 'age_70_79': 'float32', 'age_80plus': 'float32', 'age_continuous': 'float32', 'anti_trump_voter': 'float32', ...}, 'false_values': ['f'], 'header': None, 'names': ['person_id', 'pickup_last', 'civis_2020_marriage', 'civis_2020_children_present', 'civis_2020_partisanship', 'civis_2020_ideology_liberal', 'civis_2020_spanish_language_preference', 'civis_2018_turnout', 'civis_2018_partisanship', 'civis_2018_gotv', 'civis_2018_ballot_dropoff', 'civis_2018_congressional_gotv_raw', 'civis_2018_congressional_support', 'civis_2018_avev', 'dnc_2018_college_graduate', 'dnc_2018_income_dollars', 'dnc_2018_high_school_only', 'dnc_2018_income_rank', 'civis_2020_race_native', 'civis_2020_race_black', ...], 'sep': ',', 'true_values': ['t']}, 'primary_key': 'person_id', 'y': ['pickup_last']}, 'job': {'model_type': 'classification'}, 'job_type': 'train', 'output_location': '/tmp/tmpz1s2284w'}, 'dependencies': None, 'n_jobs': 36, 'platform': 'linux', 'runtime': 330.1825211048126, 'runtime_data_read': 109.56988263130188, 'runtime_model': 108.77477693557739, 'status': 'succeeded', 'template_id': 11219, ...}, 'warnings': []}, source=None, source_type=None, tablename='bernie_cherdeman.contactibility_modeling_frame_land_co_tx', database='Bernie DS', pkey='person_id', target=None, sql_where=None, sql_limit=None, parameters={'chunksize': 5000, 'dtype': {'age_18_22': 'float32', 'age_23_29': 'float32', 'age_30_39': 'float32', 'age_40_49': 'float32', 'age_50_59': 'float32', 'age_60_69': 'float32', 'age_70_79': 'float32', 'age_80plus': 'float32', 'age_continuous': 'float32', 'aggr_house_value_acs_13_17': 'float32', ...}, 'false_values': ['f'], 'true_values': ['t']}, log_level='WARNING', client_api_spec=OrderedDict([('swagger', '2.0'), ('info', Ordere... ('security', [OrderedDict([('api_key', [])])])]))\n     80 \n     81         # Prepare input data\n     82         data_path, reader_params, inputs_metadata = persist.inputs.fetch_data(\n     83             tempdir, data_path=location, civis_file_id=civis_file,\n     84             tablename=tablename, database=database, sql_where=sql_where,\n---> 85             sql_limit=sql_limit, cols_to_not_cast=[pkey], client=client)\n        sql_limit = None\n        pkey = 'person_id'\n        client = <civis.civis.APIClient object>\n     86         parameters.update(reader_params)\n     87         conf['data'] = build.paro_input_config(\n     88             data_path, primary_key=pkey, parameters=parameters,\n     89             streaming=True)\n\n...........................................................................\n/opt/conda/lib/python3.6/site-packages/civismodel-2.2.4-py3.6.egg/civismodel/persistence/inputs.py in fetch_data(local_directory='/tmp/tmpm5db078m', data_path=None, civis_file_id=None, tablename='bernie_cherdeman.contactibility_modeling_frame_land_co_tx', database='Bernie DS', sql_where=None, sql_limit=None, cols_to_not_cast=['person_id'], client=<civis.civis.APIClient object>)\n     97                  tablename, database)\n     98         data_fname = os.path.join(local_directory, default_fname)\n     99         reader_params, civis_file_id = fetch_data_from_table(\n    100             output_fname=data_fname, tablename=tablename, database=database,\n    101             sql_where=sql_where, sql_limit=sql_limit,\n--> 102             cols_to_not_cast=cols_to_not_cast, client=client)\n        cols_to_not_cast = ['person_id']\n        client = <civis.civis.APIClient object>\n    103         log.info('Export complete.')\n    104         log.debug('Exported table data can be retrieved from '\n    105                   'Civis File ID %d', civis_file_id)\n    106 \n\n...........................................................................\n/opt/conda/lib/python3.6/site-packages/civismodel-2.2.4-py3.6.egg/civismodel/persistence/table.py in fetch_data_from_table(output_fname='/tmp/tmpm5db078m/data.csv', tablename='bernie_cherdeman.contactibility_modeling_frame_land_co_tx', database='Bernie DS', sql_where=None, sql_limit=None, delimiter=',', compression='gzip', cols_to_not_cast=['person_id'], client=<civis.civis.APIClient object>)\n    429                        compression='none' if not compression else compression,\n    430                        client=client)\n    431     log.debug('Export job ID is %s and run ID is %s', *job.poller_args)\n    432     outputs = job.result()['output']\n    433     if not outputs:\n--> 434         raise EmptyResultError(f'No rows selected from table \"{tablename}\" '\n    435                                f'in {database}.')\n    436     civis_file_id = outputs[0]['file_id']\n    437 \n    438     return csv_reader_parameters, civis_file_id\n\nEmptyResultError: No rows selected from table \"bernie_cherdeman.contactibility_modeling_frame_land_co_tx\" in Bernie DS.\n___________________________________________________________________________\n"
     ]
    }
   ],
   "source": [
    "# Score the voterfile\n",
    "scores_list = []\n",
    "#for m,t in zip(model_output, train_output):\n",
    "m = civis.ml.ModelPipeline.from_existing(61465397) \n",
    "DV_NAME = 'pickup_last'#''.join(t.metadata['run']['configuration']['data']['y'])\n",
    "MODEL = 'random_forest_classifier'\n",
    "#     DV_NAME = ''.join(t.metadata['run']['configuration']['data']['y'])\n",
    "#     MODEL = t.metadata['model']['model']\n",
    "print(DV_NAME, MODEL)\n",
    "SCORES_TABLE = f'{SCHEMA}.{PREFIX}_{MODEL}_{DV_NAME}_land_nodemo_{datestamp}'\n",
    "scores_list.append(SCORES_TABLE)\n",
    "scores = m.predict(primary_key=PRIMARY_KEY,\n",
    "                   database_name=DATABASE, \n",
    "                   table_name='bernie_cherdeman.contactibility_modeling_frame_land_co_tx',\n",
    "                   if_exists='drop',\n",
    "                   output_table=SCORES_TABLE,\n",
    "                   disk_space=10)\n",
    "scores.result()\n",
    "\n"
   ]
  },
  {
   "cell_type": "code",
   "execution_count": null,
   "metadata": {
    "collapsed": true
   },
   "outputs": [],
   "source": [
    "# Generate SQL for final output table and drop intermediary tables\n",
    "input_train_list = []\n",
    "output_score_list = []\n",
    "for i in range(len(DV_LIST)):\n",
    "    input_train = f\"{SCHEMA}.{PREFIX}_training_{i}\"\n",
    "    input_train_list.append(input_train)\n",
    "    output_score = f\"{SCHEMA}.{PREFIX}_{DV_LIST[i]}_{datestamp}\"\n",
    "    output_score_list.append(output_score)\n",
    "\n",
    "drop_input_train_sql = \"\\n\".join([\"drop table if exists {tbl};\".format(tbl=v) for v in input_train_list])\n",
    "drop_output_score_sql = \"\\n\".join([\"drop table if exists {tbl};\".format(tbl=t) for t in output_score_list])  \n",
    "dv_strings = \"\\n,\".join([\"{dv_score}_1 as {dv_score}\".format(dv_score=dv) for dv in DV_LIST])\n",
    "dv_tiles = \"\\n,\".join([\"NTILE(100) OVER (ORDER BY {dv_tile}_1) AS {dv_tile}_100\".format(dv_tile=dv) for dv in DV_LIST])\n",
    "join_table = []\n",
    "if len(output_score_list) > 1:\n",
    "    for i in output_score_list[1:]:\n",
    "        j = str(' left join '+f'{i}'+f' using({PRIMARY_KEY}) ')\n",
    "        join_table.append(j)\n",
    "        #dv_strings = \"\\nleft join \".join([\"{dv_score}\".format(table=tbl) for tbl in table_list[i])\n"
   ]
  },
  {
   "cell_type": "code",
   "execution_count": null,
   "metadata": {
    "collapsed": true
   },
   "outputs": [],
   "source": [
    "output_table_sql = f\"\"\"\n",
    "set query_group to 'importers';\n",
    "set wlm_query_slot_count to 3;\n",
    "DROP TABLE IF EXISTS {SCHEMA}.{PREFIX}_output_{datestamp};\n",
    "CREATE TABLE {SCHEMA}.{PREFIX}_output_{datestamp}\n",
    "  DISTSTYLE KEY\n",
    "  DISTKEY ({PRIMARY_KEY})\n",
    "  SORTKEY ({PRIMARY_KEY})\n",
    "  AS (\"\"\"+'select '+ f\"{PRIMARY_KEY} \\n,\" + dv_strings + \"\\n,\" + dv_tiles + ' from '+ ''.join(output_score_list[0]) + ''.join(join_table) +');'  \n"
   ]
  },
  {
   "cell_type": "code",
   "execution_count": null,
   "metadata": {
    "collapsed": true
   },
   "outputs": [],
   "source": [
    "print(output_table_sql)"
   ]
  },
  {
   "cell_type": "code",
   "execution_count": null,
   "metadata": {
    "collapsed": true
   },
   "outputs": [],
   "source": [
    "# Create final output table\n",
    "create_output_table = civis.io.query_civis(sql=output_table_sql, database=DATABASE)\n",
    "create_output_table.result().state\n"
   ]
  },
  {
   "cell_type": "code",
   "execution_count": null,
   "metadata": {
    "collapsed": true
   },
   "outputs": [],
   "source": [
    "# Drop intermediary tables\n",
    "drop_input_train_query = civis.io.query_civis(sql=drop_input_train_sql, database=DATABASE)\n",
    "drop_input_train_query.result().state\n",
    "\n",
    "drop_output_score_query = civis.io.query_civis(sql=drop_output_score_sql, database=DATABASE)\n",
    "drop_output_score_query.result().state"
   ]
  },
  {
   "cell_type": "code",
   "execution_count": null,
   "metadata": {
    "collapsed": true
   },
   "outputs": [],
   "source": [
    "print(drop_input_train_sql)\n",
    "print(drop_output_score_sql)"
   ]
  },
  {
   "cell_type": "code",
   "execution_count": null,
   "metadata": {
    "collapsed": true
   },
   "outputs": [],
   "source": [
    "# Grant team on tables\n",
    "grant_statement = f\"\"\"\n",
    "GRANT ALL ON SCHEMA {SCHEMA} TO GROUP bernie_data;\n",
    "GRANT SELECT ON {SCHEMA}.{PREFIX}_output_{datestamp} TO GROUP bernie_data;\n",
    "GRANT SELECT ON {SCHEMA}.{PREFIX}_validation_{datestamp} TO GROUP bernie_data;\n",
    "\"\"\"\n",
    "grant_team = civis.io.query_civis(sql=grant_statement, database=DATABASE)\n",
    "grant_team.result().state"
   ]
  },
  {
   "cell_type": "code",
   "execution_count": null,
   "metadata": {
    "collapsed": true
   },
   "outputs": [],
   "source": [
    "print(grant_statement)"
   ]
  },
  {
   "cell_type": "code",
   "execution_count": null,
   "metadata": {
    "collapsed": true
   },
   "outputs": [],
   "source": []
  },
  {
   "cell_type": "code",
   "execution_count": null,
   "metadata": {
    "collapsed": true
   },
   "outputs": [],
   "source": []
  }
 ],
 "metadata": {
  "kernelspec": {
   "display_name": "Python 3",
   "language": "python",
   "name": "python3"
  },
  "language_info": {
   "codemirror_mode": {
    "name": "ipython",
    "version": 3
   },
   "file_extension": ".py",
   "mimetype": "text/x-python",
   "name": "python",
   "nbconvert_exporter": "python",
   "pygments_lexer": "ipython3",
   "version": "3.6.3"
  }
 },
 "nbformat": 4,
 "nbformat_minor": 2
}
