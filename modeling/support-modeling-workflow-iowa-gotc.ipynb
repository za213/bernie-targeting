{
 "cells": [
  {
   "cell_type": "code",
   "execution_count": 1,
   "metadata": {},
   "outputs": [
    {
     "name": "stderr",
     "output_type": "stream",
     "text": [
      "/opt/conda/lib/python3.7/site-packages/sklearn/ensemble/weight_boosting.py:29: DeprecationWarning: numpy.core.umath_tests is an internal NumPy module and should not be imported. It will be removed in a future NumPy release.\n",
      "  from numpy.core.umath_tests import inner1d\n"
     ]
    }
   ],
   "source": [
    "import os\n",
    "import io\n",
    "import datetime\n",
    "import logging\n",
    "import sys\n",
    "\n",
    "import numpy as np\n",
    "import pandas as pd\n",
    "from pandas.io.json import json_normalize \n",
    "\n",
    "import civis\n",
    "import civis.io\n",
    "from civis.futures import CivisFuture\n",
    "\n",
    "from sklearn.linear_model import LogisticRegression\n",
    "from sklearn.ensemble import RandomForestClassifier, RandomForestRegressor, GradientBoostingClassifier, RandomForestRegressor\n",
    "from civis.ml import ModelPipeline\n",
    "\n",
    "import uuid\n",
    "import json\n",
    "from pprint import pprint\n",
    "import tempfile\n",
    "import concurrent.futures\n",
    "from concurrent.futures import wait\n",
    "from collections import namedtuple"
   ]
  },
  {
   "cell_type": "code",
   "execution_count": 2,
   "metadata": {},
   "outputs": [],
   "source": [
    "# Default feature lists for Rainbow Modeling Frame (each number corresponds to number of features)\n",
    "feature_table = civis.io.read_civis_sql(sql='select * from bernie_nmarchio2.feature_list order by sort_order asc', use_pandas = True, database='Bernie 2020')\n",
    "feature_list_large = list(feature_table[(feature_table['frame_large'] == 1)]['feature_name']) + ['state_code']\n",
    "feature_list_medium = list(feature_table[(feature_table['frame_medium'] == 1)]['feature_name']) + ['state_code']\n",
    "feature_list_small = list(feature_table[(feature_table['frame_small'] == 1)]['feature_name']) + ['state_code']\n",
    "\n",
    "table_columns = civis.io.read_civis_sql(\n",
    "    sql=f'''select ordinal_position as position, column_name, data_type \n",
    "    from information_schema.columns \n",
    "    where table_name = 'rainbow_modeling_frame' and table_schema = 'bernie_data_commons' and column_name != 'person_id'\n",
    "    order by ordinal_position;''', use_pandas = True, database='Bernie 2020')\n",
    "\n",
    "#exclusion_list_466 = [e for e in list(table_columns['column_name']) if e not in feature_list_466] "
   ]
  },
  {
   "cell_type": "code",
   "execution_count": 3,
   "metadata": {},
   "outputs": [],
   "source": [
    "# USER INPUT CELL\n",
    "\n",
    "# DV table parameters\n",
    "DATABASE = 'Bernie 2020'\n",
    "# Primary key in both the DV table and the Modeling Frame\n",
    "PRIMARY_KEY = 'person_id' \n",
    "# Table containing recoded Dependent Variables keyed to the PRIMARY_KEY\n",
    "DV_TABLE = 'bernie_nmarchio2.support_id_recode'\n",
    "# List of binarized dependent variables (accepts 1, 0, and null values) in DV_TABLE\n",
    "DV_LIST = ['support_1_id']\n",
    "\n",
    "# Modeling frame table parameters\n",
    "# Table containing covariates and keyed to PRIMARY_KEY\n",
    "MODELING_FRAME = 'bernie_data_commons.rainbow_modeling_frame'\n",
    "# Columns in the Modeling Frame to exclude from feature list (i.e., strings or incomplete coverage)\n",
    "EXCLUSION_COLUMNS = ['state_code',\n",
    "                     'census_block_group_2010']\n",
    "\n",
    "# Output table parameters\n",
    "# Schema to contain prediction tables\n",
    "SCHEMA = 'bernie_nmarchio2'\n",
    "# String that will be concatenated in front of the output table's name\n",
    "PREFIX = 'gotc'\n",
    "\n",
    "# Sampling parameters\n",
    "# Non-response training data\n",
    "    # True: automatically select people not in DV_TABLE at random from Phoenix (assumes person_id is PRIMARY_KEY)\n",
    "    # False: automatically select people where the DV equals 0 from the DV_TABLE\n",
    "SAMPLE_FROM_PHOENIX = False\n",
    "# Number of non-response classes per target class (default is 2) \n",
    "CLASS_BALANCE = 2\n",
    "# Maximum number of targets to randomly sample from DV_TABLE\n",
    "MAX_TARGET_COUNT = 30000"
   ]
  },
  {
   "cell_type": "code",
   "execution_count": 4,
   "metadata": {},
   "outputs": [],
   "source": [
    "datestamp = '{:%Y%m%d}'.format(datetime.date.today())"
   ]
  },
  {
   "cell_type": "code",
   "execution_count": 5,
   "metadata": {},
   "outputs": [],
   "source": [
    "# Counts of positive classes\n",
    "dv_sql_targets = \"\\n,\".join([\"sum({dv}) as {dv}\".format(dv=i) for i in DV_LIST])\n",
    "sql_collapse_targets = f\"\"\"select {dv_sql_targets} from {DV_TABLE};\"\"\"\n",
    "sql_count_targets = civis.io.read_civis_sql(sql_collapse_targets, DATABASE)\n"
   ]
  },
  {
   "cell_type": "code",
   "execution_count": 6,
   "metadata": {},
   "outputs": [],
   "source": [
    "# Determing training table proportion of positives to negatives (to avoid class imbalance problems)\n",
    "sample_share = []\n",
    "for i in range(len(DV_LIST)):\n",
    "    if int(sql_count_targets[1][i]) > MAX_TARGET_COUNT:\n",
    "        sql_count_targets[1][i] = MAX_TARGET_COUNT\n",
    "    u = round(int(sql_count_targets[1][i])*CLASS_BALANCE)\n",
    "    sample_share.append(u)      "
   ]
  },
  {
   "cell_type": "code",
   "execution_count": 7,
   "metadata": {},
   "outputs": [],
   "source": [
    "for i in range(len(DV_LIST)):\n",
    "    dv_item = DV_LIST[i]\n",
    "    random_sample = sample_share[i]\n",
    "    if SAMPLE_FROM_PHOENIX is True:\n",
    "        zero_sample = f'''(select p.person_id, 0 as {dv_item} from phoenix_analytics.person p left join (select person_id from {DV_TABLE}) d on p.person_id = d.person_id where d.person_id is null and is_deceased = false and reg_record_merged = false and reg_on_current_file = true and reg_voter_flag = true order by random() limit {random_sample})'''   \n",
    "    if SAMPLE_FROM_PHOENIX is False:\n",
    "        zero_sample = f'''(select {PRIMARY_KEY}, {dv_item} from {DV_TABLE} where {dv_item} = 0 order by random() limit {random_sample})'''\n"
   ]
  },
  {
   "cell_type": "code",
   "execution_count": 8,
   "metadata": {},
   "outputs": [
    {
     "name": "stdout",
     "output_type": "stream",
     "text": [
      "support_1_id\n"
     ]
    }
   ],
   "source": [
    "# Create training tables\n",
    "for i in range(len(DV_LIST)):\n",
    "    if (int(sql_count_targets[1][i])*3) <= 1000:\n",
    "        feature_select = \"\\n,\".join([\"{feature}\".format(feature=f) for f in feature_list_small])\n",
    "    if (int(sql_count_targets[1][i])*3) > 1000 & (int(sql_count_targets[1][i])*3) <= 2000:\n",
    "        feature_select = \"\\n,\".join([\"{feature}\".format(feature=f) for f in feature_list_medium])\n",
    "    if (int(sql_count_targets[1][i])*3) > 2000:\n",
    "        feature_select = \"\\n,\".join([\"{feature}\".format(feature=f) for f in feature_list_large])\n",
    "    dv_item = DV_LIST[i]\n",
    "    print(dv_item)\n",
    "    random_sample = sample_share[i]\n",
    "    if SAMPLE_FROM_PHOENIX is True:\n",
    "        zero_sample = f'''(select p.person_id, 0 as {dv_item} from phoenix_analytics.person p left join (select person_id from {DV_TABLE}) d on p.person_id = d.person_id where d.person_id is null and is_deceased = false and reg_record_merged = false and reg_on_current_file = true and reg_voter_flag = true order by random() limit {random_sample})'''   \n",
    "    if SAMPLE_FROM_PHOENIX is False:\n",
    "        zero_sample = f'''(select {PRIMARY_KEY}, {dv_item} from {DV_TABLE} where {dv_item} = 0 order by random() limit {random_sample})'''\n",
    "    training_sql = f\"\"\"DROP TABLE IF EXISTS {SCHEMA}.{PREFIX}_training_{i} CASCADE;\n",
    "    CREATE TABLE {SCHEMA}.{PREFIX}_training_{i} AS \n",
    "    (select * from (\n",
    "    (select {PRIMARY_KEY}, {dv_item} from {DV_TABLE} where {dv_item} = 1 order by random() limit 30000) \n",
    "    union all \n",
    "    {zero_sample})\n",
    "    inner join\n",
    "    (select {PRIMARY_KEY}, {feature_select} from {MODELING_FRAME}) using({PRIMARY_KEY}));\"\"\"\n",
    "    create_training_sql = civis.io.query_civis(training_sql, database=DATABASE)\n",
    "    create_training_sql.result().state\n",
    "    \n",
    "    "
   ]
  },
  {
   "cell_type": "code",
   "execution_count": 9,
   "metadata": {},
   "outputs": [
    {
     "name": "stdout",
     "output_type": "stream",
     "text": [
      "TRAINING >>> support_1_id\n"
     ]
    }
   ],
   "source": [
    "# Train models\n",
    "train_list = []\n",
    "model_list = []\n",
    "\n",
    "for index, dv in enumerate(DV_LIST):\n",
    "    print('TRAINING >>> {}'.format(dv))\n",
    "    \n",
    "    exc_list = DV_LIST.copy()\n",
    "    exc_list.remove(dv)\n",
    "    \n",
    "    assert dv not in exc_list \n",
    "    \n",
    "    name = f\"\"\"{dv}_{datestamp}\"\"\"\n",
    "    model = ModelPipeline(model='sparse_logistic',\n",
    "                          dependent_variable=dv,\n",
    "                          primary_key=PRIMARY_KEY,\n",
    "                          excluded_columns=EXCLUSION_COLUMNS,\n",
    "                          #calibration='sigmoid',\n",
    "                          model_name=name,\n",
    "                          memory_requested=12000#,\n",
    "                          #disk_requested=5\n",
    "                         )\n",
    "    \n",
    "    where_string = '{} is not null'.format(dv)\n",
    "\n",
    "    train = model.train(table_name=f\"\"\"{SCHEMA}.{PREFIX}_training_{index}\"\"\", \n",
    "                        database_name=DATABASE,\n",
    "                        sql_where=where_string#,\n",
    "                        #fit_params={'sample_weight': WEIGHT_VAR}\n",
    "                       )\n",
    "    \n",
    "    model_list.append(model)\n",
    "    train_list.append(train)    \n"
   ]
  },
  {
   "cell_type": "code",
   "execution_count": 10,
   "metadata": {},
   "outputs": [
    {
     "name": "stdout",
     "output_type": "stream",
     "text": [
      "Job success\n"
     ]
    }
   ],
   "source": [
    "# Extract successful models\n",
    "model_output = model_list\n",
    "train_output = train_list\n",
    "\n",
    "jobs_list = []\n",
    "for t in train_output: \n",
    "    try:\n",
    "        if len(t.metadata['output']) > 0:  \n",
    "            jobs_list.append(t)\n",
    "            print('Job success')\n",
    "    except:\n",
    "        print('Job failure')\n",
    "        pass\n",
    "\n",
    "    \n",
    "model_output, train_output = zip(*((m, t) for m, t in zip(model_output, train_output) if t in jobs_list))\n",
    "model_output = list(model_output)\n",
    "train_output = list(train_output)"
   ]
  },
  {
   "cell_type": "code",
   "execution_count": 11,
   "metadata": {},
   "outputs": [
    {
     "data": {
      "text/html": [
       "<div>\n",
       "<style scoped>\n",
       "    .dataframe tbody tr th:only-of-type {\n",
       "        vertical-align: middle;\n",
       "    }\n",
       "\n",
       "    .dataframe tbody tr th {\n",
       "        vertical-align: top;\n",
       "    }\n",
       "\n",
       "    .dataframe thead th {\n",
       "        text-align: right;\n",
       "    }\n",
       "</style>\n",
       "<table border=\"1\" class=\"dataframe\">\n",
       "  <thead>\n",
       "    <tr style=\"text-align: right;\">\n",
       "      <th></th>\n",
       "      <th>job_id</th>\n",
       "      <th>dv</th>\n",
       "      <th>model</th>\n",
       "      <th>time_of_train_run</th>\n",
       "      <th>n_rows</th>\n",
       "      <th>n_features</th>\n",
       "      <th>auc</th>\n",
       "      <th>deciles</th>\n",
       "      <th>confusion_matrix</th>\n",
       "      <th>accuracy</th>\n",
       "      <th>p_correct</th>\n",
       "      <th>pop_incidence_true</th>\n",
       "      <th>feature_list</th>\n",
       "      <th>feature_coefficients</th>\n",
       "      <th>feature_importance</th>\n",
       "    </tr>\n",
       "    <tr>\n",
       "      <th>run_id</th>\n",
       "      <th></th>\n",
       "      <th></th>\n",
       "      <th></th>\n",
       "      <th></th>\n",
       "      <th></th>\n",
       "      <th></th>\n",
       "      <th></th>\n",
       "      <th></th>\n",
       "      <th></th>\n",
       "      <th></th>\n",
       "      <th></th>\n",
       "      <th></th>\n",
       "      <th></th>\n",
       "      <th></th>\n",
       "      <th></th>\n",
       "    </tr>\n",
       "  </thead>\n",
       "  <tbody>\n",
       "    <tr>\n",
       "      <th>201030763</th>\n",
       "      <td>57275896</td>\n",
       "      <td>support_1_id</td>\n",
       "      <td>sparse_logistic</td>\n",
       "      <td>2020-01-16T01:13:45Z</td>\n",
       "      <td>1587</td>\n",
       "      <td>297</td>\n",
       "      <td>0.704997</td>\n",
       "      <td>[0.1320754716981132, 0.13291139240506328, 0.17...</td>\n",
       "      <td>[[921, 137], [346, 183]]</td>\n",
       "      <td>0.695652</td>\n",
       "      <td>[0.8705103969754253, 0.34593572778827975]</td>\n",
       "      <td>[0.6666666666666666, 0.3333333333333333]</td>\n",
       "      <td>[civis_2020_marriage, civis_2018_gotv, civis_2...</td>\n",
       "      <td>[[-0.1714930021729304, 0.5161208088845542, 6.0...</td>\n",
       "      <td>{'relvars': ['civis_2020_marriage', 'civis_201...</td>\n",
       "    </tr>\n",
       "  </tbody>\n",
       "</table>\n",
       "</div>"
      ],
      "text/plain": [
       "             job_id            dv            model     time_of_train_run  \\\n",
       "run_id                                                                     \n",
       "201030763  57275896  support_1_id  sparse_logistic  2020-01-16T01:13:45Z   \n",
       "\n",
       "           n_rows  n_features       auc  \\\n",
       "run_id                                    \n",
       "201030763    1587         297  0.704997   \n",
       "\n",
       "                                                     deciles  \\\n",
       "run_id                                                         \n",
       "201030763  [0.1320754716981132, 0.13291139240506328, 0.17...   \n",
       "\n",
       "                   confusion_matrix  accuracy  \\\n",
       "run_id                                          \n",
       "201030763  [[921, 137], [346, 183]]  0.695652   \n",
       "\n",
       "                                           p_correct  \\\n",
       "run_id                                                 \n",
       "201030763  [0.8705103969754253, 0.34593572778827975]   \n",
       "\n",
       "                                 pop_incidence_true  \\\n",
       "run_id                                                \n",
       "201030763  [0.6666666666666666, 0.3333333333333333]   \n",
       "\n",
       "                                                feature_list  \\\n",
       "run_id                                                         \n",
       "201030763  [civis_2020_marriage, civis_2018_gotv, civis_2...   \n",
       "\n",
       "                                        feature_coefficients  \\\n",
       "run_id                                                         \n",
       "201030763  [[-0.1714930021729304, 0.5161208088845542, 6.0...   \n",
       "\n",
       "                                          feature_importance  \n",
       "run_id                                                        \n",
       "201030763  {'relvars': ['civis_2020_marriage', 'civis_201...  "
      ]
     },
     "execution_count": 11,
     "metadata": {},
     "output_type": "execute_result"
    }
   ],
   "source": [
    "# Generate validation metrics\n",
    "metrics_list = []\n",
    "\n",
    "for a, b in enumerate(train_output):\n",
    "    metric = {'job_id':b.job_id,\n",
    "              'run_id':b.run_id,\n",
    "              'dv': ''.join(b.metadata['run']['configuration']['data']['y']),\n",
    "              'model': b.metadata['model']['model'],\n",
    "              'time_of_train_run': b.metadata['run']['time_of_run'],\n",
    "              'n_rows': b.metadata['data']['n_rows'],\n",
    "              'n_features': b.metadata['data']['n_cols'],\n",
    "              'auc': b.metadata['metrics']['roc_auc'],\n",
    "              'deciles': b.metadata['metrics']['deciles'],\n",
    "              'confusion_matrix': b.metadata['metrics']['confusion_matrix'],\n",
    "              'accuracy': b.metadata['metrics']['accuracy'],\n",
    "              'p_correct': b.metadata['metrics']['p_correct'],\n",
    "              'pop_incidence_true': b.metadata['metrics']['pop_incidence_true'],\n",
    "              'feature_list':b.metadata['model']['parameters']['relvars'],\n",
    "              'feature_coefficients':b.metadata['model']['parameters']['coef'],\n",
    "              'feature_importance':b.metadata['model']['parameters']\n",
    "             }\n",
    "    metrics_list.append(metric)\n",
    "    \n",
    "metric_order = (['job_id', 'run_id', 'dv', 'model', 'time_of_train_run', 'n_rows', 'n_features',\n",
    "                 'auc', 'deciles', 'confusion_matrix', 'accuracy', 'p_correct','pop_incidence_true',\n",
    "                 'feature_list','feature_coefficients','feature_importance'])\n",
    "\n",
    "validation_df = pd.DataFrame.from_records(metrics_list, columns=metric_order, index='run_id')\n",
    "validation_df"
   ]
  },
  {
   "cell_type": "code",
   "execution_count": 12,
   "metadata": {},
   "outputs": [],
   "source": [
    "# Write validation metrics to Redshift\n",
    "create_validation_table = civis.io.dataframe_to_civis(df=validation_df,\n",
    "                                                 database=DATABASE, \n",
    "                                                 table= f'{SCHEMA}.{PREFIX}_validation_{datestamp}', \n",
    "                                                 existing_table_rows='drop')\n"
   ]
  },
  {
   "cell_type": "code",
   "execution_count": 15,
   "metadata": {},
   "outputs": [
    {
     "name": "stdout",
     "output_type": "stream",
     "text": [
      "support_1_id\n"
     ]
    },
    {
     "data": {
      "text/plain": [
       "{'container_id': 57276646,\n",
       " 'error': None,\n",
       " 'finished_at': '2020-01-16T01:27:40.000Z',\n",
       " 'id': 201032184,\n",
       " 'is_cancel_requested': False,\n",
       " 'started_at': '2020-01-16T01:19:04.000Z',\n",
       " 'state': 'succeeded'}"
      ]
     },
     "execution_count": 15,
     "metadata": {},
     "output_type": "execute_result"
    }
   ],
   "source": [
    "# Score the voterfile\n",
    "scores_list = []\n",
    "for m,t in zip(model_output, train_output):\n",
    "    DV_NAME = ''.join(t.metadata['run']['configuration']['data']['y'])\n",
    "    print(DV_NAME)\n",
    "    SCORES_TABLE = f'{SCHEMA}.{PREFIX}_{DV_NAME}_{datestamp}'\n",
    "    scores_list.append(SCORES_TABLE)\n",
    "    scores = m.predict(primary_key=PRIMARY_KEY,\n",
    "                       database_name=DATABASE, \n",
    "                       table_name=MODELING_FRAME,\n",
    "                       sql_where=\"state_code = 'IA'\",\n",
    "                       if_exists='drop',\n",
    "                       output_table=SCORES_TABLE,\n",
    "                       disk_space=10)\n",
    "scores.result()\n"
   ]
  },
  {
   "cell_type": "code",
   "execution_count": 16,
   "metadata": {},
   "outputs": [],
   "source": [
    "# Generate SQL for final output table and drop intermediary tables\n",
    "input_train_list = []\n",
    "output_score_list = []\n",
    "for i in range(len(DV_LIST)):\n",
    "    input_train = f\"{SCHEMA}.{PREFIX}_training_{i}\"\n",
    "    input_train_list.append(input_train)\n",
    "    output_score = f\"{SCHEMA}.{PREFIX}_{DV_LIST[i]}_{datestamp}\"\n",
    "    output_score_list.append(output_score)\n",
    "\n",
    "drop_input_train_sql = \"\\n\".join([\"drop table if exists {tbl};\".format(tbl=v) for v in input_train_list])\n",
    "drop_output_score_sql = \"\\n\".join([\"drop table if exists {tbl};\".format(tbl=t) for t in output_score_list])  \n",
    "dv_strings = \"\\n,\".join([\"{dv_score}_1 as {dv_score}\".format(dv_score=dv) for dv in DV_LIST])\n",
    "dv_tiles = \"\\n,\".join([\"NTILE(100) OVER (ORDER BY {dv_tile}_1) AS {dv_tile}_100\".format(dv_tile=dv) for dv in DV_LIST])\n",
    "join_table = []\n",
    "if len(output_score_list) > 1:\n",
    "    for i in output_score_list[1:]:\n",
    "        j = str(' left join '+f'{i}'+f' using({PRIMARY_KEY}) ')\n",
    "        join_table.append(j)\n",
    "        #dv_strings = \"\\nleft join \".join([\"{dv_score}\".format(table=tbl) for tbl in table_list[i])\n"
   ]
  },
  {
   "cell_type": "code",
   "execution_count": 17,
   "metadata": {},
   "outputs": [],
   "source": [
    "output_table_sql = f\"\"\"\n",
    "set query_group to 'importers';\n",
    "set wlm_query_slot_count to 3;\n",
    "DROP TABLE IF EXISTS {SCHEMA}.{PREFIX}_output_{datestamp};\n",
    "CREATE TABLE {SCHEMA}.{PREFIX}_output_{datestamp}\n",
    "  DISTSTYLE KEY\n",
    "  DISTKEY ({PRIMARY_KEY})\n",
    "  SORTKEY ({PRIMARY_KEY})\n",
    "  AS (\"\"\"+'select '+ f\"{PRIMARY_KEY} \\n,\" + dv_strings + \"\\n,\" + dv_tiles + ' from '+ ''.join(output_score_list[0]) + ''.join(join_table) +');'  \n"
   ]
  },
  {
   "cell_type": "code",
   "execution_count": 18,
   "metadata": {},
   "outputs": [
    {
     "name": "stdout",
     "output_type": "stream",
     "text": [
      "\n",
      "set query_group to 'importers';\n",
      "set wlm_query_slot_count to 3;\n",
      "DROP TABLE IF EXISTS bernie_nmarchio2.gotc_output_20200116;\n",
      "CREATE TABLE bernie_nmarchio2.gotc_output_20200116\n",
      "  DISTSTYLE KEY\n",
      "  DISTKEY (person_id)\n",
      "  SORTKEY (person_id)\n",
      "  AS (select person_id \n",
      ",support_1_id_1 as support_1_id\n",
      ",NTILE(100) OVER (ORDER BY support_1_id_1) AS support_1_id_100 from bernie_nmarchio2.gotc_support_1_id_20200116);\n"
     ]
    }
   ],
   "source": [
    "print(output_table_sql)"
   ]
  },
  {
   "cell_type": "code",
   "execution_count": 19,
   "metadata": {},
   "outputs": [
    {
     "data": {
      "text/plain": [
       "'succeeded'"
      ]
     },
     "execution_count": 19,
     "metadata": {},
     "output_type": "execute_result"
    }
   ],
   "source": [
    "# Create final output table\n",
    "create_output_table = civis.io.query_civis(sql=output_table_sql, database=DATABASE)\n",
    "create_output_table.result().state\n"
   ]
  },
  {
   "cell_type": "code",
   "execution_count": 20,
   "metadata": {},
   "outputs": [
    {
     "data": {
      "text/plain": [
       "'succeeded'"
      ]
     },
     "execution_count": 20,
     "metadata": {},
     "output_type": "execute_result"
    }
   ],
   "source": [
    "# Drop intermediary tables\n",
    "drop_input_train_query = civis.io.query_civis(sql=drop_input_train_sql, database=DATABASE)\n",
    "drop_input_train_query.result().state\n",
    "\n",
    "drop_output_score_query = civis.io.query_civis(sql=drop_output_score_sql, database=DATABASE)\n",
    "drop_output_score_query.result().state"
   ]
  },
  {
   "cell_type": "code",
   "execution_count": 21,
   "metadata": {},
   "outputs": [
    {
     "name": "stdout",
     "output_type": "stream",
     "text": [
      "drop table if exists bernie_nmarchio2.gotc_training_0;\n",
      "drop table if exists bernie_nmarchio2.gotc_support_1_id_20200116;\n"
     ]
    }
   ],
   "source": [
    "print(drop_input_train_sql)\n",
    "print(drop_output_score_sql)"
   ]
  },
  {
   "cell_type": "code",
   "execution_count": 22,
   "metadata": {},
   "outputs": [
    {
     "data": {
      "text/plain": [
       "'succeeded'"
      ]
     },
     "execution_count": 22,
     "metadata": {},
     "output_type": "execute_result"
    }
   ],
   "source": [
    "# Grant team on tables\n",
    "grant_statement = f\"\"\"\n",
    "GRANT ALL ON SCHEMA {SCHEMA} TO GROUP bernie_data;\n",
    "GRANT SELECT ON {SCHEMA}.{PREFIX}_output_{datestamp} TO GROUP bernie_data;\n",
    "GRANT SELECT ON {SCHEMA}.{PREFIX}_validation_{datestamp} TO GROUP bernie_data;\n",
    "\"\"\"\n",
    "grant_team = civis.io.query_civis(sql=grant_statement, database=DATABASE)\n",
    "grant_team.result().state"
   ]
  },
  {
   "cell_type": "code",
   "execution_count": 23,
   "metadata": {},
   "outputs": [
    {
     "name": "stdout",
     "output_type": "stream",
     "text": [
      "\n",
      "GRANT ALL ON SCHEMA bernie_nmarchio2 TO GROUP bernie_data;\n",
      "GRANT SELECT ON bernie_nmarchio2.gotc_output_20200116 TO GROUP bernie_data;\n",
      "GRANT SELECT ON bernie_nmarchio2.gotc_validation_20200116 TO GROUP bernie_data;\n",
      "\n"
     ]
    }
   ],
   "source": [
    "print(grant_statement)"
   ]
  },
  {
   "cell_type": "code",
   "execution_count": null,
   "metadata": {},
   "outputs": [],
   "source": []
  },
  {
   "cell_type": "code",
   "execution_count": null,
   "metadata": {},
   "outputs": [],
   "source": []
  }
 ],
 "metadata": {
  "kernelspec": {
   "display_name": "Python 3",
   "language": "python",
   "name": "python3"
  },
  "language_info": {
   "codemirror_mode": {
    "name": "ipython",
    "version": 3
   },
   "file_extension": ".py",
   "mimetype": "text/x-python",
   "name": "python",
   "nbconvert_exporter": "python",
   "pygments_lexer": "ipython3",
   "version": "3.7.1"
  }
 },
 "nbformat": 4,
 "nbformat_minor": 2
}
