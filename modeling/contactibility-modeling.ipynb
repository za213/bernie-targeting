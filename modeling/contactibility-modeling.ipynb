{
 "cells": [
  {
   "cell_type": "code",
   "execution_count": 3,
   "metadata": {
    "collapsed": true
   },
   "outputs": [],
   "source": [
    "import os\n",
    "import io\n",
    "import datetime\n",
    "import logging\n",
    "import sys\n",
    "\n",
    "import numpy as np\n",
    "import pandas as pd\n",
    "from pandas.io.json import json_normalize \n",
    "\n",
    "import civis\n",
    "import civis.io\n",
    "from civis.futures import CivisFuture\n",
    "\n",
    "from sklearn.linear_model import LogisticRegression\n",
    "from sklearn.ensemble import RandomForestClassifier, RandomForestRegressor, GradientBoostingClassifier, RandomForestRegressor\n",
    "from civis.ml import ModelPipeline\n",
    "\n",
    "import uuid\n",
    "import json\n",
    "from pprint import pprint\n",
    "import tempfile\n",
    "import concurrent.futures\n",
    "from concurrent.futures import wait\n",
    "from collections import namedtuple"
   ]
  },
  {
   "cell_type": "code",
   "execution_count": 20,
   "metadata": {
    "collapsed": true
   },
   "outputs": [],
   "source": [
    "# Default feature lists for Rainbow Modeling Frame (each number corresponds to number of features)\n",
    "feature_table = civis.io.read_civis_sql(sql='select * from bernie_nmarchio2.feature_list order by sort_order asc', use_pandas = True, database='Bernie 2020')\n",
    "feature_list_large = list(feature_table[(feature_table['frame_large'] == 1)]['feature_name']) + ['state_code']\n",
    "feature_list_medium = list(feature_table[(feature_table['frame_medium'] == 1)]['feature_name']) + ['state_code']\n",
    "feature_list_small = list(feature_table[(feature_table['frame_small'] == 1)]['feature_name']) + ['state_code']\n",
    "\n",
    "additional_features = ['previous_attempts', 'previous_contacts', 'contact_rate', \n",
    "                       'phone_rank_1', 'phone_rank_2', 'phone_rank_3', 'phone_rank_other', 'phone_rank_null',\n",
    "                      'dnc_quality_score', 'is_cell_phone']\n",
    "\n",
    "feature_list_large.extend(additional_features)\n",
    "feature_list_medium.extend(additional_features)\n",
    "feature_list_small.extend(additional_features)\n",
    "\n",
    "table_columns = civis.io.read_civis_sql(\n",
    "    sql=f'''select ordinal_position as position, column_name, data_type \n",
    "    from information_schema.columns \n",
    "    where table_name = 'rainbow_modeling_frame' and table_schema = 'bernie_data_commons' and column_name != 'person_id'\n",
    "    order by ordinal_position;''', use_pandas = True, database='Bernie 2020')\n",
    "\n",
    "#exclusion_list_466 = [e for e in list(table_columns['column_name']) if e not in feature_list_466] "
   ]
  },
  {
   "cell_type": "code",
   "execution_count": 5,
   "metadata": {
    "collapsed": true
   },
   "outputs": [],
   "source": [
    "# USER INPUT CELL\n",
    "\n",
    "# DV table parameters\n",
    "DATABASE = 'Bernie 2020'\n",
    "# Primary key in both the DV table and the Modeling Frame\n",
    "PRIMARY_KEY = 'unique_id' \n",
    "# Table containing recoded Dependent Variables keyed to the PRIMARY_KEY\n",
    "DV_TABLE = 'bernie_cherdeman.contactibility_outcomes'\n",
    "# List of binarized dependent variables (accepts 1, 0, and null values) in DV_TABLE\n",
    "DV_LIST = ['pickup_outcome']\n",
    "\n",
    "\n",
    "# Modeling frame table parameters\n",
    "# Table containing covariates and keyed to PRIMARY_KEY\n",
    "MODELING_FRAME = 'bernie_cherdeman.contactibility_modeling_frame'\n",
    "# Columns in the Modeling Frame to exclude from feature list (i.e., strings or incomplete coverage)\n",
    "EXCLUSION_COLUMNS = ['jsonid','state_code','census_block_group_2010', 'person_id', \n",
    "                     'contacttimestamp', 'person_phone', 'phone', 'us_region', 'pickup_outcome', 'id_outcome']\n",
    "\n",
    "# Output table parameters\n",
    "# Schema to contain prediction tables\n",
    "SCHEMA = 'bernie_cherdeman'\n",
    "# String that will be concatenated in front of the output table's name\n",
    "PREFIX = 'getthru'\n",
    "\n",
    "# Sampling parameters\n",
    "# Non-response training data\n",
    "    # True: automatically select people not in DV_TABLE at random from Phoenix (assumes person_id is PRIMARY_KEY)\n",
    "    # False: automatically select people where the DV equals 0 from the DV_TABLE\n",
    "SAMPLE_FROM_PHOENIX = False\n",
    "# Number of non-response classes per target class (default is 2) \n",
    "CLASS_BALANCE = 2\n",
    "# Maximum number of targets to randomly sample from DV_TABLE\n",
    "MAX_TARGET_COUNT = 40000"
   ]
  },
  {
   "cell_type": "code",
   "execution_count": 6,
   "metadata": {
    "collapsed": true
   },
   "outputs": [],
   "source": [
    "datestamp = '{:%Y%m%d}'.format(datetime.date.today())"
   ]
  },
  {
   "cell_type": "code",
   "execution_count": 7,
   "metadata": {
    "collapsed": true
   },
   "outputs": [],
   "source": [
    "# Counts of positive classes\n",
    "dv_sql_targets = \"\\n,\".join([\"sum({dv}) as {dv}\".format(dv=i) for i in DV_LIST])\n",
    "sql_collapse_targets = f\"\"\"select {dv_sql_targets} from {DV_TABLE};\"\"\"\n",
    "sql_count_targets = civis.io.read_civis_sql(sql_collapse_targets, DATABASE)\n"
   ]
  },
  {
   "cell_type": "code",
   "execution_count": 8,
   "metadata": {},
   "outputs": [
    {
     "data": {
      "text/plain": [
       "[['pickup_outcome'], ['205526']]"
      ]
     },
     "execution_count": 8,
     "metadata": {},
     "output_type": "execute_result"
    }
   ],
   "source": [
    "sql_count_targets"
   ]
  },
  {
   "cell_type": "code",
   "execution_count": 9,
   "metadata": {
    "collapsed": true
   },
   "outputs": [],
   "source": [
    "# Determing training table proportion of positives to negatives (to avoid class imbalance problems)\n",
    "# sample_share = []\n",
    "# for i in range(len(DV_LIST)):\n",
    "#     if int(sql_count_targets[1][i]) > MAX_TARGET_COUNT:\n",
    "#         sql_count_targets[1][i] = MAX_TARGET_COUNT\n",
    "#     u = round(int(sql_count_targets[1][i])*CLASS_BALANCE)\n",
    "#     sample_share.append(u)      "
   ]
  },
  {
   "cell_type": "code",
   "execution_count": 10,
   "metadata": {
    "collapsed": true
   },
   "outputs": [],
   "source": [
    "# for i in range(len(DV_LIST)):\n",
    "#     dv_item = DV_LIST[i]\n",
    "#     random_sample = sample_share[i]\n",
    "#     if SAMPLE_FROM_PHOENIX is True:\n",
    "#         zero_sample = f'''(select p.person_id, 0 as {dv_item} from phoenix_analytics.person p left join (select person_id from {DV_TABLE}) d on p.person_id = d.person_id where d.person_id is null and is_deceased = false and reg_record_merged = false and reg_on_current_file = true and reg_voter_flag = true order by random() limit {random_sample})'''   \n",
    "#     if SAMPLE_FROM_PHOENIX is False:\n",
    "#         zero_sample = f'''(select {PRIMARY_KEY}, {dv_item} from {DV_TABLE} where {dv_item} = 0 order by random() limit {random_sample})'''\n"
   ]
  },
  {
   "cell_type": "code",
   "execution_count": 23,
   "metadata": {},
   "outputs": [
    {
     "name": "stdout",
     "output_type": "stream",
     "text": [
      "pickup_outcome\n"
     ]
    }
   ],
   "source": [
    "# Create training tables\n",
    "for i, dv_item in enumerate(DV_LIST):\n",
    "#     if (int(sql_count_targets[1][i])*3) <= 1000:\n",
    "    feature_select = \"\\n,\".join([\"{feature}\".format(feature=f) for f in feature_list_small])\n",
    "#     if (int(sql_count_targets[1][i])*3) > 1000 & (int(sql_count_targets[1][i])*3) <= 2000:\n",
    "         \n",
    "    #feature_select = \"\\n,\".join([\"{feature}\".format(feature=f) for f in feature_list_medium])\n",
    "#     if (int(sql_count_targets[1][i])*3) > 2000:\n",
    "#         feature_select = \"\\n,\".join([\"{feature}\".format(feature=f) for f in feature_list_large])\n",
    "    #dv_item = DV_LIST[i]\n",
    "    print(dv_item)\n",
    "#     random_sample = sample_share[i]\n",
    "#     if SAMPLE_FROM_PHOENIX is True:\n",
    "#         zero_sample = f'''(select p.person_id, 0 as {dv_item} from phoenix_analytics.person p left join (select person_id from {DV_TABLE}) d on p.person_id = d.person_id where d.person_id is null and is_deceased = false and reg_record_merged = false and reg_on_current_file = true and reg_voter_flag = true order by random() limit {random_sample})'''   \n",
    "#     if SAMPLE_FROM_PHOENIX is False:\n",
    "#         zero_sample = f'''(select {PRIMARY_KEY}, {dv_item} from {DV_TABLE} where {dv_item} = 0 order by random() limit {random_sample})'''\n",
    "    training_sql = f\"\"\"DROP view IF EXISTS {SCHEMA}.{PREFIX}_training_{i} CASCADE;\n",
    "                       CREATE view {SCHEMA}.{PREFIX}_training_{i} AS (\n",
    "                           select * \n",
    "                           from {MODELING_FRAME}\n",
    "                           where pickup_strat < 2001\n",
    "                           );\"\"\"\n",
    "    create_training_sql = civis.io.query_civis(training_sql, database=DATABASE)\n",
    "    create_training_sql.result().state\n",
    "    \n",
    "    "
   ]
  },
  {
   "cell_type": "code",
   "execution_count": 24,
   "metadata": {},
   "outputs": [
    {
     "name": "stdout",
     "output_type": "stream",
     "text": [
      "TRAINING >>> pickup_outcome\n"
     ]
    }
   ],
   "source": [
    "# Train models\n",
    "train_list = []\n",
    "model_list = []\n",
    "\n",
    "for i, dv in enumerate(DV_LIST):\n",
    "    print('TRAINING >>> {}'.format(dv))\n",
    "    \n",
    "    exc_list = DV_LIST.copy()\n",
    "    exc_list.remove(dv)\n",
    "    \n",
    "    assert dv not in exc_list \n",
    "    \n",
    "    name = f\"\"\"{dv}_{datestamp}\"\"\"\n",
    "    model = ModelPipeline(model='sparse_logistic',\n",
    "                          dependent_variable=dv,\n",
    "                          primary_key=PRIMARY_KEY,\n",
    "                          excluded_columns=EXCLUSION_COLUMNS,\n",
    "                          calibration='sigmoid',\n",
    "                          model_name=name,\n",
    "                          memory_requested=15000#,\n",
    "                          #disk_requested=5\n",
    "                         )\n",
    "    \n",
    "    where_string = '{} is not null'.format(dv)\n",
    "    # Use \n",
    "    train = model.train(table_name=f\"\"\"{SCHEMA}.{PREFIX}_training_{i}\"\"\", \n",
    "                        database_name=DATABASE,\n",
    "                        sql_where=where_string#,\n",
    "                        #fit_params={'sample_weight': WEIGHT_VAR}\n",
    "                       )\n",
    "    \n",
    "    model_list.append(model)\n",
    "    train_list.append(train)    \n"
   ]
  },
  {
   "cell_type": "code",
   "execution_count": 28,
   "metadata": {},
   "outputs": [
    {
     "data": {
      "text/plain": [
       "{'run': {'civisml_version': '2.2.4',\n",
       "  'stack_trace': 'Traceback (most recent call last):\\n  File \"/opt/conda/lib/python3.6/site-packages/civismodel-2.2.4-py3.6.egg/civismodel/main.py\", line 96, in cli\\n    train_meta, validate_meta, est = train(client=client)\\n  File \"/opt/conda/lib/python3.6/site-packages/civismodel-2.2.4-py3.6.egg/civismodel/main.py\", line 312, in train\\n    random_state=SEED)\\n  File \"/opt/conda/lib/python3.6/site-packages/civismodel-2.2.4-py3.6.egg/civismodel/train.py\", line 143, in train_and_validate\\n    sql_limit=sql_limit, cols_to_not_cast=[pkey, *target], client=client)\\n  File \"/opt/conda/lib/python3.6/site-packages/civismodel-2.2.4-py3.6.egg/civismodel/persistence/inputs.py\", line 102, in fetch_data\\n    cols_to_not_cast=cols_to_not_cast, client=client)\\n  File \"/opt/conda/lib/python3.6/site-packages/civismodel-2.2.4-py3.6.egg/civismodel/persistence/table.py\", line 432, in fetch_data_from_table\\n    outputs = job.result()[\\'output\\']\\n  File \"/opt/conda/lib/python3.6/concurrent/futures/_base.py\", line 432, in result\\n    return self.__get_result()\\n  File \"/opt/conda/lib/python3.6/concurrent/futures/_base.py\", line 384, in __get_result\\n    raise self._exception\\ncivis.base.CivisJobFailure: Error in SQL: Query (1524474) cancelled by WLM abort action\\nDETAIL:  \\n  -----------------------------------------------\\n  error:  Query (1524474) cancelled by WLM abort action\\n  code:      1078\\n  context:   Query (1524474) cancelled by WLM abort action\\n  query:     0\\n  location:  abort_query_action.cpp:105\\n  process:   wlm [pid=55111]\\n  -----------------------------------------------\\n',\n",
       "  'status': 'exception'},\n",
       " 'warnings': []}"
      ]
     },
     "execution_count": 28,
     "metadata": {},
     "output_type": "execute_result"
    }
   ],
   "source": [
    "train_list[0].metadata"
   ]
  },
  {
   "cell_type": "code",
   "execution_count": 25,
   "metadata": {},
   "outputs": [
    {
     "name": "stdout",
     "output_type": "stream",
     "text": [
      "Job failure\n"
     ]
    },
    {
     "ename": "ValueError",
     "evalue": "not enough values to unpack (expected 2, got 0)",
     "output_type": "error",
     "traceback": [
      "\u001b[0;31m---------------------------------------------------------------------------\u001b[0m",
      "\u001b[0;31mValueError\u001b[0m                                Traceback (most recent call last)",
      "\u001b[0;32m<ipython-input-25-bd35ba0f2a15>\u001b[0m in \u001b[0;36m<module>\u001b[0;34m()\u001b[0m\n\u001b[1;32m     14\u001b[0m \u001b[0;34m\u001b[0m\u001b[0m\n\u001b[1;32m     15\u001b[0m \u001b[0;34m\u001b[0m\u001b[0m\n\u001b[0;32m---> 16\u001b[0;31m \u001b[0mmodel_output\u001b[0m\u001b[0;34m,\u001b[0m \u001b[0mtrain_output\u001b[0m \u001b[0;34m=\u001b[0m \u001b[0mzip\u001b[0m\u001b[0;34m(\u001b[0m\u001b[0;34m*\u001b[0m\u001b[0;34m(\u001b[0m\u001b[0;34m(\u001b[0m\u001b[0mm\u001b[0m\u001b[0;34m,\u001b[0m \u001b[0mt\u001b[0m\u001b[0;34m)\u001b[0m \u001b[0;32mfor\u001b[0m \u001b[0mm\u001b[0m\u001b[0;34m,\u001b[0m \u001b[0mt\u001b[0m \u001b[0;32min\u001b[0m \u001b[0mzip\u001b[0m\u001b[0;34m(\u001b[0m\u001b[0mmodel_output\u001b[0m\u001b[0;34m,\u001b[0m \u001b[0mtrain_output\u001b[0m\u001b[0;34m)\u001b[0m \u001b[0;32mif\u001b[0m \u001b[0mt\u001b[0m \u001b[0;32min\u001b[0m \u001b[0mjobs_list\u001b[0m\u001b[0;34m)\u001b[0m\u001b[0;34m)\u001b[0m\u001b[0;34m\u001b[0m\u001b[0m\n\u001b[0m\u001b[1;32m     17\u001b[0m \u001b[0mmodel_output\u001b[0m \u001b[0;34m=\u001b[0m \u001b[0mlist\u001b[0m\u001b[0;34m(\u001b[0m\u001b[0mmodel_output\u001b[0m\u001b[0;34m)\u001b[0m\u001b[0;34m\u001b[0m\u001b[0m\n\u001b[1;32m     18\u001b[0m \u001b[0mtrain_output\u001b[0m \u001b[0;34m=\u001b[0m \u001b[0mlist\u001b[0m\u001b[0;34m(\u001b[0m\u001b[0mtrain_output\u001b[0m\u001b[0;34m)\u001b[0m\u001b[0;34m\u001b[0m\u001b[0m\n",
      "\u001b[0;31mValueError\u001b[0m: not enough values to unpack (expected 2, got 0)"
     ]
    }
   ],
   "source": [
    "# Extract successful models\n",
    "model_output = model_list\n",
    "train_output = train_list\n",
    "\n",
    "jobs_list = []\n",
    "for t in train_output: \n",
    "    try:\n",
    "        if len(t.metadata['output']) > 0:  \n",
    "            jobs_list.append(t)\n",
    "            print('Job success')\n",
    "    except:\n",
    "        print('Job failure')\n",
    "        pass\n",
    "\n",
    "    \n",
    "model_output, train_output = zip(*((m, t) for m, t in zip(model_output, train_output) if t in jobs_list))\n",
    "model_output = list(model_output)\n",
    "train_output = list(train_output)"
   ]
  },
  {
   "cell_type": "code",
   "execution_count": null,
   "metadata": {},
   "outputs": [],
   "source": [
    "# Generate validation metrics\n",
    "metrics_list = []\n",
    "\n",
    "for b in train_output:\n",
    "    metric = {'job_id':b.job_id,\n",
    "              'run_id':b.run_id,\n",
    "              'dv': ''.join(b.metadata['run']['configuration']['data']['y']),\n",
    "              'model': b.metadata['model']['model'],\n",
    "              'time_of_train_run': b.metadata['run']['time_of_run'],\n",
    "              'n_rows': b.metadata['data']['n_rows'],\n",
    "              'n_features': b.metadata['data']['n_cols'],\n",
    "              'auc': b.metadata['metrics']['roc_auc'],\n",
    "              'deciles': b.metadata['metrics']['deciles'],\n",
    "              'confusion_matrix': b.metadata['metrics']['confusion_matrix'],\n",
    "              'accuracy': b.metadata['metrics']['accuracy'],\n",
    "              'p_correct': b.metadata['metrics']['p_correct'],\n",
    "              'pop_incidence_true': b.metadata['metrics']['pop_incidence_true'],\n",
    "              'feature_list':b.metadata['model']['parameters']['relvars']\n",
    "             }\n",
    "    metrics_list.append(metric)\n",
    "    \n",
    "metric_order = (['job_id', 'run_id', 'dv', 'model', 'time_of_train_run', 'n_rows', 'n_features',\n",
    "                 'auc', 'deciles', 'confusion_matrix', 'accuracy', 'p_correct','pop_incidence_true','feature_list'])\n",
    "\n",
    "validation_df = pd.DataFrame.from_records(metrics_list, columns=metric_order, index='run_id')\n",
    "validation_df"
   ]
  },
  {
   "cell_type": "code",
   "execution_count": null,
   "metadata": {
    "collapsed": true
   },
   "outputs": [],
   "source": [
    "# Write validation metrics to Redshift\n",
    "create_validation_table = civis.io.dataframe_to_civis(df=validation_df,\n",
    "                                                 database=DATABASE, \n",
    "                                                 table= f'{SCHEMA}.{PREFIX}_validation_{datestamp}', \n",
    "                                                 existing_table_rows='drop')\n"
   ]
  },
  {
   "cell_type": "code",
   "execution_count": 22,
   "metadata": {},
   "outputs": [
    {
     "name": "stdout",
     "output_type": "stream",
     "text": [
      "spoke_support_1box\n",
      "spoke_persuasion_1plus\n",
      "spoke_persuasion_1minus\n"
     ]
    },
    {
     "data": {
      "text/plain": [
       "{'container_id': 53702187,\n",
       " 'error': None,\n",
       " 'finished_at': '2019-12-22T01:57:04.000Z',\n",
       " 'id': 193189502,\n",
       " 'is_cancel_requested': False,\n",
       " 'started_at': '2019-12-22T00:15:19.000Z',\n",
       " 'state': 'succeeded'}"
      ]
     },
     "execution_count": 22,
     "metadata": {},
     "output_type": "execute_result"
    }
   ],
   "source": [
    "# Score the voterfile\n",
    "scores_list = []\n",
    "for m,t in zip(model_output, train_output):\n",
    "    DV_NAME = ''.join(t.metadata['run']['configuration']['data']['y'])\n",
    "    print(DV_NAME)\n",
    "    SCORES_TABLE = f'{SCHEMA}.{PREFIX}_{DV_NAME}_{datestamp}'\n",
    "    scores_list.append(SCORES_TABLE)\n",
    "    scores = m.predict(primary_key=PRIMARY_KEY,\n",
    "                       database_name=DATABASE, \n",
    "                       table_name=MODELING_FRAME,\n",
    "                       if_exists='drop',\n",
    "                       output_table=SCORES_TABLE,\n",
    "                       disk_space=10)\n",
    "scores.result()\n"
   ]
  },
  {
   "cell_type": "code",
   "execution_count": 25,
   "metadata": {
    "collapsed": true
   },
   "outputs": [],
   "source": [
    "# Generate SQL for final output table and drop intermediary tables\n",
    "input_train_list = []\n",
    "output_score_list = []\n",
    "for i in range(len(DV_LIST)):\n",
    "    input_train = f\"{SCHEMA}.{PREFIX}_training_{i}\"\n",
    "    input_train_list.append(input_train)\n",
    "    output_score = f\"{SCHEMA}.{PREFIX}_{DV_LIST[i]}_{datestamp}\"\n",
    "    output_score_list.append(output_score)\n",
    "\n",
    "drop_input_train_sql = \"\\n\".join([\"drop table if exists {tbl};\".format(tbl=v) for v in input_train_list])\n",
    "drop_output_score_sql = \"\\n\".join([\"drop table if exists {tbl};\".format(tbl=t) for t in output_score_list])  \n",
    "dv_strings = \"\\n,\".join([\"{dv_score}_1 as {dv_score}\".format(dv_score=dv) for dv in DV_LIST])\n",
    "dv_tiles = \"\\n,\".join([\"NTILE(100) OVER (ORDER BY {dv_tile}_1) AS {dv_tile}_100\".format(dv_tile=dv) for dv in DV_LIST])\n",
    "join_table = []\n",
    "if len(output_score_list) > 1:\n",
    "    for i in output_score_list[1:]:\n",
    "        j = str(' left join '+f'{i}'+f' using({PRIMARY_KEY}) ')\n",
    "        join_table.append(j)\n",
    "        #dv_strings = \"\\nleft join \".join([\"{dv_score}\".format(table=tbl) for tbl in table_list[i])\n"
   ]
  },
  {
   "cell_type": "code",
   "execution_count": 27,
   "metadata": {
    "collapsed": true
   },
   "outputs": [],
   "source": [
    "output_table_sql = f\"\"\"\n",
    "set query_group to 'importers';\n",
    "set wlm_query_slot_count to 3;\n",
    "DROP TABLE IF EXISTS {SCHEMA}.{PREFIX}_output_{datestamp};\n",
    "CREATE TABLE {SCHEMA}.{PREFIX}_output_{datestamp}\n",
    "  DISTSTYLE KEY\n",
    "  DISTKEY ({PRIMARY_KEY})\n",
    "  SORTKEY ({PRIMARY_KEY})\n",
    "  AS (\"\"\"+'select '+ f\"{PRIMARY_KEY} \\n,\" + dv_strings + \"\\n,\" + dv_tiles + ' from '+ ''.join(output_score_list[0]) + ''.join(join_table) +');'  \n"
   ]
  },
  {
   "cell_type": "code",
   "execution_count": 28,
   "metadata": {},
   "outputs": [
    {
     "name": "stdout",
     "output_type": "stream",
     "text": [
      "\n",
      "set query_group to 'importers';\n",
      "set wlm_query_slot_count to 3;\n",
      "DROP TABLE IF EXISTS bernie_nmarchio2.spoke_output_20191221;\n",
      "CREATE TABLE bernie_nmarchio2.spoke_output_20191221\n",
      "  DISTSTYLE KEY\n",
      "  DISTKEY (person_id)\n",
      "  SORTKEY (person_id)\n",
      "  AS (select person_id \n",
      ",spoke_support_1box_1 as spoke_support_1box\n",
      ",spoke_persuasion_1plus_1 as spoke_persuasion_1plus\n",
      ",spoke_persuasion_1minus_1 as spoke_persuasion_1minus\n",
      ",NTILE(100) OVER (ORDER BY spoke_support_1box_1) AS spoke_support_1box_100\n",
      ",NTILE(100) OVER (ORDER BY spoke_persuasion_1plus_1) AS spoke_persuasion_1plus_100\n",
      ",NTILE(100) OVER (ORDER BY spoke_persuasion_1minus_1) AS spoke_persuasion_1minus_100 from bernie_nmarchio2.spoke_spoke_support_1box_20191221 left join bernie_nmarchio2.spoke_spoke_persuasion_1plus_20191221 using(person_id)  left join bernie_nmarchio2.spoke_spoke_persuasion_1minus_20191221 using(person_id) );\n"
     ]
    }
   ],
   "source": [
    "print(output_table_sql)"
   ]
  },
  {
   "cell_type": "code",
   "execution_count": 29,
   "metadata": {},
   "outputs": [
    {
     "data": {
      "text/plain": [
       "'succeeded'"
      ]
     },
     "execution_count": 29,
     "metadata": {},
     "output_type": "execute_result"
    }
   ],
   "source": [
    "# Create final output table\n",
    "create_output_table = civis.io.query_civis(sql=output_table_sql, database=DATABASE)\n",
    "create_output_table.result().state\n"
   ]
  },
  {
   "cell_type": "code",
   "execution_count": 30,
   "metadata": {},
   "outputs": [
    {
     "data": {
      "text/plain": [
       "'succeeded'"
      ]
     },
     "execution_count": 30,
     "metadata": {},
     "output_type": "execute_result"
    }
   ],
   "source": [
    "# Drop intermediary tables\n",
    "drop_input_train_query = civis.io.query_civis(sql=drop_input_train_sql, database=DATABASE)\n",
    "drop_input_train_query.result().state\n",
    "\n",
    "drop_output_score_query = civis.io.query_civis(sql=drop_output_score_sql, database=DATABASE)\n",
    "drop_output_score_query.result().state"
   ]
  },
  {
   "cell_type": "code",
   "execution_count": 31,
   "metadata": {},
   "outputs": [
    {
     "name": "stdout",
     "output_type": "stream",
     "text": [
      "drop table if exists bernie_nmarchio2.spoke_training_0;\n",
      "drop table if exists bernie_nmarchio2.spoke_training_1;\n",
      "drop table if exists bernie_nmarchio2.spoke_training_2;\n",
      "drop table if exists bernie_nmarchio2.spoke_spoke_support_1box_20191221;\n",
      "drop table if exists bernie_nmarchio2.spoke_spoke_persuasion_1plus_20191221;\n",
      "drop table if exists bernie_nmarchio2.spoke_spoke_persuasion_1minus_20191221;\n"
     ]
    }
   ],
   "source": [
    "print(drop_input_train_sql)\n",
    "print(drop_output_score_sql)"
   ]
  },
  {
   "cell_type": "code",
   "execution_count": 32,
   "metadata": {},
   "outputs": [
    {
     "data": {
      "text/plain": [
       "'succeeded'"
      ]
     },
     "execution_count": 32,
     "metadata": {},
     "output_type": "execute_result"
    }
   ],
   "source": [
    "# Grant team on tables\n",
    "grant_statement = f\"\"\"\n",
    "GRANT ALL ON SCHEMA {SCHEMA} TO GROUP bernie_data;\n",
    "GRANT SELECT ON {SCHEMA}.{PREFIX}_output_{datestamp} TO GROUP bernie_data;\n",
    "GRANT SELECT ON {SCHEMA}.{PREFIX}_validation_{datestamp} TO GROUP bernie_data;\n",
    "\"\"\"\n",
    "grant_team = civis.io.query_civis(sql=grant_statement, database=DATABASE)\n",
    "grant_team.result().state"
   ]
  },
  {
   "cell_type": "code",
   "execution_count": 33,
   "metadata": {},
   "outputs": [
    {
     "name": "stdout",
     "output_type": "stream",
     "text": [
      "\n",
      "GRANT ALL ON SCHEMA bernie_nmarchio2 TO GROUP bernie_data;\n",
      "GRANT SELECT ON bernie_nmarchio2.spoke_output_20191221 TO GROUP bernie_data;\n",
      "GRANT SELECT ON bernie_nmarchio2.spoke_validation_20191221 TO GROUP bernie_data;\n",
      "\n"
     ]
    }
   ],
   "source": [
    "print(grant_statement)"
   ]
  },
  {
   "cell_type": "code",
   "execution_count": null,
   "metadata": {
    "collapsed": true
   },
   "outputs": [],
   "source": []
  },
  {
   "cell_type": "code",
   "execution_count": null,
   "metadata": {
    "collapsed": true
   },
   "outputs": [],
   "source": []
  }
 ],
 "metadata": {
  "kernelspec": {
   "display_name": "Python 3",
   "language": "python",
   "name": "python3"
  },
  "language_info": {
   "codemirror_mode": {
    "name": "ipython",
    "version": 3
   },
   "file_extension": ".py",
   "mimetype": "text/x-python",
   "name": "python",
   "nbconvert_exporter": "python",
   "pygments_lexer": "ipython3",
   "version": "3.6.3"
  }
 },
 "nbformat": 4,
 "nbformat_minor": 2
}
