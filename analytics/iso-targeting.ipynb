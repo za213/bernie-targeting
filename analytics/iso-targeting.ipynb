{
 "cells": [
  {
   "cell_type": "code",
   "execution_count": 1,
   "metadata": {},
   "outputs": [],
   "source": [
    "%%capture\n",
    "!pip install shapely\n",
    "!pip install geopandas\n",
    "!pip install folium\n",
    "!pip install config\n",
    "!pip install timezonefinder\n"
   ]
  },
  {
   "cell_type": "code",
   "execution_count": 2,
   "metadata": {},
   "outputs": [],
   "source": [
    "#Function to get isolines  \n",
    "from shapely.geometry import Polygon\n",
    "from shapely import wkt\n",
    "import requests\n",
    "import json\n",
    "import geopandas as gpd\n",
    "from geopandas import GeoSeries\n",
    "import folium\n",
    "import config\n",
    "import pandas as pd\n",
    "import timezonefinder as tf\n",
    "from timezonefinder import TimezoneFinder\n",
    "tf = TimezoneFinder()\n",
    "from datetime import datetime, timezone, date, time, timedelta\n"
   ]
  },
  {
   "cell_type": "code",
   "execution_count": 3,
   "metadata": {},
   "outputs": [],
   "source": [
    "# Get LatLon from address\n",
    "def get_latlon(event_address):\n",
    "    get_latlon = f'https://geocoder.ls.hereapi.com/6.2/geocode.json?searchtext={event_address}&gen=9&apiKey=CvCsf7byXWXESq3FtlGpWXUWRqYEnj-W8k9amDXCJJ4'\n",
    "    js_latlon = requests.get(url = get_latlon).json()['Response']['View'][0]['Result'][0]['Location']['DisplayPosition']\n",
    "    return js_latlon\n",
    "# Get UTC Timezone offset based on LatLon\n",
    "def get_offset(*, Latitude, Longitude):\n",
    "    from datetime import datetime\n",
    "    from pytz import timezone, utc\n",
    "    today = datetime.now()\n",
    "    tz_target = timezone(tf.certain_timezone_at(lng=Longitude, lat=Latitude))\n",
    "    today_target = tz_target.localize(today)\n",
    "    today_utc = utc.localize(today)\n",
    "    return(int((today_utc - today_target).total_seconds() / 3600))\n",
    "# Format Arrival Time in Isoformat\n",
    "def get_isotime(start_time, event_date, utc_offset):\n",
    "    t_24 = datetime.strptime(start_time,'%I:%M%p')\n",
    "    d = datetime.strptime(event_date,'%Y-%m-%d')\n",
    "    dt_24 = datetime.combine(d.date(),t_24.timetz(),tzinfo=timezone(timedelta(hours=utc_offset)))\n",
    "    arrival_time = dt_24.isoformat(sep='T')\n",
    "    return arrival_time\n",
    "\n",
    "# Get Isoline from HERE API\n",
    "def get_isodata(lat,lon,\n",
    "                trip_mode,\n",
    "                trip_duration,\n",
    "                arrival_time):   \n",
    "    try: \n",
    "        obtain_isoline = (f'https://isoline.route.ls.hereapi.com/routing/7.2/calculateisoline.json' +\n",
    "        f'?apiKey=CvCsf7byXWXESq3FtlGpWXUWRqYEnj-W8k9amDXCJJ4'+\n",
    "        f'&mode=fastest;{trip_mode}'+\n",
    "        f'&destination=geo!{lat},{lon}'+\n",
    "        f'&range={trip_duration}'+\n",
    "        f'&rangetype=time'+\n",
    "        f'&resolution=10'+\n",
    "        f'&singlecomponent=true'+\n",
    "        f'&arrival={arrival_time}')\n",
    "        js_isoline = requests.get(url = obtain_isoline).json()['response']['isoline'][0]['component'][0]['shape']\n",
    "        coords = Polygon([(float(x.split(',')[1]), float(x.split(',')[0])) for x in js_isoline])\n",
    "        geojs = gpd.GeoSeries([coords])\n",
    "        geojs.crs = {'init' : 'epsg:4326'}\n",
    "        return geojs\n",
    "    except KeyError:\n",
    "        js = requests.get(url).json()\n",
    "        print(js)\n",
    "        raise ValueError(\"HereAPI doesn't have data requested\")\n",
    "    except IndexError:\n",
    "        print(js)\n",
    "        raise ValueError(\"HereAPI doesn't have quality data\")\n",
    "        "
   ]
  },
  {
   "cell_type": "code",
   "execution_count": 11,
   "metadata": {},
   "outputs": [],
   "source": [
    "# User input event details\n",
    "EVENT_DICT = {'anamosa':['102 Chamber Dr Anamosa, IA 52205','11:00AM','2020-01-03'],\n",
    "              'waterloo':['1712 W 4th St Waterloo, IA 50701','2:00PM','2020-01-03'],\n",
    "              'decorah':['900 E Main St, Decorah, IA 52101','5:00PM','2020-01-03'],\n",
    "              'dubuque':['1800 Clarke Dr Dubuque, IA 52001','11:00AM','2020-01-04'],\n",
    "              'grundy':['705 F Ave Grundy Center, IA 50638','2:30PM','2020-01-04'],\n",
    "              'mason':['308 S Pennsylvania Ave, Mason City, IA 50401','5:00PM','2020-01-04'],\n",
    "              'boone':['1900 Lakewood Dr Boone, IA 50036','10:00AM','2020-01-05']\n",
    "             }\n",
    "\n",
    "# Output table\n",
    "OUTPUT_TABLE = 'bernie_nmarchio2.iowa_event_isolines'\n",
    "\n",
    "# Max and min travel range in seconds (and increment of isoline series)\n",
    "max_range = 5400\n",
    "min_range = 300\n",
    "time_increment = 300 \n"
   ]
  },
  {
   "cell_type": "code",
   "execution_count": 5,
   "metadata": {},
   "outputs": [],
   "source": [
    "event_object = []\n",
    "event_gpd = gpd.GeoDataFrame()\n",
    "for i in EVENT_DICT.items():\n",
    "    event_coords = get_latlon(event_address=i[1][0].replace(' ','%20'))\n",
    "    hour_offset = get_offset(**event_coords)\n",
    "    timestamp = get_isotime(start_time=str(i[1][1]),\n",
    "                            event_date=str(i[1][2]),\n",
    "                            utc_offset=hour_offset)\n",
    "    for commute_mode in ['car','pedestrian']:\n",
    "        for commute_time in range(min_range, max_range, time_increment):\n",
    "            if (commute_mode == 'pedestrian' and commute_time <= 1800) or commute_mode == 'car':\n",
    "                    isoline = get_isodata(lat=event_coords['Latitude'],\n",
    "                                          lon=event_coords['Longitude'],\n",
    "                                          trip_mode=commute_mode,\n",
    "                                          trip_duration=commute_time,\n",
    "                                          arrival_time=timestamp)\n",
    "                    df = pd.DataFrame({'event_input':[i],\n",
    "                                       'event_address':[i[1][0]],\n",
    "                                       'event_latlon':[event_coords],\n",
    "                                       'event_time':[timestamp],\n",
    "                                       'trip_mode': [commute_mode],\n",
    "                                       'trip_duration_minutes': [commute_time/60]\n",
    "                                      })\n",
    "                    isoline_gdf = gpd.GeoDataFrame(df, geometry = isoline)\n",
    "                    isoline_gdf.crs = {'init':'epsg:4326'}\n",
    "                    event_gpd = pd.concat([event_gpd, isoline_gdf])\n"
   ]
  },
  {
   "cell_type": "code",
   "execution_count": 6,
   "metadata": {},
   "outputs": [
    {
     "data": {
      "text/html": [
       "<div>\n",
       "<style scoped>\n",
       "    .dataframe tbody tr th:only-of-type {\n",
       "        vertical-align: middle;\n",
       "    }\n",
       "\n",
       "    .dataframe tbody tr th {\n",
       "        vertical-align: top;\n",
       "    }\n",
       "\n",
       "    .dataframe thead th {\n",
       "        text-align: right;\n",
       "    }\n",
       "</style>\n",
       "<table border=\"1\" class=\"dataframe\">\n",
       "  <thead>\n",
       "    <tr style=\"text-align: right;\">\n",
       "      <th></th>\n",
       "      <th>event_input</th>\n",
       "      <th>event_address</th>\n",
       "      <th>event_latlon</th>\n",
       "      <th>event_time</th>\n",
       "      <th>trip_mode</th>\n",
       "      <th>trip_duration_minutes</th>\n",
       "      <th>geometry</th>\n",
       "    </tr>\n",
       "  </thead>\n",
       "  <tbody>\n",
       "    <tr>\n",
       "      <th>0</th>\n",
       "      <td>(anamosa, [102 Chamber Dr Anamosa, IA 52205, 1...</td>\n",
       "      <td>102 Chamber Dr Anamosa, IA 52205</td>\n",
       "      <td>{'Latitude': 42.10527, 'Longitude': -91.26578}</td>\n",
       "      <td>2020-01-03T11:00:00-06:00</td>\n",
       "      <td>car</td>\n",
       "      <td>5.0</td>\n",
       "      <td>POLYGON ((-91.31278 42.07146, -91.29639 42.071...</td>\n",
       "    </tr>\n",
       "    <tr>\n",
       "      <th>0</th>\n",
       "      <td>(anamosa, [102 Chamber Dr Anamosa, IA 52205, 1...</td>\n",
       "      <td>102 Chamber Dr Anamosa, IA 52205</td>\n",
       "      <td>{'Latitude': 42.10527, 'Longitude': -91.26578}</td>\n",
       "      <td>2020-01-03T11:00:00-06:00</td>\n",
       "      <td>car</td>\n",
       "      <td>10.0</td>\n",
       "      <td>POLYGON ((-91.40591 42.06390, -91.40350 42.063...</td>\n",
       "    </tr>\n",
       "    <tr>\n",
       "      <th>0</th>\n",
       "      <td>(anamosa, [102 Chamber Dr Anamosa, IA 52205, 1...</td>\n",
       "      <td>102 Chamber Dr Anamosa, IA 52205</td>\n",
       "      <td>{'Latitude': 42.10527, 'Longitude': -91.26578}</td>\n",
       "      <td>2020-01-03T11:00:00-06:00</td>\n",
       "      <td>car</td>\n",
       "      <td>15.0</td>\n",
       "      <td>POLYGON ((-91.50478 42.04742, -91.49689 42.047...</td>\n",
       "    </tr>\n",
       "    <tr>\n",
       "      <th>0</th>\n",
       "      <td>(anamosa, [102 Chamber Dr Anamosa, IA 52205, 1...</td>\n",
       "      <td>102 Chamber Dr Anamosa, IA 52205</td>\n",
       "      <td>{'Latitude': 42.10527, 'Longitude': -91.26578}</td>\n",
       "      <td>2020-01-03T11:00:00-06:00</td>\n",
       "      <td>car</td>\n",
       "      <td>20.0</td>\n",
       "      <td>POLYGON ((-91.54976 42.04056, -91.54907 42.044...</td>\n",
       "    </tr>\n",
       "    <tr>\n",
       "      <th>0</th>\n",
       "      <td>(anamosa, [102 Chamber Dr Anamosa, IA 52205, 1...</td>\n",
       "      <td>102 Chamber Dr Anamosa, IA 52205</td>\n",
       "      <td>{'Latitude': 42.10527, 'Longitude': -91.26578}</td>\n",
       "      <td>2020-01-03T11:00:00-06:00</td>\n",
       "      <td>car</td>\n",
       "      <td>25.0</td>\n",
       "      <td>POLYGON ((-91.61980 42.02820, -91.61636 42.026...</td>\n",
       "    </tr>\n",
       "  </tbody>\n",
       "</table>\n",
       "</div>"
      ],
      "text/plain": [
       "                                         event_input  \\\n",
       "0  (anamosa, [102 Chamber Dr Anamosa, IA 52205, 1...   \n",
       "0  (anamosa, [102 Chamber Dr Anamosa, IA 52205, 1...   \n",
       "0  (anamosa, [102 Chamber Dr Anamosa, IA 52205, 1...   \n",
       "0  (anamosa, [102 Chamber Dr Anamosa, IA 52205, 1...   \n",
       "0  (anamosa, [102 Chamber Dr Anamosa, IA 52205, 1...   \n",
       "\n",
       "                      event_address  \\\n",
       "0  102 Chamber Dr Anamosa, IA 52205   \n",
       "0  102 Chamber Dr Anamosa, IA 52205   \n",
       "0  102 Chamber Dr Anamosa, IA 52205   \n",
       "0  102 Chamber Dr Anamosa, IA 52205   \n",
       "0  102 Chamber Dr Anamosa, IA 52205   \n",
       "\n",
       "                                     event_latlon                 event_time  \\\n",
       "0  {'Latitude': 42.10527, 'Longitude': -91.26578}  2020-01-03T11:00:00-06:00   \n",
       "0  {'Latitude': 42.10527, 'Longitude': -91.26578}  2020-01-03T11:00:00-06:00   \n",
       "0  {'Latitude': 42.10527, 'Longitude': -91.26578}  2020-01-03T11:00:00-06:00   \n",
       "0  {'Latitude': 42.10527, 'Longitude': -91.26578}  2020-01-03T11:00:00-06:00   \n",
       "0  {'Latitude': 42.10527, 'Longitude': -91.26578}  2020-01-03T11:00:00-06:00   \n",
       "\n",
       "  trip_mode  trip_duration_minutes  \\\n",
       "0       car                    5.0   \n",
       "0       car                   10.0   \n",
       "0       car                   15.0   \n",
       "0       car                   20.0   \n",
       "0       car                   25.0   \n",
       "\n",
       "                                            geometry  \n",
       "0  POLYGON ((-91.31278 42.07146, -91.29639 42.071...  \n",
       "0  POLYGON ((-91.40591 42.06390, -91.40350 42.063...  \n",
       "0  POLYGON ((-91.50478 42.04742, -91.49689 42.047...  \n",
       "0  POLYGON ((-91.54976 42.04056, -91.54907 42.044...  \n",
       "0  POLYGON ((-91.61980 42.02820, -91.61636 42.026...  "
      ]
     },
     "execution_count": 6,
     "metadata": {},
     "output_type": "execute_result"
    }
   ],
   "source": [
    "event_gpd.head(n=5)"
   ]
  },
  {
   "cell_type": "code",
   "execution_count": 9,
   "metadata": {},
   "outputs": [],
   "source": [
    "#event_gpd.to_file(\"countries.geojson\", driver='GeoJSON')\n"
   ]
  },
  {
   "cell_type": "code",
   "execution_count": 12,
   "metadata": {},
   "outputs": [
    {
     "data": {
      "text/plain": [
       "{'created_at': '2019-12-31T17:26:59.000Z',\n",
       " 'error': None,\n",
       " 'finished_at': '2019-12-31T17:27:09.000Z',\n",
       " 'id': 195964769,\n",
       " 'started_at': '2019-12-31T17:26:59.000Z',\n",
       " 'state': 'succeeded'}"
      ]
     },
     "execution_count": 12,
     "metadata": {},
     "output_type": "execute_result"
    }
   ],
   "source": [
    "create_geojson_df = civis.io.dataframe_to_civis(df=event_gpd,\n",
    "                                                database='Bernie 2020', \n",
    "                                                table= 'bernie_nmarchio2.isoline_geometries', \n",
    "                                                existing_table_rows='drop')\n",
    "create_geojson_df.result()"
   ]
  },
  {
   "cell_type": "code",
   "execution_count": 13,
   "metadata": {},
   "outputs": [
    {
     "data": {
      "text/plain": [
       "'succeeded'"
      ]
     },
     "execution_count": 13,
     "metadata": {},
     "output_type": "execute_result"
    }
   ],
   "source": [
    "convert_to_geometry_sql = f'''\n",
    "DROP TABLE IF EXISTS {OUTPUT_TABLE};\n",
    "CREATE TABLE {OUTPUT_TABLE}\n",
    "  DISTKEY (event_input) AS (select \n",
    "          event_input\n",
    "         ,event_address\n",
    "         ,event_latlon\n",
    "         ,event_time\n",
    "         ,trip_mode\n",
    "         ,trip_duration_minutes\n",
    "         ,geometry as isoline\n",
    "         ,ST_GeomFromText(geometry,4326) as geometry \n",
    "from (select * from bernie_nmarchio2.isoline_geometries))'''\n",
    "\n",
    "output_table = civis.io.query_civis(sql=convert_to_geometry_sql, database='Bernie 2020')\n",
    "output_table.result().state"
   ]
  },
  {
   "cell_type": "code",
   "execution_count": null,
   "metadata": {},
   "outputs": [],
   "source": [
    "\n",
    "\n"
   ]
  }
 ],
 "metadata": {
  "kernelspec": {
   "display_name": "Python 3",
   "language": "python",
   "name": "python3"
  },
  "language_info": {
   "codemirror_mode": {
    "name": "ipython",
    "version": 3
   },
   "file_extension": ".py",
   "mimetype": "text/x-python",
   "name": "python",
   "nbconvert_exporter": "python",
   "pygments_lexer": "ipython3",
   "version": "3.7.1"
  }
 },
 "nbformat": 4,
 "nbformat_minor": 2
}
