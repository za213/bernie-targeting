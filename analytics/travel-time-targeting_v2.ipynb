{
 "cells": [
  {
   "cell_type": "code",
   "execution_count": null,
   "metadata": {},
   "outputs": [],
   "source": [
    "%%capture\n",
    "!pip install shapely\n",
    "!pip install geopandas\n",
    "!pip install folium\n",
    "!pip install config\n",
    "!pip install timezonefinder\n",
    "#viz packages\n",
    "!pip install descartes \n",
    "!pip install mapclassify \n",
    "!pip install contextily==1.0rc2\n"
   ]
  },
  {
   "cell_type": "code",
   "execution_count": null,
   "metadata": {},
   "outputs": [],
   "source": [
    "#Function to get isolines  \n",
    "from shapely.geometry import Polygon,  Point\n",
    "from shapely import wkt\n",
    "import requests\n",
    "import json\n",
    "import geopandas as gpd\n",
    "from geopandas import GeoSeries\n",
    "import folium\n",
    "import config\n",
    "import pandas as pd\n",
    "import numpy as np\n",
    "\n",
    "import timezonefinder as tf\n",
    "from timezonefinder import TimezoneFinder\n",
    "tf = TimezoneFinder()\n",
    "from datetime import datetime, timezone, date, time, timedelta\n",
    "\n",
    "# viz\n",
    "import matplotlib.pyplot as plt\n",
    "from pathlib import Path\n",
    "%matplotlib inline\n",
    "import contextily as ctx\n",
    "import mapclassify\n",
    "import descartes"
   ]
  },
  {
   "cell_type": "code",
   "execution_count": null,
   "metadata": {},
   "outputs": [],
   "source": [
    "# Get LatLon from address\n",
    "def get_latlon(event_address):\n",
    "    get_latlon = f'https://geocoder.ls.hereapi.com/6.2/geocode.json?searchtext={event_address}&gen=9&apiKey=<INSERTAPIKEY>'\n",
    "    js_latlon = requests.get(url = get_latlon).json()['Response']['View'][0]['Result'][0]['Location']['DisplayPosition']\n",
    "    return js_latlon\n",
    "\n",
    "# Get UTC Timezone offset based on LatLon\n",
    "def get_offset(*, Latitude, Longitude):\n",
    "    from datetime import datetime\n",
    "    from pytz import timezone, utc\n",
    "    today = datetime.now()\n",
    "    tz_target = timezone(tf.certain_timezone_at(lng=Longitude, lat=Latitude))\n",
    "    today_target = tz_target.localize(today)\n",
    "    today_utc = utc.localize(today)\n",
    "    return(int((today_utc - today_target).total_seconds() / 3600))\n",
    "\n",
    "# Convert Arrival Time to ISO format\n",
    "def get_isotime(start_time, event_date, utc_offset):\n",
    "    t_24 = datetime.strptime(start_time,'%I:%M%p')\n",
    "    d = datetime.strptime(event_date,'%Y-%m-%d')\n",
    "    dt_24 = datetime.combine(d.date(),t_24.timetz(),tzinfo=timezone(timedelta(hours=utc_offset)))\n",
    "    arrival_time = dt_24.isoformat(sep='T')\n",
    "    return arrival_time\n",
    "\n",
    "# Get Isoline from HERE API\n",
    "def get_isodata(lat,lon,\n",
    "                trip_mode,\n",
    "                trip_duration,\n",
    "                arrival_time,\n",
    "                meters_per_pixel):   \n",
    "    try: \n",
    "        obtain_isoline = (f'https://isoline.route.ls.hereapi.com/routing/7.2/calculateisoline.json' +\n",
    "        f'?apiKey=<INSERTAPIKEY>'+\n",
    "        f'&mode=fastest;{trip_mode}'+\n",
    "        f'&destination=geo!{lat},{lon}'+\n",
    "        f'&range={trip_duration}'+\n",
    "        f'&rangetype=time'+\n",
    "        f'&resolution={meters_per_pixel}'+\n",
    "        f'&singlecomponent=true'+\n",
    "        f'&arrival={arrival_time}')\n",
    "        js_isoline = requests.get(url = obtain_isoline).json()['response']['isoline'][0]['component'][0]['shape']\n",
    "        coords = Polygon([(float(x.split(',')[1]), float(x.split(',')[0])) for x in js_isoline])\n",
    "        geojs = gpd.GeoSeries([coords])\n",
    "        geojs.crs = {'init' : 'epsg:4326'}\n",
    "        return geojs\n",
    "    except KeyError:\n",
    "        js = requests.get(url).json()\n",
    "        print(js)\n",
    "        raise ValueError(\"HereAPI doesn't have data requested\")\n",
    "    except IndexError:\n",
    "        print(js)\n",
    "        raise ValueError(\"HereAPI doesn't have quality data\")\n",
    "        "
   ]
  },
  {
   "cell_type": "code",
   "execution_count": null,
   "metadata": {},
   "outputs": [],
   "source": [
    "# User input event details\n",
    "# Format {event_id: ['Address City State ZIP', '9:00AM', 'YYYY-MM-DD', 'car', Max travel time (minutes), 'Name of event'],\n",
    "#         event_id: ['Address City State ZIP', '3:00PM', 'YYYY-MM-DD', 'pedestrian', Max travel time (minutes), 'Name of event']}\n",
    "EVENT_DICT = {181311:['102 Chamber Dr Anamosa, IA 52205','11:00AM','2020-01-03','car',60,'anamosa'],\n",
    "              181312:['1712 W 4th St Waterloo, IA 50701','2:00PM','2020-01-03','car',60,'waterloo'],\n",
    "              181316:['900 E Main St, Decorah, IA 52101','5:00PM','2020-01-03','car',60,'decorah'],\n",
    "              181318:['1800 Clarke Dr Dubuque, IA 52001','11:00AM','2020-01-04','car',60,'dubuque'],\n",
    "              181319:['705 F Ave Grundy Center, IA 50638','2:30PM','2020-01-04','car',60,'grundy'],\n",
    "              181321:['308 S Pennsylvania Ave, Mason City, IA 50401','5:00PM','2020-01-04','car',60,'mason'],\n",
    "              181323:['1900 Lakewood Dr Boone, IA 50036','10:00AM','2020-01-05','car',60,'boone']\n",
    "             }\n",
    "\n",
    "# Output table\n",
    "OUTPUT_TABLE = 'bernie_nmarchio2.isoline_test'\n",
    "\n",
    "# Min travel range in seconds (and increment of isoline series)\n",
    "min_range = 300 # 5 minutes\n",
    "time_increment = 300 # 5 minutes\n",
    "isoline_resolution = 100 # meters per pixel, recommended 100 for 'car' and 10 for 'pedestrian'\n"
   ]
  },
  {
   "cell_type": "code",
   "execution_count": null,
   "metadata": {},
   "outputs": [],
   "source": [
    "# Get isolines geometries and create table\n",
    "event_object = []\n",
    "event_gpd = gpd.GeoDataFrame()\n",
    "for i in EVENT_DICT.items():\n",
    "    event_coords = get_latlon(event_address=i[1][0].replace(' ','%20'))\n",
    "    hour_offset = get_offset(**event_coords)\n",
    "    timestamp = get_isotime(start_time=str(i[1][1]),\n",
    "                            event_date=str(i[1][2]),\n",
    "                            utc_offset=hour_offset)\n",
    "    commute_mode = i[1][3]\n",
    "    max_range = int(i[1][4])*60\n",
    "    for commute_time in range(min_range, max_range, time_increment):\n",
    "        if (commute_mode == 'pedestrian' and commute_time <= 1800) or commute_mode == 'car':\n",
    "            isoline = get_isodata(lat=event_coords['Latitude'],\n",
    "                                  lon=event_coords['Longitude'],\n",
    "                                  trip_mode=commute_mode,\n",
    "                                  trip_duration=commute_time,\n",
    "                                  arrival_time=timestamp,\n",
    "                                  meters_per_pixel=isoline_resolution)\n",
    "            iso_bbox = isoline.envelope\n",
    "            search_geom = gpd.GeoDataFrame(geometry = iso_bbox)['geometry'].geometry\n",
    "            search_array = [i for i in search_geom.geometry]\n",
    "            x,y = search_array[0].exterior.coords.xy\n",
    "            df = pd.DataFrame({'event_input':[i],\n",
    "                               'event_id':[i[0]],\n",
    "                               'event_address':[i[1][0]],\n",
    "                               'event_latlon':[event_coords],\n",
    "                               'event_time':[timestamp],\n",
    "                               'trip_mode': [commute_mode],\n",
    "                               'trip_duration_minutes': [commute_time/60],\n",
    "                               'search_max_lat':[max(y)],\n",
    "                               'search_min_lat':[min(y)],\n",
    "                               'search_max_lon':[max(x)],\n",
    "                               'search_min_lon':[min(x)]\n",
    "                              })\n",
    "            isoline_gdf = gpd.GeoDataFrame(df, geometry = isoline)\n",
    "            isoline_gdf.crs = {'init':'epsg:4326'}\n",
    "            event_gpd = pd.concat([event_gpd, isoline_gdf])\n"
   ]
  },
  {
   "cell_type": "code",
   "execution_count": null,
   "metadata": {},
   "outputs": [],
   "source": [
    "event_gpd.head(n=5)"
   ]
  },
  {
   "cell_type": "code",
   "execution_count": null,
   "metadata": {},
   "outputs": [],
   "source": [
    "# Visualize isolines\n",
    "plt.rcParams['figure.dpi'] = 300\n",
    "plt.set_cmap('viridis')\n",
    "iso_viz = event_gpd.plot(column = 'event_id', \n",
    "                         scheme='quantiles', \n",
    "                         alpha=.1, \n",
    "                         figsize=(12, 10), edgecolor='k')\n",
    "\n",
    "ctx.add_basemap(iso_viz, crs= event_gpd.crs,  url=ctx.providers.Stamen.TonerLite) "
   ]
  },
  {
   "cell_type": "code",
   "execution_count": null,
   "metadata": {},
   "outputs": [],
   "source": [
    "# Upload isoline geometries table to platform\n",
    "create_geojson_df = civis.io.dataframe_to_civis(df=event_gpd,\n",
    "                                                database='Bernie 2020', \n",
    "                                                table= f'{OUTPUT_TABLE}_geometries', \n",
    "                                                existing_table_rows='drop')\n",
    "create_geojson_df.result()"
   ]
  },
  {
   "cell_type": "code",
   "execution_count": null,
   "metadata": {},
   "outputs": [],
   "source": [
    "# Assemble where SQL for voterfile and event isoline table\n",
    "search_area_list = []\n",
    "for i in event_gpd['event_id'].unique():\n",
    "    max_of_search_max_lat = event_gpd[(event_gpd[\"event_id\"] == i)]['search_max_lat'].max()\n",
    "    min_of_search_min_lat = event_gpd[(event_gpd[\"event_id\"] == i)]['search_min_lat'].min()\n",
    "    max_of_search_max_lon = event_gpd[(event_gpd[\"event_id\"] == i)]['search_max_lon'].max()\n",
    "    min_of_search_min_lon = event_gpd[(event_gpd[\"event_id\"] == i)]['search_min_lon'].min()\n",
    "    where_sql_search_area = f''' where (v_latitude >= {min_of_search_min_lat} AND v_latitude <= {max_of_search_max_lat}) AND (v_longitude >= {min_of_search_min_lon} AND v_longitude <= {max_of_search_max_lon})'''\n",
    "    search_area = {'event_id':i,\n",
    "                   'where_sql':where_sql_search_area}\n",
    "    search_area_list.append(search_area)\n",
    "    "
   ]
  },
  {
   "cell_type": "code",
   "execution_count": null,
   "metadata": {},
   "outputs": [],
   "source": [
    "# Assemble full SQL query to intersect voterfile with isolines\n",
    "isoline_base_sql = []\n",
    "for i in range(len(search_area_list)):\n",
    "    where_sql_event = search_area_list[i]['event_id']\n",
    "    where_sql_person = search_area_list[i]['where_sql']\n",
    "    base_query =  base_query = f'''-- Query for event_id = {where_sql_event}\n",
    "    (select * from (select person_id, event_id, event_input, trip_mode, trip_duration_minutes, row_number() over (partition by person_id order by trip_duration_minutes asc) as travel_rank from (select person_id, event_id, event_input, trip_mode, min(trip_duration_minutes) as trip_duration_minutes from (select person_id, event_id, event_input, trip_mode, trip_duration_minutes, ST_Within(voter,event) from \n",
    "    (select person_id, ST_SetSRID(ST_MakePoint(v_longitude, v_latitude),4326) as voter from bernie_data_commons.rainbow_analytics_frame {where_sql_person}) a, \n",
    "    (select event_id, event_input, trip_mode, trip_duration_minutes, ST_GeomFromText(geometry,4326) as event from (select * from {OUTPUT_TABLE}_geometries where event_id = {where_sql_event} )) b) \n",
    "    where st_within is true group by 1,2,3,4)) where travel_rank <= 3) '''\n",
    "    isoline_base_sql.append(base_query)\n",
    "    \n",
    "isoline_calculation_sql = \"\\nunion all\\n\".join([\" {query} \".format(query=q) for q in isoline_base_sql])"
   ]
  },
  {
   "cell_type": "code",
   "execution_count": null,
   "metadata": {},
   "outputs": [],
   "source": [
    "create_output_table = f\"\"\"\n",
    "set query_group to 'importers';\n",
    "set wlm_query_slot_count to 3;\n",
    "\n",
    "DROP TABLE IF EXISTS {OUTPUT_TABLE};\n",
    "CREATE TABLE {OUTPUT_TABLE}\n",
    "  DISTKEY (person_id) \n",
    "  AS (select * from \n",
    "  (select person_id, event_id, event_input, trip_mode, trip_duration_minutes, \n",
    "  row_number() over (partition by person_id order by trip_duration_minutes asc) as overall_rank from \n",
    "  ({isoline_calculation_sql})\n",
    "  ) where overall_rank = 1);\n",
    "  \n",
    "  grant select on table {OUTPUT_TABLE} to group bernie_data;\n",
    "  \"\"\""
   ]
  },
  {
   "cell_type": "code",
   "execution_count": null,
   "metadata": {},
   "outputs": [],
   "source": [
    "print(create_output_table)"
   ]
  },
  {
   "cell_type": "code",
   "execution_count": null,
   "metadata": {},
   "outputs": [],
   "source": [
    "output_table = civis.io.query_civis(sql=create_output_table, database='Bernie 2020')\n",
    "output_table.result()\n"
   ]
  },
  {
   "cell_type": "code",
   "execution_count": null,
   "metadata": {},
   "outputs": [],
   "source": [
    "# Check out counts for each event\n",
    "summary_df = f'select event_input, count(*) from {OUTPUT_TABLE} where trip_duration_minutes <= 45 group by 1 order by 2 desc;'\n",
    "summary_table = civis.io.read_civis_sql(sql=summary_df , database='Bernie 2020', use_pandas=True)\n",
    "pd.set_option('display.max_colwidth', -1)\n",
    "display(summary_table)"
   ]
  },
  {
   "cell_type": "code",
   "execution_count": null,
   "metadata": {},
   "outputs": [],
   "source": [
    "# Distribution of travel times around the events\n",
    "qc_df = f'''select person_id, event_input, trip_mode, trip_duration_minutes, v_latitude, v_longitude, geometry\n",
    "from {OUTPUT_TABLE} left join (select person_id, v_latitude, v_longitude, ST_AsText(ST_SetSRID(ST_MakePoint(v_longitude, v_latitude),4326)) as geometry from bernie_data_commons.rainbow_analytics_frame) using(person_id)\n",
    "where trip_duration_minutes <= 45 order by random() limit 100000'''\n",
    "\n",
    "qc_table = civis.io.read_civis_sql(sql=qc_df, database='Bernie 2020', use_pandas=True)\n"
   ]
  },
  {
   "cell_type": "code",
   "execution_count": null,
   "metadata": {},
   "outputs": [],
   "source": [
    "qc_table.head(n=5)"
   ]
  },
  {
   "cell_type": "code",
   "execution_count": null,
   "metadata": {},
   "outputs": [],
   "source": [
    "# Visualize travel time to events\n",
    "lat, lon = qc_table['v_latitude'], qc_table['v_longitude']\n",
    "minutes = qc_table['trip_duration_minutes']\n",
    "\n",
    "plt.figure(figsize=(10,8), dpi=300)\n",
    "plt.scatter(lon, lat, label = None,\n",
    "            c=minutes, cmap='Spectral',marker = \"o\",  \n",
    "            linewidth=0, alpha=0.5)\n",
    "plt.axis(aspect='equal')\n",
    "plt.xlabel('Longitude')\n",
    "plt.ylabel('Latitude')\n",
    "plt.colorbar(label='Travel time minutes')\n",
    "plt.clim(5, 45)\n",
    "\n",
    "plt.legend(scatterpoints=1, frameon=False, labelspacing=1)#, title='City Area'\n",
    "\n",
    "plt.title('Population distribution of travel time to event');\n"
   ]
  },
  {
   "cell_type": "code",
   "execution_count": null,
   "metadata": {},
   "outputs": [],
   "source": []
  }
 ],
 "metadata": {
  "kernelspec": {
   "display_name": "Python 3",
   "language": "python",
   "name": "python3"
  },
  "language_info": {
   "codemirror_mode": {
    "name": "ipython",
    "version": 3
   },
   "file_extension": ".py",
   "mimetype": "text/x-python",
   "name": "python",
   "nbconvert_exporter": "python",
   "pygments_lexer": "ipython3",
   "version": "3.7.1"
  }
 },
 "nbformat": 4,
 "nbformat_minor": 2
}
