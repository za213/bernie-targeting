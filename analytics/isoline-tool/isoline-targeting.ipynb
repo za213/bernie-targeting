{
 "cells": [
  {
   "cell_type": "code",
   "execution_count": 1,
   "metadata": {},
   "outputs": [],
   "source": [
    "%%capture\n",
    "!pip install shapely\n",
    "!pip install geopandas\n",
    "!pip install folium\n",
    "!pip install config\n",
    "!pip install timezonefinder\n",
    "!pip install descartes"
   ]
  },
  {
   "cell_type": "code",
   "execution_count": 2,
   "metadata": {},
   "outputs": [],
   "source": [
    "#Function to get isolines  \n",
    "from shapely.geometry import Polygon,  Point\n",
    "from shapely import wkt\n",
    "import requests\n",
    "import json\n",
    "import geopandas as gpd\n",
    "from geopandas import GeoSeries\n",
    "import folium\n",
    "import config\n",
    "import pandas as pd\n",
    "\n",
    "import timezonefinder as tf\n",
    "from timezonefinder import TimezoneFinder\n",
    "tf = TimezoneFinder()\n",
    "from datetime import datetime, timezone, date, time, timedelta\n",
    "\n",
    "import matplotlib.pyplot as plt\n",
    "from pathlib import Path\n",
    "%matplotlib inline\n",
    "import descartes"
   ]
  },
  {
   "cell_type": "code",
   "execution_count": 3,
   "metadata": {},
   "outputs": [],
   "source": [
    "# Get LatLon from address\n",
    "def get_latlon(event_address):\n",
    "    get_latlon = f'https://geocoder.ls.hereapi.com/6.2/geocode.json?searchtext={event_address}&gen=9&apiKey=CvCsf7byXWXESq3FtlGpWXUWRqYEnj-W8k9amDXCJJ4'\n",
    "    js_latlon = requests.get(url = get_latlon).json()['Response']['View'][0]['Result'][0]['Location']['DisplayPosition']\n",
    "    return js_latlon\n",
    "\n",
    "# Get UTC Timezone offset based on LatLon\n",
    "def get_offset(*, Latitude, Longitude):\n",
    "    from datetime import datetime\n",
    "    from pytz import timezone, utc\n",
    "    today = datetime.now()\n",
    "    tz_target = timezone(tf.certain_timezone_at(lng=Longitude, lat=Latitude))\n",
    "    today_target = tz_target.localize(today)\n",
    "    today_utc = utc.localize(today)\n",
    "    return(int((today_utc - today_target).total_seconds() / 3600))\n",
    "\n",
    "# Convert Arrival Time to ISO format\n",
    "def get_isotime(start_time, event_date, utc_offset):\n",
    "    t_24 = datetime.strptime(start_time,'%I:%M%p')\n",
    "    d = datetime.strptime(event_date,'%Y-%m-%d')\n",
    "    dt_24 = datetime.combine(d.date(),t_24.timetz(),tzinfo=timezone(timedelta(hours=utc_offset)))\n",
    "    arrival_time = dt_24.isoformat(sep='T')\n",
    "    return arrival_time\n",
    "\n",
    "# Get Isoline from HERE API\n",
    "def get_isodata(lat,lon,\n",
    "                trip_mode,\n",
    "                trip_duration,\n",
    "                arrival_time,\n",
    "                meters_per_pixel):   \n",
    "    try: \n",
    "        obtain_isoline = (f'https://isoline.route.ls.hereapi.com/routing/7.2/calculateisoline.json' +\n",
    "        f'?apiKey=CvCsf7byXWXESq3FtlGpWXUWRqYEnj-W8k9amDXCJJ4'+\n",
    "        f'&mode=fastest;{trip_mode}'+\n",
    "        f'&destination=geo!{lat},{lon}'+\n",
    "        f'&range={trip_duration}'+\n",
    "        f'&rangetype=time'+\n",
    "        f'&resolution={meters_per_pixel}'+\n",
    "        f'&singlecomponent=true'+\n",
    "        f'&arrival={arrival_time}')\n",
    "        js_isoline = requests.get(url = obtain_isoline).json()['response']['isoline'][0]['component'][0]['shape']\n",
    "        coords = Polygon([(float(x.split(',')[1]), float(x.split(',')[0])) for x in js_isoline])\n",
    "        geojs = gpd.GeoSeries([coords])\n",
    "        geojs.crs = {'init' : 'epsg:4326'}\n",
    "        return geojs\n",
    "    except KeyError:\n",
    "        js = requests.get(url).json()\n",
    "        print(js)\n",
    "        raise ValueError(\"HereAPI doesn't have data requested\")\n",
    "    except IndexError:\n",
    "        print(js)\n",
    "        raise ValueError(\"HereAPI doesn't have quality data\")\n",
    "        "
   ]
  },
  {
   "cell_type": "code",
   "execution_count": 4,
   "metadata": {},
   "outputs": [],
   "source": [
    "# User input event details\n",
    "# Format {event_id: ['Address City State ZIP', '00:00AM/PM', 'YYYY-MM-DD', 'Name of event']}\n",
    "EVENT_DICT = {181311:['102 Chamber Dr Anamosa, IA 52205','11:00AM','2020-01-03','anamosa'],\n",
    "              181312:['1712 W 4th St Waterloo, IA 50701','2:00PM','2020-01-03','waterloo'],\n",
    "              181316:['900 E Main St, Decorah, IA 52101','5:00PM','2020-01-03','decorah'],\n",
    "              181318:['1800 Clarke Dr Dubuque, IA 52001','11:00AM','2020-01-04','dubuque'],\n",
    "              181319:['705 F Ave Grundy Center, IA 50638','2:30PM','2020-01-04','grundy'],\n",
    "              181321:['308 S Pennsylvania Ave, Mason City, IA 50401','5:00PM','2020-01-04','mason'],\n",
    "              181323:['1900 Lakewood Dr Boone, IA 50036','10:00AM','2020-01-05','boone']\n",
    "             }\n",
    "\n",
    "# Output table\n",
    "OUTPUT_TABLE = 'bernie_nmarchio2.isoline_test'\n",
    "\n",
    "# Mode (options 'car' or 'pedestrian')\n",
    "transit_mode = ['car']\n",
    "\n",
    "# Max and min travel range in seconds (and increment of isoline series)\n",
    "max_range = 3600 # 60 minutes\n",
    "min_range = 300 # 5 minutes\n",
    "time_increment = 300 # 5 minutes\n",
    "isoline_resolution = 1000 # meters per pixel, recommended 1000 for 'car' and 100 for 'pedestrian'\n"
   ]
  },
  {
   "cell_type": "code",
   "execution_count": 5,
   "metadata": {},
   "outputs": [],
   "source": [
    "# Get isolines geometries and create table\n",
    "event_object = []\n",
    "event_gpd = gpd.GeoDataFrame()\n",
    "for i in EVENT_DICT.items():\n",
    "    event_coords = get_latlon(event_address=i[1][0].replace(' ','%20'))\n",
    "    hour_offset = get_offset(**event_coords)\n",
    "    timestamp = get_isotime(start_time=str(i[1][1]),\n",
    "                            event_date=str(i[1][2]),\n",
    "                            utc_offset=hour_offset)\n",
    "    for commute_mode in transit_mode:\n",
    "        for commute_time in range(min_range, max_range, time_increment):\n",
    "            if (commute_mode == 'pedestrian' and commute_time <= 1800) or commute_mode == 'car':\n",
    "                    isoline = get_isodata(lat=event_coords['Latitude'],\n",
    "                                          lon=event_coords['Longitude'],\n",
    "                                          trip_mode=commute_mode,\n",
    "                                          trip_duration=commute_time,\n",
    "                                          arrival_time=timestamp,\n",
    "                                          meters_per_pixel=isoline_resolution)\n",
    "                    iso_bbox = isoline.envelope\n",
    "                    search_geom = gpd.GeoDataFrame(geometry = iso_bbox)['geometry'].geometry\n",
    "                    search_array = [i for i in search_geom.geometry]\n",
    "                    x,y = search_array[0].exterior.coords.xy\n",
    "                    df = pd.DataFrame({'event_input':[i],\n",
    "                                       'event_id':[i[0]],\n",
    "                                       'event_address':[i[1][0]],\n",
    "                                       'event_latlon':[event_coords],\n",
    "                                       'event_time':[timestamp],\n",
    "                                       'trip_mode': [commute_mode],\n",
    "                                       'trip_duration_minutes': [commute_time/60],\n",
    "                                       'search_max_lat':[max(y)],\n",
    "                                       'search_min_lat':[min(y)],\n",
    "                                       'search_max_lon':[max(x)],\n",
    "                                       'search_min_lon':[min(x)]\n",
    "                                      })\n",
    "                    isoline_gdf = gpd.GeoDataFrame(df, geometry = isoline)\n",
    "                    isoline_gdf.crs = {'init':'epsg:4326'}\n",
    "                    event_gpd = pd.concat([event_gpd, isoline_gdf])\n"
   ]
  },
  {
   "cell_type": "code",
   "execution_count": 6,
   "metadata": {},
   "outputs": [
    {
     "data": {
      "text/html": [
       "<div>\n",
       "<style scoped>\n",
       "    .dataframe tbody tr th:only-of-type {\n",
       "        vertical-align: middle;\n",
       "    }\n",
       "\n",
       "    .dataframe tbody tr th {\n",
       "        vertical-align: top;\n",
       "    }\n",
       "\n",
       "    .dataframe thead th {\n",
       "        text-align: right;\n",
       "    }\n",
       "</style>\n",
       "<table border=\"1\" class=\"dataframe\">\n",
       "  <thead>\n",
       "    <tr style=\"text-align: right;\">\n",
       "      <th></th>\n",
       "      <th>event_input</th>\n",
       "      <th>event_id</th>\n",
       "      <th>event_address</th>\n",
       "      <th>event_latlon</th>\n",
       "      <th>event_time</th>\n",
       "      <th>trip_mode</th>\n",
       "      <th>trip_duration_minutes</th>\n",
       "      <th>search_max_lat</th>\n",
       "      <th>search_min_lat</th>\n",
       "      <th>search_max_lon</th>\n",
       "      <th>search_min_lon</th>\n",
       "      <th>geometry</th>\n",
       "    </tr>\n",
       "  </thead>\n",
       "  <tbody>\n",
       "    <tr>\n",
       "      <th>0</th>\n",
       "      <td>(181311, [102 Chamber Dr Anamosa, IA 52205, 11...</td>\n",
       "      <td>181311</td>\n",
       "      <td>102 Chamber Dr Anamosa, IA 52205</td>\n",
       "      <td>{'Latitude': 42.10527, 'Longitude': -91.26578}</td>\n",
       "      <td>2020-01-03T11:00:00-06:00</td>\n",
       "      <td>car</td>\n",
       "      <td>5.0</td>\n",
       "      <td>42.160034</td>\n",
       "      <td>42.039185</td>\n",
       "      <td>-91.213989</td>\n",
       "      <td>-91.315613</td>\n",
       "      <td>POLYGON ((-91.29913 42.08313, -91.29639 42.099...</td>\n",
       "    </tr>\n",
       "    <tr>\n",
       "      <th>0</th>\n",
       "      <td>(181311, [102 Chamber Dr Anamosa, IA 52205, 11...</td>\n",
       "      <td>181311</td>\n",
       "      <td>102 Chamber Dr Anamosa, IA 52205</td>\n",
       "      <td>{'Latitude': 42.10527, 'Longitude': -91.26578}</td>\n",
       "      <td>2020-01-03T11:00:00-06:00</td>\n",
       "      <td>car</td>\n",
       "      <td>10.0</td>\n",
       "      <td>42.209473</td>\n",
       "      <td>41.989746</td>\n",
       "      <td>-91.126099</td>\n",
       "      <td>-91.425476</td>\n",
       "      <td>POLYGON ((-91.40350 42.07764, -91.38428 42.077...</td>\n",
       "    </tr>\n",
       "    <tr>\n",
       "      <th>0</th>\n",
       "      <td>(181311, [102 Chamber Dr Anamosa, IA 52205, 11...</td>\n",
       "      <td>181311</td>\n",
       "      <td>102 Chamber Dr Anamosa, IA 52205</td>\n",
       "      <td>{'Latitude': 42.10527, 'Longitude': -91.26578}</td>\n",
       "      <td>2020-01-03T11:00:00-06:00</td>\n",
       "      <td>car</td>\n",
       "      <td>15.0</td>\n",
       "      <td>42.275391</td>\n",
       "      <td>41.923828</td>\n",
       "      <td>-91.032715</td>\n",
       "      <td>-91.513367</td>\n",
       "      <td>POLYGON ((-91.49139 42.05566, -91.47766 42.061...</td>\n",
       "    </tr>\n",
       "    <tr>\n",
       "      <th>0</th>\n",
       "      <td>(181311, [102 Chamber Dr Anamosa, IA 52205, 11...</td>\n",
       "      <td>181311</td>\n",
       "      <td>102 Chamber Dr Anamosa, IA 52205</td>\n",
       "      <td>{'Latitude': 42.10527, 'Longitude': -91.26578}</td>\n",
       "      <td>2020-01-03T11:00:00-06:00</td>\n",
       "      <td>car</td>\n",
       "      <td>20.0</td>\n",
       "      <td>42.297363</td>\n",
       "      <td>41.879883</td>\n",
       "      <td>-90.988770</td>\n",
       "      <td>-91.560059</td>\n",
       "      <td>POLYGON ((-91.54083 42.06116, -91.53259 42.072...</td>\n",
       "    </tr>\n",
       "    <tr>\n",
       "      <th>0</th>\n",
       "      <td>(181311, [102 Chamber Dr Anamosa, IA 52205, 11...</td>\n",
       "      <td>181311</td>\n",
       "      <td>102 Chamber Dr Anamosa, IA 52205</td>\n",
       "      <td>{'Latitude': 42.10527, 'Longitude': -91.26578}</td>\n",
       "      <td>2020-01-03T11:00:00-06:00</td>\n",
       "      <td>car</td>\n",
       "      <td>25.0</td>\n",
       "      <td>42.341309</td>\n",
       "      <td>41.835938</td>\n",
       "      <td>-90.922852</td>\n",
       "      <td>-91.625977</td>\n",
       "      <td>POLYGON ((-91.60675 42.03918, -91.60400 42.055...</td>\n",
       "    </tr>\n",
       "  </tbody>\n",
       "</table>\n",
       "</div>"
      ],
      "text/plain": [
       "                                         event_input  event_id  \\\n",
       "0  (181311, [102 Chamber Dr Anamosa, IA 52205, 11...    181311   \n",
       "0  (181311, [102 Chamber Dr Anamosa, IA 52205, 11...    181311   \n",
       "0  (181311, [102 Chamber Dr Anamosa, IA 52205, 11...    181311   \n",
       "0  (181311, [102 Chamber Dr Anamosa, IA 52205, 11...    181311   \n",
       "0  (181311, [102 Chamber Dr Anamosa, IA 52205, 11...    181311   \n",
       "\n",
       "                      event_address  \\\n",
       "0  102 Chamber Dr Anamosa, IA 52205   \n",
       "0  102 Chamber Dr Anamosa, IA 52205   \n",
       "0  102 Chamber Dr Anamosa, IA 52205   \n",
       "0  102 Chamber Dr Anamosa, IA 52205   \n",
       "0  102 Chamber Dr Anamosa, IA 52205   \n",
       "\n",
       "                                     event_latlon                 event_time  \\\n",
       "0  {'Latitude': 42.10527, 'Longitude': -91.26578}  2020-01-03T11:00:00-06:00   \n",
       "0  {'Latitude': 42.10527, 'Longitude': -91.26578}  2020-01-03T11:00:00-06:00   \n",
       "0  {'Latitude': 42.10527, 'Longitude': -91.26578}  2020-01-03T11:00:00-06:00   \n",
       "0  {'Latitude': 42.10527, 'Longitude': -91.26578}  2020-01-03T11:00:00-06:00   \n",
       "0  {'Latitude': 42.10527, 'Longitude': -91.26578}  2020-01-03T11:00:00-06:00   \n",
       "\n",
       "  trip_mode  trip_duration_minutes  search_max_lat  search_min_lat  \\\n",
       "0       car                    5.0       42.160034       42.039185   \n",
       "0       car                   10.0       42.209473       41.989746   \n",
       "0       car                   15.0       42.275391       41.923828   \n",
       "0       car                   20.0       42.297363       41.879883   \n",
       "0       car                   25.0       42.341309       41.835938   \n",
       "\n",
       "   search_max_lon  search_min_lon  \\\n",
       "0      -91.213989      -91.315613   \n",
       "0      -91.126099      -91.425476   \n",
       "0      -91.032715      -91.513367   \n",
       "0      -90.988770      -91.560059   \n",
       "0      -90.922852      -91.625977   \n",
       "\n",
       "                                            geometry  \n",
       "0  POLYGON ((-91.29913 42.08313, -91.29639 42.099...  \n",
       "0  POLYGON ((-91.40350 42.07764, -91.38428 42.077...  \n",
       "0  POLYGON ((-91.49139 42.05566, -91.47766 42.061...  \n",
       "0  POLYGON ((-91.54083 42.06116, -91.53259 42.072...  \n",
       "0  POLYGON ((-91.60675 42.03918, -91.60400 42.055...  "
      ]
     },
     "execution_count": 6,
     "metadata": {},
     "output_type": "execute_result"
    }
   ],
   "source": [
    "event_gpd.head(n=5)"
   ]
  },
  {
   "cell_type": "code",
   "execution_count": 7,
   "metadata": {},
   "outputs": [
    {
     "data": {
      "text/plain": [
       "<matplotlib.axes._subplots.AxesSubplot at 0x7ff7f9ff47f0>"
      ]
     },
     "execution_count": 7,
     "metadata": {},
     "output_type": "execute_result"
    },
    {
     "data": {
      "image/png": "[encoded data removed]",
      "text/plain": [
       "<Figure size 432x288 with 1 Axes>"
      ]
     },
     "metadata": {
      "needs_background": "light"
     },
     "output_type": "display_data"
    }
   ],
   "source": [
    "event_gpd.plot()"
   ]
  },
  {
   "cell_type": "code",
   "execution_count": 8,
   "metadata": {},
   "outputs": [
    {
     "data": {
      "text/plain": [
       "{'created_at': '2020-01-02T02:20:51.000Z',\n",
       " 'error': None,\n",
       " 'finished_at': '2020-01-02T02:21:44.000Z',\n",
       " 'id': 196353401,\n",
       " 'started_at': '2020-01-02T02:20:51.000Z',\n",
       " 'state': 'succeeded'}"
      ]
     },
     "execution_count": 8,
     "metadata": {},
     "output_type": "execute_result"
    }
   ],
   "source": [
    "# Upload isoline geometries table to platform\n",
    "create_geojson_df = civis.io.dataframe_to_civis(df=event_gpd,\n",
    "                                                database='Bernie 2020', \n",
    "                                                table= f'{OUTPUT_TABLE}_geometries', \n",
    "                                                existing_table_rows='drop')\n",
    "create_geojson_df.result()"
   ]
  },
  {
   "cell_type": "code",
   "execution_count": 9,
   "metadata": {},
   "outputs": [],
   "source": [
    "# Assemble where SQL for voterfile and event isoline table\n",
    "search_area_list = []\n",
    "for i in event_gpd['event_id'].unique():\n",
    "    max_of_search_max_lat = event_gpd[(event_gpd[\"event_id\"] == i)]['search_max_lat'].max()\n",
    "    min_of_search_min_lat = event_gpd[(event_gpd[\"event_id\"] == i)]['search_min_lat'].min()\n",
    "    max_of_search_max_lon = event_gpd[(event_gpd[\"event_id\"] == i)]['search_max_lon'].max()\n",
    "    min_of_search_min_lon = event_gpd[(event_gpd[\"event_id\"] == i)]['search_min_lon'].min()\n",
    "    where_sql_search_area = f''' where (v_latitude >= {min_of_search_min_lat} AND v_latitude <= {max_of_search_max_lat}) AND (v_longitude >= {min_of_search_min_lon} AND v_longitude <= {max_of_search_max_lon})'''\n",
    "    search_area = {'event_id':i,\n",
    "                   'where_sql':where_sql_search_area}\n",
    "    search_area_list.append(search_area)\n",
    "    "
   ]
  },
  {
   "cell_type": "code",
   "execution_count": 61,
   "metadata": {},
   "outputs": [],
   "source": [
    "# Assemble full SQL query to intersect voterfile with isolines\n",
    "isoline_base_sql = []\n",
    "for i in range(len(search_area_list)):\n",
    "    where_sql_event = search_area_list[i]['event_id']\n",
    "    where_sql_person = search_area_list[i]['where_sql']\n",
    "    base_query =  base_query = f'''-- Query for event_id = {where_sql_event}\n",
    "    (select * from (select person_id, event_id, event_input, trip_mode, trip_duration_minutes, row_number() over (partition by person_id order by trip_duration_minutes asc) as travel_rank from (select person_id, event_id, event_input, trip_mode, min(trip_duration_minutes) as trip_duration_minutes from (select person_id, event_id, event_input, trip_mode, trip_duration_minutes, ST_Within(voter,event) from \n",
    "    (select person_id, ST_SetSRID(ST_MakePoint(v_longitude, v_latitude),4326) as voter from bernie_data_commons.rainbow_analytics_frame {where_sql_person}) a, \n",
    "    (select event_id, event_input, trip_mode, trip_duration_minutes, ST_GeomFromText(geometry,4326) as event from (select * from {OUTPUT_TABLE}_geometries where event_id = {where_sql_event} )) b) \n",
    "    where st_within is true group by 1,2,3,4)) where travel_rank = 1) '''\n",
    "    isoline_base_sql.append(base_query)\n",
    "    \n",
    "isoline_calculation_sql = \"\\nunion all\\n\".join([\" {query} \".format(query=q) for q in isoline_base_sql])"
   ]
  },
  {
   "cell_type": "code",
   "execution_count": 62,
   "metadata": {},
   "outputs": [],
   "source": [
    "create_output_table = f'''\n",
    "DROP TABLE IF EXISTS {OUTPUT_TABLE};\n",
    "CREATE TABLE {OUTPUT_TABLE}\n",
    "  DISTKEY (person_id) \n",
    "  AS (select * from \n",
    "  {isoline_calculation_sql} \n",
    "  );'''"
   ]
  },
  {
   "cell_type": "code",
   "execution_count": 63,
   "metadata": {},
   "outputs": [
    {
     "name": "stdout",
     "output_type": "stream",
     "text": [
      "\n",
      "DROP TABLE IF EXISTS bernie_nmarchio2.isoline_test;\n",
      "CREATE TABLE bernie_nmarchio2.isoline_test\n",
      "  DISTKEY (person_id) \n",
      "  AS (select * from \n",
      "   -- Query for event_id = 181311\n",
      "    (select * from (select person_id, event_id, event_input, trip_mode, trip_duration_minutes, row_number() over (partition by person_id order by trip_duration_minutes asc) as travel_rank from (select person_id, event_id, event_input, trip_mode, min(trip_duration_minutes) as trip_duration_minutes from (select person_id, event_id, event_input, trip_mode, trip_duration_minutes, ST_Within(voter,event) from \n",
      "    (select person_id, ST_SetSRID(ST_MakePoint(v_longitude, v_latitude),4326) as voter from bernie_data_commons.rainbow_analytics_frame  where (v_latitude >= 41.7919922 AND v_latitude <= 42.4072266) AND (v_longitude >= -91.6891479 AND v_longitude <= -90.8404541)) a, \n",
      "    (select event_id, event_input, trip_mode, trip_duration_minutes, ST_GeomFromText(geometry,4326) as event from (select * from bernie_nmarchio2.isoline_test_geometries where event_id = 181311 )) b) \n",
      "    where st_within is true group by 1,2,3,4)) where travel_rank = 1)  \n",
      "union all\n",
      " -- Query for event_id = 181312\n",
      "    (select * from (select person_id, event_id, event_input, trip_mode, trip_duration_minutes, row_number() over (partition by person_id order by trip_duration_minutes asc) as travel_rank from (select person_id, event_id, event_input, trip_mode, min(trip_duration_minutes) as trip_duration_minutes from (select person_id, event_id, event_input, trip_mode, trip_duration_minutes, ST_Within(voter,event) from \n",
      "    (select person_id, ST_SetSRID(ST_MakePoint(v_longitude, v_latitude),4326) as voter from bernie_data_commons.rainbow_analytics_frame  where (v_latitude >= 42.1655273 AND v_latitude <= 42.8192139) AND (v_longitude >= -92.8756714 AND v_longitude <= -91.8676758)) a, \n",
      "    (select event_id, event_input, trip_mode, trip_duration_minutes, ST_GeomFromText(geometry,4326) as event from (select * from bernie_nmarchio2.isoline_test_geometries where event_id = 181312 )) b) \n",
      "    where st_within is true group by 1,2,3,4)) where travel_rank = 1)   \n",
      "  );\n"
     ]
    }
   ],
   "source": [
    "print(create_output_table)"
   ]
  },
  {
   "cell_type": "code",
   "execution_count": 64,
   "metadata": {},
   "outputs": [
    {
     "data": {
      "text/plain": [
       "'succeeded'"
      ]
     },
     "execution_count": 64,
     "metadata": {},
     "output_type": "execute_result"
    }
   ],
   "source": [
    "output_table = civis.io.query_civis(sql=create_output_table, database='Bernie 2020')\n",
    "output_table.result().state\n"
   ]
  },
  {
   "cell_type": "code",
   "execution_count": null,
   "metadata": {},
   "outputs": [],
   "source": [
    "\n",
    "\n"
   ]
  }
 ],
 "metadata": {
  "kernelspec": {
   "display_name": "Python 3",
   "language": "python",
   "name": "python3"
  },
  "language_info": {
   "codemirror_mode": {
    "name": "ipython",
    "version": 3
   },
   "file_extension": ".py",
   "mimetype": "text/x-python",
   "name": "python",
   "nbconvert_exporter": "python",
   "pygments_lexer": "ipython3",
   "version": "3.7.1"
  }
 },
 "nbformat": 4,
 "nbformat_minor": 2
}
